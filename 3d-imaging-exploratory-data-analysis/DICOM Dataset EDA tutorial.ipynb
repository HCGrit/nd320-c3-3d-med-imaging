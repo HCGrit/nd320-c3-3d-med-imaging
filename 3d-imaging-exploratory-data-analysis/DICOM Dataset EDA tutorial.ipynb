{
 "cells": [
  {
   "cell_type": "markdown",
   "metadata": {},
   "source": [
    "-------------\n",
    "# DICOM Dataset EDA"
   ]
  },
  {
   "cell_type": "markdown",
   "metadata": {},
   "source": [
    "We will discuss some of the methods that could be applied in dataset analysis, when you are dealing with large multitude of 3D volumes. A lot of the same principles could be applied here as were used with individual volume EDA.\n",
    "\n",
    "In this case we will look at a collection of images and try to figure out what we are looking at. We will look at some of the techniques that might help us collect relevant meta information."
   ]
  },
  {
   "cell_type": "code",
   "execution_count": 1,
   "metadata": {},
   "outputs": [],
   "source": [
    "import pydicom\n",
    "import matplotlib.pyplot as plt\n",
    "import matplotlib.cm as cm\n",
    "import numpy.ma as ma\n",
    "import numpy as np\n",
    "import os"
   ]
  },
  {
   "cell_type": "markdown",
   "metadata": {},
   "source": [
    "Let us load all series metadata, but not pixels"
   ]
  },
  {
   "cell_type": "code",
   "execution_count": 3,
   "metadata": {},
   "outputs": [],
   "source": [
    "path = r\"data\"\n",
    "series = np.array([[(os.path.join(dp, f), pydicom.dcmread(os.path.join(dp, f), stop_before_pixels = True)) for f in files]\n",
    "                   for dp,_,files in os.walk(path) if len(files) != 0])\n",
    "\n"
   ]
  },
  {
   "cell_type": "code",
   "execution_count": 4,
   "metadata": {},
   "outputs": [
    {
     "data": {
      "text/plain": [
       "(76,)"
      ]
     },
     "execution_count": 4,
     "metadata": {},
     "output_type": "execute_result"
    }
   ],
   "source": [
    "series.shape"
   ]
  },
  {
   "cell_type": "markdown",
   "metadata": {},
   "source": [
    "Let's print a few, see what we've got:"
   ]
  },
  {
   "cell_type": "code",
   "execution_count": 5,
   "metadata": {},
   "outputs": [
    {
     "data": {
      "text/plain": [
       "Dataset.file_meta -------------------------------\n",
       "(0002, 0000) File Meta Information Group Length  UL: 196\n",
       "(0002, 0001) File Meta Information Version       OB: b'\\x00\\x01'\n",
       "(0002, 0002) Media Storage SOP Class UID         UI: MR Image Storage\n",
       "(0002, 0003) Media Storage SOP Instance UID      UI: 1.3.6.1.4.1.14519.5.2.1.4429.7055.212678899297267240422481182702\n",
       "(0002, 0010) Transfer Syntax UID                 UI: Explicit VR Little Endian\n",
       "(0002, 0012) Implementation Class UID            UI: 1.2.40.0.13.1.1.1\n",
       "(0002, 0013) Implementation Version Name         SH: 'dcm4che-1.4.35'\n",
       "-------------------------------------------------\n",
       "(0008, 0005) Specific Character Set              CS: 'ISO_IR 100'\n",
       "(0008, 0008) Image Type                          CS: ['ORIGINAL', 'PRIMARY', 'M', 'NORM', 'DIS2D']\n",
       "(0008, 0012) Instance Creation Date              DA: '19920402'\n",
       "(0008, 0013) Instance Creation Time              TM: '091823.390000'\n",
       "(0008, 0016) SOP Class UID                       UI: MR Image Storage\n",
       "(0008, 0018) SOP Instance UID                    UI: 1.3.6.1.4.1.14519.5.2.1.4429.7055.212678899297267240422481182702\n",
       "(0008, 0020) Study Date                          DA: '19920402'\n",
       "(0008, 0021) Series Date                         DA: '19920402'\n",
       "(0008, 0022) Acquisition Date                    DA: '19920402'\n",
       "(0008, 0023) Content Date                        DA: '19920402'\n",
       "(0008, 0030) Study Time                          TM: '085321.125000'\n",
       "(0008, 0031) Series Time                         TM: '091823.359000'\n",
       "(0008, 0032) Acquisition Time                    TM: '091547.005000'\n",
       "(0008, 0033) Content Time                        TM: '091823.390000'\n",
       "(0008, 0050) Accession Number                    SH: '5686274134839343'\n",
       "(0008, 0060) Modality                            CS: 'MR'\n",
       "(0008, 0070) Manufacturer                        LO: 'SIEMENS'\n",
       "(0008, 0090) Referring Physician's Name          PN: ''\n",
       "(0008, 1030) Study Description                   LO: 'FH-HEAD^Brain Protocols'\n",
       "(0008, 103e) Series Description                  LO: 'T1post'\n",
       "(0008, 1090) Manufacturer's Model Name           LO: 'Verio'\n",
       "(0008, 1140)  Referenced Image Sequence   3 item(s) ---- \n",
       "   (0008, 1150) Referenced SOP Class UID            UI: MR Image Storage\n",
       "   (0008, 1155) Referenced SOP Instance UID         UI: 1.3.6.1.4.1.14519.5.2.1.4429.7055.331846621914089755277982759291\n",
       "   ---------\n",
       "   (0008, 1150) Referenced SOP Class UID            UI: MR Image Storage\n",
       "   (0008, 1155) Referenced SOP Instance UID         UI: 1.3.6.1.4.1.14519.5.2.1.4429.7055.119748453602968618792965389423\n",
       "   ---------\n",
       "   (0008, 1150) Referenced SOP Class UID            UI: MR Image Storage\n",
       "   (0008, 1155) Referenced SOP Instance UID         UI: 1.3.6.1.4.1.14519.5.2.1.4429.7055.320230819474970716419167382910\n",
       "   ---------\n",
       "(0010, 0010) Patient's Name                      PN: 'PGBM-001'\n",
       "(0010, 0020) Patient ID                          LO: 'PGBM-001'\n",
       "(0010, 0030) Patient's Birth Date                DA: ''\n",
       "(0010, 0040) Patient's Sex                       CS: 'M'\n",
       "(0010, 1010) Patient's Age                       AS: '052Y'\n",
       "(0010, 1030) Patient's Weight                    DS: \"170.5507528152\"\n",
       "(0012, 0062) Patient Identity Removed            CS: 'YES'\n",
       "(0012, 0063) De-identification Method            LO: 'Per DICOM PS 3.15 AnnexE. Details in 0012,0064'\n",
       "(0012, 0064)  De-identification Method Code Sequence   8 item(s) ---- \n",
       "   (0008, 0100) Code Value                          SH: '113100'\n",
       "   (0008, 0102) Coding Scheme Designator            SH: 'DCM'\n",
       "   (0008, 0104) Code Meaning                        LO: 'Basic Application Confidentiality Profile'\n",
       "   ---------\n",
       "   (0008, 0100) Code Value                          SH: '113101'\n",
       "   (0008, 0102) Coding Scheme Designator            SH: 'DCM'\n",
       "   (0008, 0104) Code Meaning                        LO: 'Clean Pixel Data Option'\n",
       "   ---------\n",
       "   (0008, 0100) Code Value                          SH: '113104'\n",
       "   (0008, 0102) Coding Scheme Designator            SH: 'DCM'\n",
       "   (0008, 0104) Code Meaning                        LO: 'Clean Structured Content Option'\n",
       "   ---------\n",
       "   (0008, 0100) Code Value                          SH: '113105'\n",
       "   (0008, 0102) Coding Scheme Designator            SH: 'DCM'\n",
       "   (0008, 0104) Code Meaning                        LO: 'Clean Descriptors Option'\n",
       "   ---------\n",
       "   (0008, 0100) Code Value                          SH: '113107'\n",
       "   (0008, 0102) Coding Scheme Designator            SH: 'DCM'\n",
       "   (0008, 0104) Code Meaning                        LO: 'Retain Longitudinal Temporal Information Modified Dates Option'\n",
       "   ---------\n",
       "   (0008, 0100) Code Value                          SH: '113108'\n",
       "   (0008, 0102) Coding Scheme Designator            SH: 'DCM'\n",
       "   (0008, 0104) Code Meaning                        LO: 'Retain Patient Characteristics Option'\n",
       "   ---------\n",
       "   (0008, 0100) Code Value                          SH: '113109'\n",
       "   (0008, 0102) Coding Scheme Designator            SH: 'DCM'\n",
       "   (0008, 0104) Code Meaning                        LO: 'Retain Device Identity Option'\n",
       "   ---------\n",
       "   (0008, 0100) Code Value                          SH: '113111'\n",
       "   (0008, 0102) Coding Scheme Designator            SH: 'DCM'\n",
       "   (0008, 0104) Code Meaning                        LO: 'Retain Safe Private Option'\n",
       "   ---------\n",
       "(0013, 0010) Private Creator                     LO: 'CTP'\n",
       "(0013, 1010) Private tag data                    LO: 'Brain-Tumor-Progression'\n",
       "(0013, 1013) Private tag data                    LO: '44297055'\n",
       "(0018, 0010) Contrast/Bolus Agent                LO: '10cc Multihance'\n",
       "(0018, 0015) Body Part Examined                  CS: 'BRAIN'\n",
       "(0018, 0020) Scanning Sequence                   CS: 'SE'\n",
       "(0018, 0021) Sequence Variant                    CS: 'SP'\n",
       "(0018, 0022) Scan Options                        CS: ''\n",
       "(0018, 0023) MR Acquisition Type                 CS: '2D'\n",
       "(0018, 0024) Sequence Name                       SH: '*se2d1'\n",
       "(0018, 0025) Angio Flag                          CS: 'N'\n",
       "(0018, 0050) Slice Thickness                     DS: \"5.0\"\n",
       "(0018, 0080) Repetition Time                     DS: \"600.0\"\n",
       "(0018, 0081) Echo Time                           DS: \"8.9\"\n",
       "(0018, 0083) Number of Averages                  DS: \"1.0\"\n",
       "(0018, 0084) Imaging Frequency                   DS: \"123.191547\"\n",
       "(0018, 0085) Imaged Nucleus                      SH: '1H'\n",
       "(0018, 0086) Echo Number(s)                      IS: \"1\"\n",
       "(0018, 0087) Magnetic Field Strength             DS: \"3.0\"\n",
       "(0018, 0088) Spacing Between Slices              DS: \"6.5\"\n",
       "(0018, 0089) Number of Phase Encoding Steps      IS: \"260\"\n",
       "(0018, 0091) Echo Train Length                   IS: \"1\"\n",
       "(0018, 0093) Percent Sampling                    DS: \"100.0\"\n",
       "(0018, 0094) Percent Phase Field of View         DS: \"81.25\"\n",
       "(0018, 0095) Pixel Bandwidth                     DS: \"300.0\"\n",
       "(0018, 1020) Software Versions                   LO: 'syngo MR B17'\n",
       "(0018, 1030) Protocol Name                       LO: 'B T1 AXIAL SE +'\n",
       "(0018, 1041) Contrast/Bolus Volume               DS: \"0.0\"\n",
       "(0018, 1044) Contrast/Bolus Total Dose           DS: \"0.0\"\n",
       "(0018, 1048) Contrast/Bolus Ingredient           CS: ''\n",
       "(0018, 1049) Contrast/Bolus Ingredient Concentra DS: \"0.0\"\n",
       "(0018, 1251) Transmit Coil Name                  SH: 'Body'\n",
       "(0018, 1310) Acquisition Matrix                  US: [0, 320, 260, 0]\n",
       "(0018, 1312) In-plane Phase Encoding Direction   CS: 'ROW'\n",
       "(0018, 1314) Flip Angle                          DS: \"75.0\"\n",
       "(0018, 1315) Variable Flip Angle Flag            CS: 'N'\n",
       "(0018, 1316) SAR                                 DS: \"0.16400433528246\"\n",
       "(0018, 1318) dB/dt                               DS: \"0.0\"\n",
       "(0018, 5100) Patient Position                    CS: 'HFS'\n",
       "(0019, 0010) Private Creator                     LO: 'SIEMENS MR HEADER'\n",
       "(0019, 100b) [SliceMeasurementDuration]          DS: \"156025.0\"\n",
       "(0019, 100f) [GradientMode]                      SH: 'Fast'\n",
       "(0019, 1011) [FlowCompensation]                  SH: 'No'\n",
       "(0019, 1012) [TablePositionOrigin]               SL: [0, 0, -1055]\n",
       "(0019, 1013) [ImaAbsTablePosition]               SL: [0, 0, -1056]\n",
       "(0019, 1014) [ImaRelTablePosition]               IS: [0, 0, -1]\n",
       "(0019, 1015) [SlicePosition_PCS]                 FD: [-90.14351527, -97.56863657, 48.31662081]\n",
       "(0019, 1016) [TimeAfterStart]                    DS: \"0.2025\"\n",
       "(0019, 1017) [SliceResolution]                   DS: \"1.0\"\n",
       "(0019, 1018) [RealDwellTime]                     IS: \"5200\"\n",
       "(0020, 000d) Study Instance UID                  UI: 1.3.6.1.4.1.14519.5.2.1.4429.7055.304625516276205756661744279896\n",
       "(0020, 000e) Series Instance UID                 UI: 1.3.6.1.4.1.14519.5.2.1.4429.7055.197322826283777183783875680644\n",
       "(0020, 0010) Study ID                            SH: ''\n",
       "(0020, 0011) Series Number                       IS: \"11\"\n",
       "(0020, 0012) Acquisition Number                  IS: \"1\"\n",
       "(0020, 0013) Instance Number                     IS: \"18\"\n",
       "(0020, 0032) Image Position (Patient)            DS: [-90.143515272892, -97.568636566892, 47.316620808119]\n",
       "(0020, 0037) Image Orientation (Patient)         DS: [0.99808053354361, 0.01024095353456, 0.06107676671215, -1.68246e-011, 0.98623243279598, -0.1653650159536]\n",
       "(0020, 0052) Frame of Reference UID              UI: 1.3.6.1.4.1.14519.5.2.1.4429.7055.234636093837714637328935526796\n",
       "(0020, 1040) Position Reference Indicator        LO: ''\n",
       "(0020, 1041) Slice Location                      DS: \"36.054676506731\"\n",
       "(0028, 0002) Samples per Pixel                   US: 1\n",
       "(0028, 0004) Photometric Interpretation          CS: 'MONOCHROME2'\n",
       "(0028, 0010) Rows                                US: 320\n",
       "(0028, 0011) Columns                             US: 260\n",
       "(0028, 0030) Pixel Spacing                       DS: [0.6875, 0.6875]\n",
       "(0028, 0100) Bits Allocated                      US: 16\n",
       "(0028, 0101) Bits Stored                         US: 12\n",
       "(0028, 0102) High Bit                            US: 11\n",
       "(0028, 0103) Pixel Representation                US: 0\n",
       "(0028, 0106) Smallest Image Pixel Value          US: 0\n",
       "(0028, 0107) Largest Image Pixel Value           US: 1432\n",
       "(0028, 0303) Longitudinal Temporal Information M CS: 'MODIFIED'\n",
       "(0028, 1050) Window Center                       DS: \"567.0\"\n",
       "(0028, 1051) Window Width                        DS: \"1195.0\"\n",
       "(0028, 1055) Window Center & Width Explanation   LO: 'Algo1'\n",
       "(0029, 0010) Private Creator                     LO: 'SIEMENS CSA HEADER'\n",
       "(0029, 0011) Private Creator                     LO: 'SIEMENS MEDCOM HEADER2'\n",
       "(0029, 1160) [Series Workflow Status]            LO: 'com'\n",
       "(0032, 1060) Requested Procedure Description     LO: 'MR RCBV SEQUENCE FH'\n",
       "(0040, 0244) Performed Procedure Step Start Date DA: '19920402'\n",
       "(0040, 0245) Performed Procedure Step Start Time TM: '085321.203000'\n",
       "(0040, 0254) Performed Procedure Step Descriptio LO: 'MR RCBV SEQUENCE FH'\n",
       "(0051, 0010) Private Creator                     LO: 'SIEMENS MR HEADER'"
      ]
     },
     "execution_count": 5,
     "metadata": {},
     "output_type": "execute_result"
    }
   ],
   "source": [
    "series[0][0][1]"
   ]
  },
  {
   "cell_type": "markdown",
   "metadata": {},
   "source": [
    "*Looks like we have MR data*  \n",
    "*Looks like we can rely on patient IDs*"
   ]
  },
  {
   "cell_type": "markdown",
   "metadata": {},
   "source": [
    "How many total files"
   ]
  },
  {
   "cell_type": "code",
   "execution_count": null,
   "metadata": {},
   "outputs": [],
   "source": [
    "instances = [f for l in series for f in l]\n",
    "len(instances)"
   ]
  },
  {
   "cell_type": "markdown",
   "metadata": {},
   "source": [
    "How many patients?"
   ]
  },
  {
   "cell_type": "code",
   "execution_count": null,
   "metadata": {},
   "outputs": [],
   "source": [
    "patient_ids = np.unique([inst[1].PatientID for inst in instances])\n",
    "len(patient_ids)"
   ]
  },
  {
   "cell_type": "markdown",
   "metadata": {},
   "source": [
    "*Great - no errors hence all instances have the PatientID tag, and looks like we can rely on it*"
   ]
  },
  {
   "cell_type": "markdown",
   "metadata": {},
   "source": [
    "How many total series (i.e. 3D volumes)?"
   ]
  },
  {
   "cell_type": "code",
   "execution_count": null,
   "metadata": {},
   "outputs": [],
   "source": [
    "len(series)"
   ]
  },
  {
   "cell_type": "markdown",
   "metadata": {},
   "source": [
    "What is the relationship between patients, studies and series?"
   ]
  },
  {
   "cell_type": "code",
   "execution_count": null,
   "metadata": {},
   "outputs": [],
   "source": [
    "# How many studies?\n",
    "\n",
    "studies = {}\n",
    "\n",
    "for s in series:\n",
    "    studies.setdefault(s[0][1].StudyInstanceUID, []).append(s)   "
   ]
  },
  {
   "cell_type": "code",
   "execution_count": null,
   "metadata": {},
   "outputs": [],
   "source": [
    "len(studies)"
   ]
  },
  {
   "cell_type": "markdown",
   "metadata": {},
   "source": [
    "Let's see how many studies per patient"
   ]
  },
  {
   "cell_type": "code",
   "execution_count": null,
   "metadata": {},
   "outputs": [],
   "source": [
    "[len([st for st in studies.values() if st[0][0][1].PatientID == p]) for p in patient_ids]"
   ]
  },
  {
   "cell_type": "markdown",
   "metadata": {},
   "source": [
    "*Nice, all even. Let's look at directory on the file system.*  \n",
    "*Looks like 2 points in time per patient*"
   ]
  },
  {
   "cell_type": "code",
   "execution_count": null,
   "metadata": {},
   "outputs": [],
   "source": [
    "# Let's see how many series per study\n",
    "\n",
    "series_per_study = [(len(sr), sr[0][0][1].PatientID) for sr in studies.values()]\n",
    "series_per_study"
   ]
  },
  {
   "cell_type": "markdown",
   "metadata": {},
   "source": [
    "Let's take a quick glimpse at that outlier on the file system. \n",
    "\n",
    "- seems like it's missing some sequences"
   ]
  },
  {
   "cell_type": "markdown",
   "metadata": {},
   "source": [
    "Finally, how many images per series:"
   ]
  },
  {
   "cell_type": "code",
   "execution_count": null,
   "metadata": {},
   "outputs": [],
   "source": [
    "img_per_series = [len(s) for s in series]\n",
    "print(img_per_series)"
   ]
  },
  {
   "cell_type": "markdown",
   "metadata": {},
   "source": [
    "*Nice, no outliers*"
   ]
  },
  {
   "cell_type": "markdown",
   "metadata": {},
   "source": [
    "Let's look at spacing and in-plane resolution:"
   ]
  },
  {
   "cell_type": "code",
   "execution_count": null,
   "metadata": {},
   "outputs": [],
   "source": [
    "res = {}\n",
    "spc = {}\n",
    "thck = {}\n",
    "\n",
    "for sr in series:\n",
    "    dcm = sr[0][1]\n",
    "    key = str(dcm.PixelSpacing)\n",
    "    spc.setdefault(key, [])\n",
    "    spc[key].append((dcm.PatientID, dcm.StudyDescription, dcm.StudyDate, dcm.SeriesDescription))\n",
    "    \n",
    "    key = str((dcm.Rows, dcm.Columns))\n",
    "    res.setdefault(key, [])\n",
    "    res[key].append((dcm.PatientID, dcm.StudyDescription, dcm.StudyDate, dcm.SeriesDescription))\n",
    "    \n",
    "    key = str(dcm.SliceThickness)\n",
    "    thck.setdefault(key, [])\n",
    "    thck[key].append((dcm.PatientID, dcm.StudyDescription, dcm.StudyDate, dcm.SeriesDescription))\n",
    "    \n"
   ]
  },
  {
   "cell_type": "markdown",
   "metadata": {},
   "source": [
    "Let's look at slice thickness"
   ]
  },
  {
   "cell_type": "code",
   "execution_count": null,
   "metadata": {},
   "outputs": [],
   "source": [
    "thck.keys()"
   ]
  },
  {
   "cell_type": "markdown",
   "metadata": {},
   "source": [
    "*Great, all consistent*\n",
    "\n",
    "Let's look at pixel spacing"
   ]
  },
  {
   "cell_type": "code",
   "execution_count": null,
   "metadata": {},
   "outputs": [],
   "source": [
    "spc.keys()"
   ]
  },
  {
   "cell_type": "markdown",
   "metadata": {},
   "source": [
    "*Not very consistent, let's try to see what is going on*"
   ]
  },
  {
   "cell_type": "code",
   "execution_count": null,
   "metadata": {
    "scrolled": true
   },
   "outputs": [],
   "source": [
    "spc"
   ]
  },
  {
   "cell_type": "markdown",
   "metadata": {},
   "source": [
    "*So looks like there is a slight discrepancy among T1/T2 series. Note to self - make sure to resample if I'm using them.  \n",
    "Also, seems that some sequences have tighter pixels than others. If I'm using those, need to make sure resampling is meaningful*"
   ]
  },
  {
   "cell_type": "markdown",
   "metadata": {},
   "source": [
    "Let's look at in-plane resolution"
   ]
  },
  {
   "cell_type": "code",
   "execution_count": null,
   "metadata": {
    "scrolled": true
   },
   "outputs": [],
   "source": [
    "res.keys()"
   ]
  },
  {
   "cell_type": "markdown",
   "metadata": {},
   "source": [
    "*Not a lot of variety, but clearly some seq types are high-res, need to see what's up*"
   ]
  },
  {
   "cell_type": "code",
   "execution_count": null,
   "metadata": {
    "scrolled": true
   },
   "outputs": [],
   "source": [
    "res"
   ]
  },
  {
   "cell_type": "markdown",
   "metadata": {},
   "source": [
    "Now let's visualize some of those images and see if the series align with each other"
   ]
  },
  {
   "cell_type": "code",
   "execution_count": null,
   "metadata": {},
   "outputs": [],
   "source": [
    "# Let's try to see how images from same series stack w each other. We might want to use multiple\n",
    "# input channels for our problem\n",
    "\n",
    "# Remember, though, that we don't have the pixel data? Let's load it properly:\n",
    "\n",
    "seq1 = r\"PGBM-003\\10-17-1995-MR RCBV SEQUENCE-57198\\34911-T1prereg-46949\"\n",
    "t1_slices = [pydicom.dcmread(os.path.join(path, seq1, f)) for f in os.listdir(os.path.join(path, seq1))]\n",
    "t1_slices.sort(key = lambda inst: int(inst.ImagePositionPatient[2]))\n",
    "\n",
    "seq2 = r\"PGBM-003\\10-17-1995-MR RCBV SEQUENCE-57198\\36471-FLAIRreg-02052\"\n",
    "flair_slices = [pydicom.dcmread(os.path.join(path, seq2, f)) for f in os.listdir(os.path.join(path, seq2))]\n",
    "flair_slices.sort(key = lambda inst: int(inst.ImagePositionPatient[2]))"
   ]
  },
  {
   "cell_type": "code",
   "execution_count": null,
   "metadata": {},
   "outputs": [],
   "source": [
    "# t2_slices[0]"
   ]
  },
  {
   "cell_type": "code",
   "execution_count": null,
   "metadata": {},
   "outputs": [],
   "source": [
    "# flair_slices[0]"
   ]
  },
  {
   "cell_type": "code",
   "execution_count": null,
   "metadata": {},
   "outputs": [],
   "source": [
    "t1 = np.stack([s.pixel_array for s in t1_slices])\n",
    "flair = np.stack([s.pixel_array for s in flair_slices])"
   ]
  },
  {
   "cell_type": "code",
   "execution_count": null,
   "metadata": {},
   "outputs": [],
   "source": [
    "[ipp.ImagePositionPatient for ipp in t1_slices]"
   ]
  },
  {
   "cell_type": "code",
   "execution_count": null,
   "metadata": {
    "scrolled": true
   },
   "outputs": [],
   "source": [
    "[ipp.ImagePositionPatient for ipp in flair_slices]"
   ]
  },
  {
   "cell_type": "code",
   "execution_count": null,
   "metadata": {},
   "outputs": [],
   "source": [
    "np.array([ipp.ImageOrientationPatient for ipp in t1_slices]) - np.array([ipp.ImageOrientationPatient for ipp in flair_slices])"
   ]
  },
  {
   "cell_type": "code",
   "execution_count": null,
   "metadata": {
    "scrolled": true
   },
   "outputs": [],
   "source": [
    "t1.shape"
   ]
  },
  {
   "cell_type": "code",
   "execution_count": null,
   "metadata": {},
   "outputs": [],
   "source": [
    "flair.shape"
   ]
  },
  {
   "cell_type": "code",
   "execution_count": null,
   "metadata": {
    "scrolled": true
   },
   "outputs": [],
   "source": [
    "plt.imshow((flair+1.0*t2)[9,:,:], cmap=\"gray\")"
   ]
  },
  {
   "cell_type": "code",
   "execution_count": null,
   "metadata": {},
   "outputs": [],
   "source": [
    "plt.imshow((0.0*flair+t2)[9,:,:], cmap=\"gray\")"
   ]
  },
  {
   "cell_type": "markdown",
   "metadata": {},
   "source": [
    "At this point we could visualize a few more series, and probably run some code to ensure IPP and IOP alignment across all of the dataset. We could maybe load this data in Slicer to get a feel of what we are dealing with, and then start looking at the ground truth and photometrics. \n",
    "\n",
    "However, by going through these simple steps, we already learned the following about our dataset:\n",
    "\n",
    "* We are dealing with MR images\n",
    "* We have data from 4 patients\n",
    "* Each patient has 2 studies representing 2 time points\n",
    "* Each study has between 8 and 10 series, 76 series altogether\n",
    "* In total we have 1794 slices\n",
    "* We have varying pixel spacing, even within same sequence types\n",
    "* We have consistent slice thickness (5mm)\n",
    "* We have low-res slices (older ones) and higher-res slices (newer ones)\n",
    "* Our volumes seem to all be registered together and thus it is safe to just align them. I.e. they could be passed as multi-channel data into our ML algorithms\n",
    "\n",
    "That is a lot! "
   ]
  }
 ],
 "metadata": {
  "kernelspec": {
   "display_name": "Python 3",
   "language": "python",
   "name": "python3"
  },
  "language_info": {
   "codemirror_mode": {
    "name": "ipython",
    "version": 3
   },
   "file_extension": ".py",
   "mimetype": "text/x-python",
   "name": "python",
   "nbconvert_exporter": "python",
   "pygments_lexer": "ipython3",
   "version": "3.7.6"
  }
 },
 "nbformat": 4,
 "nbformat_minor": 4
}
