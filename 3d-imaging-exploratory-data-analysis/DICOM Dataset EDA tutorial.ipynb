{
 "cells": [
  {
   "cell_type": "markdown",
   "metadata": {},
   "source": [
    "-------------\n",
    "# DICOM Dataset EDA"
   ]
  },
  {
   "cell_type": "markdown",
   "metadata": {},
   "source": [
    "We will discuss some of the methods that could be applied in dataset analysis, when you are dealing with large multitude of 3D volumes. A lot of the same principles could be applied here as were used with individual volume EDA.\n",
    "\n",
    "In this case we will look at a collection of images and try to figure out what we are looking at. We will look at some of the techniques that might help us collect relevant meta information."
   ]
  },
  {
   "cell_type": "code",
   "execution_count": 35,
   "metadata": {},
   "outputs": [],
   "source": [
    "import pydicom\n",
    "import matplotlib.pyplot as plt\n",
    "import matplotlib.cm as cm\n",
    "import numpy.ma as ma\n",
    "import numpy as np\n",
    "import os"
   ]
  },
  {
   "cell_type": "markdown",
   "metadata": {},
   "source": [
    "Let us load all series metadata, but not pixels"
   ]
  },
  {
   "cell_type": "code",
   "execution_count": 36,
   "metadata": {},
   "outputs": [],
   "source": [
    "path = r\"data\"\n",
    "series = np.array([[(os.path.join(dp, f), pydicom.dcmread(os.path.join(dp, f), stop_before_pixels = True)) for f in files]\n",
    "                   for dp,_,files in os.walk(path) if len(files) != 0])\n",
    "\n"
   ]
  },
  {
   "cell_type": "code",
   "execution_count": 50,
   "metadata": {},
   "outputs": [],
   "source": [
    "# for better understanding of the above code\n",
    "hc = np.array([[(os.path.join(dp, f), 'himanshu') for f in files]\n",
    "                   for dp,_,files in os.walk(path) if len(files) != 0])\n"
   ]
  },
  {
   "cell_type": "code",
   "execution_count": 78,
   "metadata": {},
   "outputs": [
    {
     "data": {
      "text/plain": [
       "array([list([('data\\\\PGBM-001\\\\04-02-1992-FH-HEADBrain Protocols-79896\\\\11-T1post-80644\\\\000000.dcm', 'himanshu'), ('data\\\\PGBM-001\\\\04-02-1992-FH-HEADBrain Protocols-79896\\\\11-T1post-80644\\\\000001.dcm', 'himanshu'), ('data\\\\PGBM-001\\\\04-02-1992-FH-HEADBrain Protocols-79896\\\\11-T1post-80644\\\\000002.dcm', 'himanshu'), ('data\\\\PGBM-001\\\\04-02-1992-FH-HEADBrain Protocols-79896\\\\11-T1post-80644\\\\000003.dcm', 'himanshu'), ('data\\\\PGBM-001\\\\04-02-1992-FH-HEADBrain Protocols-79896\\\\11-T1post-80644\\\\000004.dcm', 'himanshu'), ('data\\\\PGBM-001\\\\04-02-1992-FH-HEADBrain Protocols-79896\\\\11-T1post-80644\\\\000005.dcm', 'himanshu'), ('data\\\\PGBM-001\\\\04-02-1992-FH-HEADBrain Protocols-79896\\\\11-T1post-80644\\\\000006.dcm', 'himanshu'), ('data\\\\PGBM-001\\\\04-02-1992-FH-HEADBrain Protocols-79896\\\\11-T1post-80644\\\\000007.dcm', 'himanshu'), ('data\\\\PGBM-001\\\\04-02-1992-FH-HEADBrain Protocols-79896\\\\11-T1post-80644\\\\000008.dcm', 'himanshu'), ('data\\\\PGBM-001\\\\04-02-1992-FH-HEADBrain Protocols-79896\\\\11-T1post-80644\\\\000009.dcm', 'himanshu'), ('data\\\\PGBM-001\\\\04-02-1992-FH-HEADBrain Protocols-79896\\\\11-T1post-80644\\\\000010.dcm', 'himanshu'), ('data\\\\PGBM-001\\\\04-02-1992-FH-HEADBrain Protocols-79896\\\\11-T1post-80644\\\\000011.dcm', 'himanshu'), ('data\\\\PGBM-001\\\\04-02-1992-FH-HEADBrain Protocols-79896\\\\11-T1post-80644\\\\000012.dcm', 'himanshu'), ('data\\\\PGBM-001\\\\04-02-1992-FH-HEADBrain Protocols-79896\\\\11-T1post-80644\\\\000013.dcm', 'himanshu'), ('data\\\\PGBM-001\\\\04-02-1992-FH-HEADBrain Protocols-79896\\\\11-T1post-80644\\\\000014.dcm', 'himanshu'), ('data\\\\PGBM-001\\\\04-02-1992-FH-HEADBrain Protocols-79896\\\\11-T1post-80644\\\\000015.dcm', 'himanshu'), ('data\\\\PGBM-001\\\\04-02-1992-FH-HEADBrain Protocols-79896\\\\11-T1post-80644\\\\000016.dcm', 'himanshu'), ('data\\\\PGBM-001\\\\04-02-1992-FH-HEADBrain Protocols-79896\\\\11-T1post-80644\\\\000017.dcm', 'himanshu'), ('data\\\\PGBM-001\\\\04-02-1992-FH-HEADBrain Protocols-79896\\\\11-T1post-80644\\\\000018.dcm', 'himanshu'), ('data\\\\PGBM-001\\\\04-02-1992-FH-HEADBrain Protocols-79896\\\\11-T1post-80644\\\\000019.dcm', 'himanshu'), ('data\\\\PGBM-001\\\\04-02-1992-FH-HEADBrain Protocols-79896\\\\11-T1post-80644\\\\000020.dcm', 'himanshu'), ('data\\\\PGBM-001\\\\04-02-1992-FH-HEADBrain Protocols-79896\\\\11-T1post-80644\\\\000021.dcm', 'himanshu'), ('data\\\\PGBM-001\\\\04-02-1992-FH-HEADBrain Protocols-79896\\\\11-T1post-80644\\\\000022.dcm', 'himanshu'), ('data\\\\PGBM-001\\\\04-02-1992-FH-HEADBrain Protocols-79896\\\\11-T1post-80644\\\\000023.dcm', 'himanshu')]),\n",
       "       list([('data\\\\PGBM-001\\\\04-02-1992-FH-HEADBrain Protocols-79896\\\\29904-dT1-04743\\\\000000.dcm', 'himanshu'), ('data\\\\PGBM-001\\\\04-02-1992-FH-HEADBrain Protocols-79896\\\\29904-dT1-04743\\\\000001.dcm', 'himanshu'), ('data\\\\PGBM-001\\\\04-02-1992-FH-HEADBrain Protocols-79896\\\\29904-dT1-04743\\\\000002.dcm', 'himanshu'), ('data\\\\PGBM-001\\\\04-02-1992-FH-HEADBrain Protocols-79896\\\\29904-dT1-04743\\\\000003.dcm', 'himanshu'), ('data\\\\PGBM-001\\\\04-02-1992-FH-HEADBrain Protocols-79896\\\\29904-dT1-04743\\\\000004.dcm', 'himanshu'), ('data\\\\PGBM-001\\\\04-02-1992-FH-HEADBrain Protocols-79896\\\\29904-dT1-04743\\\\000005.dcm', 'himanshu'), ('data\\\\PGBM-001\\\\04-02-1992-FH-HEADBrain Protocols-79896\\\\29904-dT1-04743\\\\000006.dcm', 'himanshu'), ('data\\\\PGBM-001\\\\04-02-1992-FH-HEADBrain Protocols-79896\\\\29904-dT1-04743\\\\000007.dcm', 'himanshu'), ('data\\\\PGBM-001\\\\04-02-1992-FH-HEADBrain Protocols-79896\\\\29904-dT1-04743\\\\000008.dcm', 'himanshu'), ('data\\\\PGBM-001\\\\04-02-1992-FH-HEADBrain Protocols-79896\\\\29904-dT1-04743\\\\000009.dcm', 'himanshu'), ('data\\\\PGBM-001\\\\04-02-1992-FH-HEADBrain Protocols-79896\\\\29904-dT1-04743\\\\000010.dcm', 'himanshu'), ('data\\\\PGBM-001\\\\04-02-1992-FH-HEADBrain Protocols-79896\\\\29904-dT1-04743\\\\000011.dcm', 'himanshu'), ('data\\\\PGBM-001\\\\04-02-1992-FH-HEADBrain Protocols-79896\\\\29904-dT1-04743\\\\000012.dcm', 'himanshu'), ('data\\\\PGBM-001\\\\04-02-1992-FH-HEADBrain Protocols-79896\\\\29904-dT1-04743\\\\000013.dcm', 'himanshu'), ('data\\\\PGBM-001\\\\04-02-1992-FH-HEADBrain Protocols-79896\\\\29904-dT1-04743\\\\000014.dcm', 'himanshu'), ('data\\\\PGBM-001\\\\04-02-1992-FH-HEADBrain Protocols-79896\\\\29904-dT1-04743\\\\000015.dcm', 'himanshu'), ('data\\\\PGBM-001\\\\04-02-1992-FH-HEADBrain Protocols-79896\\\\29904-dT1-04743\\\\000016.dcm', 'himanshu'), ('data\\\\PGBM-001\\\\04-02-1992-FH-HEADBrain Protocols-79896\\\\29904-dT1-04743\\\\000017.dcm', 'himanshu'), ('data\\\\PGBM-001\\\\04-02-1992-FH-HEADBrain Protocols-79896\\\\29904-dT1-04743\\\\000018.dcm', 'himanshu'), ('data\\\\PGBM-001\\\\04-02-1992-FH-HEADBrain Protocols-79896\\\\29904-dT1-04743\\\\000019.dcm', 'himanshu'), ('data\\\\PGBM-001\\\\04-02-1992-FH-HEADBrain Protocols-79896\\\\29904-dT1-04743\\\\000020.dcm', 'himanshu'), ('data\\\\PGBM-001\\\\04-02-1992-FH-HEADBrain Protocols-79896\\\\29904-dT1-04743\\\\000021.dcm', 'himanshu'), ('data\\\\PGBM-001\\\\04-02-1992-FH-HEADBrain Protocols-79896\\\\29904-dT1-04743\\\\000022.dcm', 'himanshu'), ('data\\\\PGBM-001\\\\04-02-1992-FH-HEADBrain Protocols-79896\\\\29904-dT1-04743\\\\000023.dcm', 'himanshu')]),\n",
       "       list([('data\\\\PGBM-001\\\\04-02-1992-FH-HEADBrain Protocols-79896\\\\34907-T1prereg-43695\\\\000000.dcm', 'himanshu'), ('data\\\\PGBM-001\\\\04-02-1992-FH-HEADBrain Protocols-79896\\\\34907-T1prereg-43695\\\\000001.dcm', 'himanshu'), ('data\\\\PGBM-001\\\\04-02-1992-FH-HEADBrain Protocols-79896\\\\34907-T1prereg-43695\\\\000002.dcm', 'himanshu'), ('data\\\\PGBM-001\\\\04-02-1992-FH-HEADBrain Protocols-79896\\\\34907-T1prereg-43695\\\\000003.dcm', 'himanshu'), ('data\\\\PGBM-001\\\\04-02-1992-FH-HEADBrain Protocols-79896\\\\34907-T1prereg-43695\\\\000004.dcm', 'himanshu'), ('data\\\\PGBM-001\\\\04-02-1992-FH-HEADBrain Protocols-79896\\\\34907-T1prereg-43695\\\\000005.dcm', 'himanshu'), ('data\\\\PGBM-001\\\\04-02-1992-FH-HEADBrain Protocols-79896\\\\34907-T1prereg-43695\\\\000006.dcm', 'himanshu'), ('data\\\\PGBM-001\\\\04-02-1992-FH-HEADBrain Protocols-79896\\\\34907-T1prereg-43695\\\\000007.dcm', 'himanshu'), ('data\\\\PGBM-001\\\\04-02-1992-FH-HEADBrain Protocols-79896\\\\34907-T1prereg-43695\\\\000008.dcm', 'himanshu'), ('data\\\\PGBM-001\\\\04-02-1992-FH-HEADBrain Protocols-79896\\\\34907-T1prereg-43695\\\\000009.dcm', 'himanshu'), ('data\\\\PGBM-001\\\\04-02-1992-FH-HEADBrain Protocols-79896\\\\34907-T1prereg-43695\\\\000010.dcm', 'himanshu'), ('data\\\\PGBM-001\\\\04-02-1992-FH-HEADBrain Protocols-79896\\\\34907-T1prereg-43695\\\\000011.dcm', 'himanshu'), ('data\\\\PGBM-001\\\\04-02-1992-FH-HEADBrain Protocols-79896\\\\34907-T1prereg-43695\\\\000012.dcm', 'himanshu'), ('data\\\\PGBM-001\\\\04-02-1992-FH-HEADBrain Protocols-79896\\\\34907-T1prereg-43695\\\\000013.dcm', 'himanshu'), ('data\\\\PGBM-001\\\\04-02-1992-FH-HEADBrain Protocols-79896\\\\34907-T1prereg-43695\\\\000014.dcm', 'himanshu'), ('data\\\\PGBM-001\\\\04-02-1992-FH-HEADBrain Protocols-79896\\\\34907-T1prereg-43695\\\\000015.dcm', 'himanshu'), ('data\\\\PGBM-001\\\\04-02-1992-FH-HEADBrain Protocols-79896\\\\34907-T1prereg-43695\\\\000016.dcm', 'himanshu'), ('data\\\\PGBM-001\\\\04-02-1992-FH-HEADBrain Protocols-79896\\\\34907-T1prereg-43695\\\\000017.dcm', 'himanshu'), ('data\\\\PGBM-001\\\\04-02-1992-FH-HEADBrain Protocols-79896\\\\34907-T1prereg-43695\\\\000018.dcm', 'himanshu'), ('data\\\\PGBM-001\\\\04-02-1992-FH-HEADBrain Protocols-79896\\\\34907-T1prereg-43695\\\\000019.dcm', 'himanshu'), ('data\\\\PGBM-001\\\\04-02-1992-FH-HEADBrain Protocols-79896\\\\34907-T1prereg-43695\\\\000020.dcm', 'himanshu'), ('data\\\\PGBM-001\\\\04-02-1992-FH-HEADBrain Protocols-79896\\\\34907-T1prereg-43695\\\\000021.dcm', 'himanshu'), ('data\\\\PGBM-001\\\\04-02-1992-FH-HEADBrain Protocols-79896\\\\34907-T1prereg-43695\\\\000022.dcm', 'himanshu'), ('data\\\\PGBM-001\\\\04-02-1992-FH-HEADBrain Protocols-79896\\\\34907-T1prereg-43695\\\\000023.dcm', 'himanshu')]),\n",
       "       list([('data\\\\PGBM-001\\\\04-02-1992-FH-HEADBrain Protocols-79896\\\\35623-FLAIRreg-79237\\\\000000.dcm', 'himanshu'), ('data\\\\PGBM-001\\\\04-02-1992-FH-HEADBrain Protocols-79896\\\\35623-FLAIRreg-79237\\\\000001.dcm', 'himanshu'), ('data\\\\PGBM-001\\\\04-02-1992-FH-HEADBrain Protocols-79896\\\\35623-FLAIRreg-79237\\\\000002.dcm', 'himanshu'), ('data\\\\PGBM-001\\\\04-02-1992-FH-HEADBrain Protocols-79896\\\\35623-FLAIRreg-79237\\\\000003.dcm', 'himanshu'), ('data\\\\PGBM-001\\\\04-02-1992-FH-HEADBrain Protocols-79896\\\\35623-FLAIRreg-79237\\\\000004.dcm', 'himanshu'), ('data\\\\PGBM-001\\\\04-02-1992-FH-HEADBrain Protocols-79896\\\\35623-FLAIRreg-79237\\\\000005.dcm', 'himanshu'), ('data\\\\PGBM-001\\\\04-02-1992-FH-HEADBrain Protocols-79896\\\\35623-FLAIRreg-79237\\\\000006.dcm', 'himanshu'), ('data\\\\PGBM-001\\\\04-02-1992-FH-HEADBrain Protocols-79896\\\\35623-FLAIRreg-79237\\\\000007.dcm', 'himanshu'), ('data\\\\PGBM-001\\\\04-02-1992-FH-HEADBrain Protocols-79896\\\\35623-FLAIRreg-79237\\\\000008.dcm', 'himanshu'), ('data\\\\PGBM-001\\\\04-02-1992-FH-HEADBrain Protocols-79896\\\\35623-FLAIRreg-79237\\\\000009.dcm', 'himanshu'), ('data\\\\PGBM-001\\\\04-02-1992-FH-HEADBrain Protocols-79896\\\\35623-FLAIRreg-79237\\\\000010.dcm', 'himanshu'), ('data\\\\PGBM-001\\\\04-02-1992-FH-HEADBrain Protocols-79896\\\\35623-FLAIRreg-79237\\\\000011.dcm', 'himanshu'), ('data\\\\PGBM-001\\\\04-02-1992-FH-HEADBrain Protocols-79896\\\\35623-FLAIRreg-79237\\\\000012.dcm', 'himanshu'), ('data\\\\PGBM-001\\\\04-02-1992-FH-HEADBrain Protocols-79896\\\\35623-FLAIRreg-79237\\\\000013.dcm', 'himanshu'), ('data\\\\PGBM-001\\\\04-02-1992-FH-HEADBrain Protocols-79896\\\\35623-FLAIRreg-79237\\\\000014.dcm', 'himanshu'), ('data\\\\PGBM-001\\\\04-02-1992-FH-HEADBrain Protocols-79896\\\\35623-FLAIRreg-79237\\\\000015.dcm', 'himanshu'), ('data\\\\PGBM-001\\\\04-02-1992-FH-HEADBrain Protocols-79896\\\\35623-FLAIRreg-79237\\\\000016.dcm', 'himanshu'), ('data\\\\PGBM-001\\\\04-02-1992-FH-HEADBrain Protocols-79896\\\\35623-FLAIRreg-79237\\\\000017.dcm', 'himanshu'), ('data\\\\PGBM-001\\\\04-02-1992-FH-HEADBrain Protocols-79896\\\\35623-FLAIRreg-79237\\\\000018.dcm', 'himanshu'), ('data\\\\PGBM-001\\\\04-02-1992-FH-HEADBrain Protocols-79896\\\\35623-FLAIRreg-79237\\\\000019.dcm', 'himanshu'), ('data\\\\PGBM-001\\\\04-02-1992-FH-HEADBrain Protocols-79896\\\\35623-FLAIRreg-79237\\\\000020.dcm', 'himanshu'), ('data\\\\PGBM-001\\\\04-02-1992-FH-HEADBrain Protocols-79896\\\\35623-FLAIRreg-79237\\\\000021.dcm', 'himanshu'), ('data\\\\PGBM-001\\\\04-02-1992-FH-HEADBrain Protocols-79896\\\\35623-FLAIRreg-79237\\\\000022.dcm', 'himanshu'), ('data\\\\PGBM-001\\\\04-02-1992-FH-HEADBrain Protocols-79896\\\\35623-FLAIRreg-79237\\\\000023.dcm', 'himanshu')]),\n",
       "       list([('data\\\\PGBM-001\\\\04-02-1992-FH-HEADBrain Protocols-79896\\\\35624-ADCreg-47789\\\\000000.dcm', 'himanshu'), ('data\\\\PGBM-001\\\\04-02-1992-FH-HEADBrain Protocols-79896\\\\35624-ADCreg-47789\\\\000001.dcm', 'himanshu'), ('data\\\\PGBM-001\\\\04-02-1992-FH-HEADBrain Protocols-79896\\\\35624-ADCreg-47789\\\\000002.dcm', 'himanshu'), ('data\\\\PGBM-001\\\\04-02-1992-FH-HEADBrain Protocols-79896\\\\35624-ADCreg-47789\\\\000003.dcm', 'himanshu'), ('data\\\\PGBM-001\\\\04-02-1992-FH-HEADBrain Protocols-79896\\\\35624-ADCreg-47789\\\\000004.dcm', 'himanshu'), ('data\\\\PGBM-001\\\\04-02-1992-FH-HEADBrain Protocols-79896\\\\35624-ADCreg-47789\\\\000005.dcm', 'himanshu'), ('data\\\\PGBM-001\\\\04-02-1992-FH-HEADBrain Protocols-79896\\\\35624-ADCreg-47789\\\\000006.dcm', 'himanshu'), ('data\\\\PGBM-001\\\\04-02-1992-FH-HEADBrain Protocols-79896\\\\35624-ADCreg-47789\\\\000007.dcm', 'himanshu'), ('data\\\\PGBM-001\\\\04-02-1992-FH-HEADBrain Protocols-79896\\\\35624-ADCreg-47789\\\\000008.dcm', 'himanshu'), ('data\\\\PGBM-001\\\\04-02-1992-FH-HEADBrain Protocols-79896\\\\35624-ADCreg-47789\\\\000009.dcm', 'himanshu'), ('data\\\\PGBM-001\\\\04-02-1992-FH-HEADBrain Protocols-79896\\\\35624-ADCreg-47789\\\\000010.dcm', 'himanshu'), ('data\\\\PGBM-001\\\\04-02-1992-FH-HEADBrain Protocols-79896\\\\35624-ADCreg-47789\\\\000011.dcm', 'himanshu'), ('data\\\\PGBM-001\\\\04-02-1992-FH-HEADBrain Protocols-79896\\\\35624-ADCreg-47789\\\\000012.dcm', 'himanshu'), ('data\\\\PGBM-001\\\\04-02-1992-FH-HEADBrain Protocols-79896\\\\35624-ADCreg-47789\\\\000013.dcm', 'himanshu'), ('data\\\\PGBM-001\\\\04-02-1992-FH-HEADBrain Protocols-79896\\\\35624-ADCreg-47789\\\\000014.dcm', 'himanshu'), ('data\\\\PGBM-001\\\\04-02-1992-FH-HEADBrain Protocols-79896\\\\35624-ADCreg-47789\\\\000015.dcm', 'himanshu'), ('data\\\\PGBM-001\\\\04-02-1992-FH-HEADBrain Protocols-79896\\\\35624-ADCreg-47789\\\\000016.dcm', 'himanshu'), ('data\\\\PGBM-001\\\\04-02-1992-FH-HEADBrain Protocols-79896\\\\35624-ADCreg-47789\\\\000017.dcm', 'himanshu'), ('data\\\\PGBM-001\\\\04-02-1992-FH-HEADBrain Protocols-79896\\\\35624-ADCreg-47789\\\\000018.dcm', 'himanshu'), ('data\\\\PGBM-001\\\\04-02-1992-FH-HEADBrain Protocols-79896\\\\35624-ADCreg-47789\\\\000019.dcm', 'himanshu'), ('data\\\\PGBM-001\\\\04-02-1992-FH-HEADBrain Protocols-79896\\\\35624-ADCreg-47789\\\\000020.dcm', 'himanshu'), ('data\\\\PGBM-001\\\\04-02-1992-FH-HEADBrain Protocols-79896\\\\35624-ADCreg-47789\\\\000021.dcm', 'himanshu'), ('data\\\\PGBM-001\\\\04-02-1992-FH-HEADBrain Protocols-79896\\\\35624-ADCreg-47789\\\\000022.dcm', 'himanshu'), ('data\\\\PGBM-001\\\\04-02-1992-FH-HEADBrain Protocols-79896\\\\35624-ADCreg-47789\\\\000023.dcm', 'himanshu')]),\n",
       "       list([('data\\\\PGBM-001\\\\04-02-1992-FH-HEADBrain Protocols-79896\\\\35628-sRCBVreg-27603\\\\000000.dcm', 'himanshu'), ('data\\\\PGBM-001\\\\04-02-1992-FH-HEADBrain Protocols-79896\\\\35628-sRCBVreg-27603\\\\000001.dcm', 'himanshu'), ('data\\\\PGBM-001\\\\04-02-1992-FH-HEADBrain Protocols-79896\\\\35628-sRCBVreg-27603\\\\000002.dcm', 'himanshu'), ('data\\\\PGBM-001\\\\04-02-1992-FH-HEADBrain Protocols-79896\\\\35628-sRCBVreg-27603\\\\000003.dcm', 'himanshu'), ('data\\\\PGBM-001\\\\04-02-1992-FH-HEADBrain Protocols-79896\\\\35628-sRCBVreg-27603\\\\000004.dcm', 'himanshu'), ('data\\\\PGBM-001\\\\04-02-1992-FH-HEADBrain Protocols-79896\\\\35628-sRCBVreg-27603\\\\000005.dcm', 'himanshu'), ('data\\\\PGBM-001\\\\04-02-1992-FH-HEADBrain Protocols-79896\\\\35628-sRCBVreg-27603\\\\000006.dcm', 'himanshu'), ('data\\\\PGBM-001\\\\04-02-1992-FH-HEADBrain Protocols-79896\\\\35628-sRCBVreg-27603\\\\000007.dcm', 'himanshu'), ('data\\\\PGBM-001\\\\04-02-1992-FH-HEADBrain Protocols-79896\\\\35628-sRCBVreg-27603\\\\000008.dcm', 'himanshu'), ('data\\\\PGBM-001\\\\04-02-1992-FH-HEADBrain Protocols-79896\\\\35628-sRCBVreg-27603\\\\000009.dcm', 'himanshu'), ('data\\\\PGBM-001\\\\04-02-1992-FH-HEADBrain Protocols-79896\\\\35628-sRCBVreg-27603\\\\000010.dcm', 'himanshu'), ('data\\\\PGBM-001\\\\04-02-1992-FH-HEADBrain Protocols-79896\\\\35628-sRCBVreg-27603\\\\000011.dcm', 'himanshu'), ('data\\\\PGBM-001\\\\04-02-1992-FH-HEADBrain Protocols-79896\\\\35628-sRCBVreg-27603\\\\000012.dcm', 'himanshu'), ('data\\\\PGBM-001\\\\04-02-1992-FH-HEADBrain Protocols-79896\\\\35628-sRCBVreg-27603\\\\000013.dcm', 'himanshu'), ('data\\\\PGBM-001\\\\04-02-1992-FH-HEADBrain Protocols-79896\\\\35628-sRCBVreg-27603\\\\000014.dcm', 'himanshu'), ('data\\\\PGBM-001\\\\04-02-1992-FH-HEADBrain Protocols-79896\\\\35628-sRCBVreg-27603\\\\000015.dcm', 'himanshu'), ('data\\\\PGBM-001\\\\04-02-1992-FH-HEADBrain Protocols-79896\\\\35628-sRCBVreg-27603\\\\000016.dcm', 'himanshu'), ('data\\\\PGBM-001\\\\04-02-1992-FH-HEADBrain Protocols-79896\\\\35628-sRCBVreg-27603\\\\000017.dcm', 'himanshu'), ('data\\\\PGBM-001\\\\04-02-1992-FH-HEADBrain Protocols-79896\\\\35628-sRCBVreg-27603\\\\000018.dcm', 'himanshu'), ('data\\\\PGBM-001\\\\04-02-1992-FH-HEADBrain Protocols-79896\\\\35628-sRCBVreg-27603\\\\000019.dcm', 'himanshu'), ('data\\\\PGBM-001\\\\04-02-1992-FH-HEADBrain Protocols-79896\\\\35628-sRCBVreg-27603\\\\000020.dcm', 'himanshu'), ('data\\\\PGBM-001\\\\04-02-1992-FH-HEADBrain Protocols-79896\\\\35628-sRCBVreg-27603\\\\000021.dcm', 'himanshu'), ('data\\\\PGBM-001\\\\04-02-1992-FH-HEADBrain Protocols-79896\\\\35628-sRCBVreg-27603\\\\000022.dcm', 'himanshu'), ('data\\\\PGBM-001\\\\04-02-1992-FH-HEADBrain Protocols-79896\\\\35628-sRCBVreg-27603\\\\000023.dcm', 'himanshu')]),\n",
       "       list([('data\\\\PGBM-001\\\\04-02-1992-FH-HEADBrain Protocols-79896\\\\35629-nRCBVreg-30349\\\\000000.dcm', 'himanshu'), ('data\\\\PGBM-001\\\\04-02-1992-FH-HEADBrain Protocols-79896\\\\35629-nRCBVreg-30349\\\\000001.dcm', 'himanshu'), ('data\\\\PGBM-001\\\\04-02-1992-FH-HEADBrain Protocols-79896\\\\35629-nRCBVreg-30349\\\\000002.dcm', 'himanshu'), ('data\\\\PGBM-001\\\\04-02-1992-FH-HEADBrain Protocols-79896\\\\35629-nRCBVreg-30349\\\\000003.dcm', 'himanshu'), ('data\\\\PGBM-001\\\\04-02-1992-FH-HEADBrain Protocols-79896\\\\35629-nRCBVreg-30349\\\\000004.dcm', 'himanshu'), ('data\\\\PGBM-001\\\\04-02-1992-FH-HEADBrain Protocols-79896\\\\35629-nRCBVreg-30349\\\\000005.dcm', 'himanshu'), ('data\\\\PGBM-001\\\\04-02-1992-FH-HEADBrain Protocols-79896\\\\35629-nRCBVreg-30349\\\\000006.dcm', 'himanshu'), ('data\\\\PGBM-001\\\\04-02-1992-FH-HEADBrain Protocols-79896\\\\35629-nRCBVreg-30349\\\\000007.dcm', 'himanshu'), ('data\\\\PGBM-001\\\\04-02-1992-FH-HEADBrain Protocols-79896\\\\35629-nRCBVreg-30349\\\\000008.dcm', 'himanshu'), ('data\\\\PGBM-001\\\\04-02-1992-FH-HEADBrain Protocols-79896\\\\35629-nRCBVreg-30349\\\\000009.dcm', 'himanshu'), ('data\\\\PGBM-001\\\\04-02-1992-FH-HEADBrain Protocols-79896\\\\35629-nRCBVreg-30349\\\\000010.dcm', 'himanshu'), ('data\\\\PGBM-001\\\\04-02-1992-FH-HEADBrain Protocols-79896\\\\35629-nRCBVreg-30349\\\\000011.dcm', 'himanshu'), ('data\\\\PGBM-001\\\\04-02-1992-FH-HEADBrain Protocols-79896\\\\35629-nRCBVreg-30349\\\\000012.dcm', 'himanshu'), ('data\\\\PGBM-001\\\\04-02-1992-FH-HEADBrain Protocols-79896\\\\35629-nRCBVreg-30349\\\\000013.dcm', 'himanshu'), ('data\\\\PGBM-001\\\\04-02-1992-FH-HEADBrain Protocols-79896\\\\35629-nRCBVreg-30349\\\\000014.dcm', 'himanshu'), ('data\\\\PGBM-001\\\\04-02-1992-FH-HEADBrain Protocols-79896\\\\35629-nRCBVreg-30349\\\\000015.dcm', 'himanshu'), ('data\\\\PGBM-001\\\\04-02-1992-FH-HEADBrain Protocols-79896\\\\35629-nRCBVreg-30349\\\\000016.dcm', 'himanshu'), ('data\\\\PGBM-001\\\\04-02-1992-FH-HEADBrain Protocols-79896\\\\35629-nRCBVreg-30349\\\\000017.dcm', 'himanshu'), ('data\\\\PGBM-001\\\\04-02-1992-FH-HEADBrain Protocols-79896\\\\35629-nRCBVreg-30349\\\\000018.dcm', 'himanshu'), ('data\\\\PGBM-001\\\\04-02-1992-FH-HEADBrain Protocols-79896\\\\35629-nRCBVreg-30349\\\\000019.dcm', 'himanshu'), ('data\\\\PGBM-001\\\\04-02-1992-FH-HEADBrain Protocols-79896\\\\35629-nRCBVreg-30349\\\\000020.dcm', 'himanshu'), ('data\\\\PGBM-001\\\\04-02-1992-FH-HEADBrain Protocols-79896\\\\35629-nRCBVreg-30349\\\\000021.dcm', 'himanshu'), ('data\\\\PGBM-001\\\\04-02-1992-FH-HEADBrain Protocols-79896\\\\35629-nRCBVreg-30349\\\\000022.dcm', 'himanshu'), ('data\\\\PGBM-001\\\\04-02-1992-FH-HEADBrain Protocols-79896\\\\35629-nRCBVreg-30349\\\\000023.dcm', 'himanshu')]),\n",
       "       list([('data\\\\PGBM-001\\\\04-02-1992-FH-HEADBrain Protocols-79896\\\\35630-nCBFreg-63461\\\\000000.dcm', 'himanshu'), ('data\\\\PGBM-001\\\\04-02-1992-FH-HEADBrain Protocols-79896\\\\35630-nCBFreg-63461\\\\000001.dcm', 'himanshu'), ('data\\\\PGBM-001\\\\04-02-1992-FH-HEADBrain Protocols-79896\\\\35630-nCBFreg-63461\\\\000002.dcm', 'himanshu'), ('data\\\\PGBM-001\\\\04-02-1992-FH-HEADBrain Protocols-79896\\\\35630-nCBFreg-63461\\\\000003.dcm', 'himanshu'), ('data\\\\PGBM-001\\\\04-02-1992-FH-HEADBrain Protocols-79896\\\\35630-nCBFreg-63461\\\\000004.dcm', 'himanshu'), ('data\\\\PGBM-001\\\\04-02-1992-FH-HEADBrain Protocols-79896\\\\35630-nCBFreg-63461\\\\000005.dcm', 'himanshu'), ('data\\\\PGBM-001\\\\04-02-1992-FH-HEADBrain Protocols-79896\\\\35630-nCBFreg-63461\\\\000006.dcm', 'himanshu'), ('data\\\\PGBM-001\\\\04-02-1992-FH-HEADBrain Protocols-79896\\\\35630-nCBFreg-63461\\\\000007.dcm', 'himanshu'), ('data\\\\PGBM-001\\\\04-02-1992-FH-HEADBrain Protocols-79896\\\\35630-nCBFreg-63461\\\\000008.dcm', 'himanshu'), ('data\\\\PGBM-001\\\\04-02-1992-FH-HEADBrain Protocols-79896\\\\35630-nCBFreg-63461\\\\000009.dcm', 'himanshu'), ('data\\\\PGBM-001\\\\04-02-1992-FH-HEADBrain Protocols-79896\\\\35630-nCBFreg-63461\\\\000010.dcm', 'himanshu'), ('data\\\\PGBM-001\\\\04-02-1992-FH-HEADBrain Protocols-79896\\\\35630-nCBFreg-63461\\\\000011.dcm', 'himanshu'), ('data\\\\PGBM-001\\\\04-02-1992-FH-HEADBrain Protocols-79896\\\\35630-nCBFreg-63461\\\\000012.dcm', 'himanshu'), ('data\\\\PGBM-001\\\\04-02-1992-FH-HEADBrain Protocols-79896\\\\35630-nCBFreg-63461\\\\000013.dcm', 'himanshu'), ('data\\\\PGBM-001\\\\04-02-1992-FH-HEADBrain Protocols-79896\\\\35630-nCBFreg-63461\\\\000014.dcm', 'himanshu'), ('data\\\\PGBM-001\\\\04-02-1992-FH-HEADBrain Protocols-79896\\\\35630-nCBFreg-63461\\\\000015.dcm', 'himanshu'), ('data\\\\PGBM-001\\\\04-02-1992-FH-HEADBrain Protocols-79896\\\\35630-nCBFreg-63461\\\\000016.dcm', 'himanshu'), ('data\\\\PGBM-001\\\\04-02-1992-FH-HEADBrain Protocols-79896\\\\35630-nCBFreg-63461\\\\000017.dcm', 'himanshu'), ('data\\\\PGBM-001\\\\04-02-1992-FH-HEADBrain Protocols-79896\\\\35630-nCBFreg-63461\\\\000018.dcm', 'himanshu'), ('data\\\\PGBM-001\\\\04-02-1992-FH-HEADBrain Protocols-79896\\\\35630-nCBFreg-63461\\\\000019.dcm', 'himanshu'), ('data\\\\PGBM-001\\\\04-02-1992-FH-HEADBrain Protocols-79896\\\\35630-nCBFreg-63461\\\\000020.dcm', 'himanshu'), ('data\\\\PGBM-001\\\\04-02-1992-FH-HEADBrain Protocols-79896\\\\35630-nCBFreg-63461\\\\000021.dcm', 'himanshu'), ('data\\\\PGBM-001\\\\04-02-1992-FH-HEADBrain Protocols-79896\\\\35630-nCBFreg-63461\\\\000022.dcm', 'himanshu'), ('data\\\\PGBM-001\\\\04-02-1992-FH-HEADBrain Protocols-79896\\\\35630-nCBFreg-63461\\\\000023.dcm', 'himanshu')]),\n",
       "       list([('data\\\\PGBM-001\\\\04-02-1992-FH-HEADBrain Protocols-79896\\\\37908-T2reg-21119\\\\000000.dcm', 'himanshu'), ('data\\\\PGBM-001\\\\04-02-1992-FH-HEADBrain Protocols-79896\\\\37908-T2reg-21119\\\\000001.dcm', 'himanshu'), ('data\\\\PGBM-001\\\\04-02-1992-FH-HEADBrain Protocols-79896\\\\37908-T2reg-21119\\\\000002.dcm', 'himanshu'), ('data\\\\PGBM-001\\\\04-02-1992-FH-HEADBrain Protocols-79896\\\\37908-T2reg-21119\\\\000003.dcm', 'himanshu'), ('data\\\\PGBM-001\\\\04-02-1992-FH-HEADBrain Protocols-79896\\\\37908-T2reg-21119\\\\000004.dcm', 'himanshu'), ('data\\\\PGBM-001\\\\04-02-1992-FH-HEADBrain Protocols-79896\\\\37908-T2reg-21119\\\\000005.dcm', 'himanshu'), ('data\\\\PGBM-001\\\\04-02-1992-FH-HEADBrain Protocols-79896\\\\37908-T2reg-21119\\\\000006.dcm', 'himanshu'), ('data\\\\PGBM-001\\\\04-02-1992-FH-HEADBrain Protocols-79896\\\\37908-T2reg-21119\\\\000007.dcm', 'himanshu'), ('data\\\\PGBM-001\\\\04-02-1992-FH-HEADBrain Protocols-79896\\\\37908-T2reg-21119\\\\000008.dcm', 'himanshu'), ('data\\\\PGBM-001\\\\04-02-1992-FH-HEADBrain Protocols-79896\\\\37908-T2reg-21119\\\\000009.dcm', 'himanshu'), ('data\\\\PGBM-001\\\\04-02-1992-FH-HEADBrain Protocols-79896\\\\37908-T2reg-21119\\\\000010.dcm', 'himanshu'), ('data\\\\PGBM-001\\\\04-02-1992-FH-HEADBrain Protocols-79896\\\\37908-T2reg-21119\\\\000011.dcm', 'himanshu'), ('data\\\\PGBM-001\\\\04-02-1992-FH-HEADBrain Protocols-79896\\\\37908-T2reg-21119\\\\000012.dcm', 'himanshu'), ('data\\\\PGBM-001\\\\04-02-1992-FH-HEADBrain Protocols-79896\\\\37908-T2reg-21119\\\\000013.dcm', 'himanshu'), ('data\\\\PGBM-001\\\\04-02-1992-FH-HEADBrain Protocols-79896\\\\37908-T2reg-21119\\\\000014.dcm', 'himanshu'), ('data\\\\PGBM-001\\\\04-02-1992-FH-HEADBrain Protocols-79896\\\\37908-T2reg-21119\\\\000015.dcm', 'himanshu'), ('data\\\\PGBM-001\\\\04-02-1992-FH-HEADBrain Protocols-79896\\\\37908-T2reg-21119\\\\000016.dcm', 'himanshu'), ('data\\\\PGBM-001\\\\04-02-1992-FH-HEADBrain Protocols-79896\\\\37908-T2reg-21119\\\\000017.dcm', 'himanshu'), ('data\\\\PGBM-001\\\\04-02-1992-FH-HEADBrain Protocols-79896\\\\37908-T2reg-21119\\\\000018.dcm', 'himanshu'), ('data\\\\PGBM-001\\\\04-02-1992-FH-HEADBrain Protocols-79896\\\\37908-T2reg-21119\\\\000019.dcm', 'himanshu'), ('data\\\\PGBM-001\\\\04-02-1992-FH-HEADBrain Protocols-79896\\\\37908-T2reg-21119\\\\000020.dcm', 'himanshu'), ('data\\\\PGBM-001\\\\04-02-1992-FH-HEADBrain Protocols-79896\\\\37908-T2reg-21119\\\\000021.dcm', 'himanshu'), ('data\\\\PGBM-001\\\\04-02-1992-FH-HEADBrain Protocols-79896\\\\37908-T2reg-21119\\\\000022.dcm', 'himanshu'), ('data\\\\PGBM-001\\\\04-02-1992-FH-HEADBrain Protocols-79896\\\\37908-T2reg-21119\\\\000023.dcm', 'himanshu')]),\n",
       "       list([('data\\\\PGBM-001\\\\04-02-1992-FH-HEADBrain Protocols-79896\\\\5388-MaskTumor-63335\\\\000000.dcm', 'himanshu'), ('data\\\\PGBM-001\\\\04-02-1992-FH-HEADBrain Protocols-79896\\\\5388-MaskTumor-63335\\\\000001.dcm', 'himanshu'), ('data\\\\PGBM-001\\\\04-02-1992-FH-HEADBrain Protocols-79896\\\\5388-MaskTumor-63335\\\\000002.dcm', 'himanshu'), ('data\\\\PGBM-001\\\\04-02-1992-FH-HEADBrain Protocols-79896\\\\5388-MaskTumor-63335\\\\000003.dcm', 'himanshu'), ('data\\\\PGBM-001\\\\04-02-1992-FH-HEADBrain Protocols-79896\\\\5388-MaskTumor-63335\\\\000004.dcm', 'himanshu'), ('data\\\\PGBM-001\\\\04-02-1992-FH-HEADBrain Protocols-79896\\\\5388-MaskTumor-63335\\\\000005.dcm', 'himanshu'), ('data\\\\PGBM-001\\\\04-02-1992-FH-HEADBrain Protocols-79896\\\\5388-MaskTumor-63335\\\\000006.dcm', 'himanshu'), ('data\\\\PGBM-001\\\\04-02-1992-FH-HEADBrain Protocols-79896\\\\5388-MaskTumor-63335\\\\000007.dcm', 'himanshu'), ('data\\\\PGBM-001\\\\04-02-1992-FH-HEADBrain Protocols-79896\\\\5388-MaskTumor-63335\\\\000008.dcm', 'himanshu'), ('data\\\\PGBM-001\\\\04-02-1992-FH-HEADBrain Protocols-79896\\\\5388-MaskTumor-63335\\\\000009.dcm', 'himanshu'), ('data\\\\PGBM-001\\\\04-02-1992-FH-HEADBrain Protocols-79896\\\\5388-MaskTumor-63335\\\\000010.dcm', 'himanshu'), ('data\\\\PGBM-001\\\\04-02-1992-FH-HEADBrain Protocols-79896\\\\5388-MaskTumor-63335\\\\000011.dcm', 'himanshu'), ('data\\\\PGBM-001\\\\04-02-1992-FH-HEADBrain Protocols-79896\\\\5388-MaskTumor-63335\\\\000012.dcm', 'himanshu'), ('data\\\\PGBM-001\\\\04-02-1992-FH-HEADBrain Protocols-79896\\\\5388-MaskTumor-63335\\\\000013.dcm', 'himanshu'), ('data\\\\PGBM-001\\\\04-02-1992-FH-HEADBrain Protocols-79896\\\\5388-MaskTumor-63335\\\\000014.dcm', 'himanshu'), ('data\\\\PGBM-001\\\\04-02-1992-FH-HEADBrain Protocols-79896\\\\5388-MaskTumor-63335\\\\000015.dcm', 'himanshu'), ('data\\\\PGBM-001\\\\04-02-1992-FH-HEADBrain Protocols-79896\\\\5388-MaskTumor-63335\\\\000016.dcm', 'himanshu'), ('data\\\\PGBM-001\\\\04-02-1992-FH-HEADBrain Protocols-79896\\\\5388-MaskTumor-63335\\\\000017.dcm', 'himanshu'), ('data\\\\PGBM-001\\\\04-02-1992-FH-HEADBrain Protocols-79896\\\\5388-MaskTumor-63335\\\\000018.dcm', 'himanshu'), ('data\\\\PGBM-001\\\\04-02-1992-FH-HEADBrain Protocols-79896\\\\5388-MaskTumor-63335\\\\000019.dcm', 'himanshu'), ('data\\\\PGBM-001\\\\04-02-1992-FH-HEADBrain Protocols-79896\\\\5388-MaskTumor-63335\\\\000020.dcm', 'himanshu'), ('data\\\\PGBM-001\\\\04-02-1992-FH-HEADBrain Protocols-79896\\\\5388-MaskTumor-63335\\\\000021.dcm', 'himanshu'), ('data\\\\PGBM-001\\\\04-02-1992-FH-HEADBrain Protocols-79896\\\\5388-MaskTumor-63335\\\\000022.dcm', 'himanshu'), ('data\\\\PGBM-001\\\\04-02-1992-FH-HEADBrain Protocols-79896\\\\5388-MaskTumor-63335\\\\000023.dcm', 'himanshu')]),\n",
       "       list([('data\\\\PGBM-001\\\\11-19-1991-FH-HEADBrain Protocols-40993\\\\10008-T1prereg-91470\\\\000000.dcm', 'himanshu'), ('data\\\\PGBM-001\\\\11-19-1991-FH-HEADBrain Protocols-40993\\\\10008-T1prereg-91470\\\\000001.dcm', 'himanshu'), ('data\\\\PGBM-001\\\\11-19-1991-FH-HEADBrain Protocols-40993\\\\10008-T1prereg-91470\\\\000002.dcm', 'himanshu'), ('data\\\\PGBM-001\\\\11-19-1991-FH-HEADBrain Protocols-40993\\\\10008-T1prereg-91470\\\\000003.dcm', 'himanshu'), ('data\\\\PGBM-001\\\\11-19-1991-FH-HEADBrain Protocols-40993\\\\10008-T1prereg-91470\\\\000004.dcm', 'himanshu'), ('data\\\\PGBM-001\\\\11-19-1991-FH-HEADBrain Protocols-40993\\\\10008-T1prereg-91470\\\\000005.dcm', 'himanshu'), ('data\\\\PGBM-001\\\\11-19-1991-FH-HEADBrain Protocols-40993\\\\10008-T1prereg-91470\\\\000006.dcm', 'himanshu'), ('data\\\\PGBM-001\\\\11-19-1991-FH-HEADBrain Protocols-40993\\\\10008-T1prereg-91470\\\\000007.dcm', 'himanshu'), ('data\\\\PGBM-001\\\\11-19-1991-FH-HEADBrain Protocols-40993\\\\10008-T1prereg-91470\\\\000008.dcm', 'himanshu'), ('data\\\\PGBM-001\\\\11-19-1991-FH-HEADBrain Protocols-40993\\\\10008-T1prereg-91470\\\\000009.dcm', 'himanshu'), ('data\\\\PGBM-001\\\\11-19-1991-FH-HEADBrain Protocols-40993\\\\10008-T1prereg-91470\\\\000010.dcm', 'himanshu'), ('data\\\\PGBM-001\\\\11-19-1991-FH-HEADBrain Protocols-40993\\\\10008-T1prereg-91470\\\\000011.dcm', 'himanshu'), ('data\\\\PGBM-001\\\\11-19-1991-FH-HEADBrain Protocols-40993\\\\10008-T1prereg-91470\\\\000012.dcm', 'himanshu'), ('data\\\\PGBM-001\\\\11-19-1991-FH-HEADBrain Protocols-40993\\\\10008-T1prereg-91470\\\\000013.dcm', 'himanshu'), ('data\\\\PGBM-001\\\\11-19-1991-FH-HEADBrain Protocols-40993\\\\10008-T1prereg-91470\\\\000014.dcm', 'himanshu'), ('data\\\\PGBM-001\\\\11-19-1991-FH-HEADBrain Protocols-40993\\\\10008-T1prereg-91470\\\\000015.dcm', 'himanshu'), ('data\\\\PGBM-001\\\\11-19-1991-FH-HEADBrain Protocols-40993\\\\10008-T1prereg-91470\\\\000016.dcm', 'himanshu'), ('data\\\\PGBM-001\\\\11-19-1991-FH-HEADBrain Protocols-40993\\\\10008-T1prereg-91470\\\\000017.dcm', 'himanshu'), ('data\\\\PGBM-001\\\\11-19-1991-FH-HEADBrain Protocols-40993\\\\10008-T1prereg-91470\\\\000018.dcm', 'himanshu'), ('data\\\\PGBM-001\\\\11-19-1991-FH-HEADBrain Protocols-40993\\\\10008-T1prereg-91470\\\\000019.dcm', 'himanshu'), ('data\\\\PGBM-001\\\\11-19-1991-FH-HEADBrain Protocols-40993\\\\10008-T1prereg-91470\\\\000020.dcm', 'himanshu'), ('data\\\\PGBM-001\\\\11-19-1991-FH-HEADBrain Protocols-40993\\\\10008-T1prereg-91470\\\\000021.dcm', 'himanshu'), ('data\\\\PGBM-001\\\\11-19-1991-FH-HEADBrain Protocols-40993\\\\10008-T1prereg-91470\\\\000022.dcm', 'himanshu'), ('data\\\\PGBM-001\\\\11-19-1991-FH-HEADBrain Protocols-40993\\\\10008-T1prereg-91470\\\\000023.dcm', 'himanshu'), ('data\\\\PGBM-001\\\\11-19-1991-FH-HEADBrain Protocols-40993\\\\10008-T1prereg-91470\\\\000024.dcm', 'himanshu')]),\n",
       "       list([('data\\\\PGBM-001\\\\11-19-1991-FH-HEADBrain Protocols-40993\\\\11-T1post-03326\\\\000000.dcm', 'himanshu'), ('data\\\\PGBM-001\\\\11-19-1991-FH-HEADBrain Protocols-40993\\\\11-T1post-03326\\\\000001.dcm', 'himanshu'), ('data\\\\PGBM-001\\\\11-19-1991-FH-HEADBrain Protocols-40993\\\\11-T1post-03326\\\\000002.dcm', 'himanshu'), ('data\\\\PGBM-001\\\\11-19-1991-FH-HEADBrain Protocols-40993\\\\11-T1post-03326\\\\000003.dcm', 'himanshu'), ('data\\\\PGBM-001\\\\11-19-1991-FH-HEADBrain Protocols-40993\\\\11-T1post-03326\\\\000004.dcm', 'himanshu'), ('data\\\\PGBM-001\\\\11-19-1991-FH-HEADBrain Protocols-40993\\\\11-T1post-03326\\\\000005.dcm', 'himanshu'), ('data\\\\PGBM-001\\\\11-19-1991-FH-HEADBrain Protocols-40993\\\\11-T1post-03326\\\\000006.dcm', 'himanshu'), ('data\\\\PGBM-001\\\\11-19-1991-FH-HEADBrain Protocols-40993\\\\11-T1post-03326\\\\000007.dcm', 'himanshu'), ('data\\\\PGBM-001\\\\11-19-1991-FH-HEADBrain Protocols-40993\\\\11-T1post-03326\\\\000008.dcm', 'himanshu'), ('data\\\\PGBM-001\\\\11-19-1991-FH-HEADBrain Protocols-40993\\\\11-T1post-03326\\\\000009.dcm', 'himanshu'), ('data\\\\PGBM-001\\\\11-19-1991-FH-HEADBrain Protocols-40993\\\\11-T1post-03326\\\\000010.dcm', 'himanshu'), ('data\\\\PGBM-001\\\\11-19-1991-FH-HEADBrain Protocols-40993\\\\11-T1post-03326\\\\000011.dcm', 'himanshu'), ('data\\\\PGBM-001\\\\11-19-1991-FH-HEADBrain Protocols-40993\\\\11-T1post-03326\\\\000012.dcm', 'himanshu'), ('data\\\\PGBM-001\\\\11-19-1991-FH-HEADBrain Protocols-40993\\\\11-T1post-03326\\\\000013.dcm', 'himanshu'), ('data\\\\PGBM-001\\\\11-19-1991-FH-HEADBrain Protocols-40993\\\\11-T1post-03326\\\\000014.dcm', 'himanshu'), ('data\\\\PGBM-001\\\\11-19-1991-FH-HEADBrain Protocols-40993\\\\11-T1post-03326\\\\000015.dcm', 'himanshu'), ('data\\\\PGBM-001\\\\11-19-1991-FH-HEADBrain Protocols-40993\\\\11-T1post-03326\\\\000016.dcm', 'himanshu'), ('data\\\\PGBM-001\\\\11-19-1991-FH-HEADBrain Protocols-40993\\\\11-T1post-03326\\\\000017.dcm', 'himanshu'), ('data\\\\PGBM-001\\\\11-19-1991-FH-HEADBrain Protocols-40993\\\\11-T1post-03326\\\\000018.dcm', 'himanshu'), ('data\\\\PGBM-001\\\\11-19-1991-FH-HEADBrain Protocols-40993\\\\11-T1post-03326\\\\000019.dcm', 'himanshu'), ('data\\\\PGBM-001\\\\11-19-1991-FH-HEADBrain Protocols-40993\\\\11-T1post-03326\\\\000020.dcm', 'himanshu'), ('data\\\\PGBM-001\\\\11-19-1991-FH-HEADBrain Protocols-40993\\\\11-T1post-03326\\\\000021.dcm', 'himanshu'), ('data\\\\PGBM-001\\\\11-19-1991-FH-HEADBrain Protocols-40993\\\\11-T1post-03326\\\\000022.dcm', 'himanshu'), ('data\\\\PGBM-001\\\\11-19-1991-FH-HEADBrain Protocols-40993\\\\11-T1post-03326\\\\000023.dcm', 'himanshu'), ('data\\\\PGBM-001\\\\11-19-1991-FH-HEADBrain Protocols-40993\\\\11-T1post-03326\\\\000024.dcm', 'himanshu')]),\n",
       "       list([('data\\\\PGBM-001\\\\11-19-1991-FH-HEADBrain Protocols-40993\\\\35004-dT1-72693\\\\000000.dcm', 'himanshu'), ('data\\\\PGBM-001\\\\11-19-1991-FH-HEADBrain Protocols-40993\\\\35004-dT1-72693\\\\000001.dcm', 'himanshu'), ('data\\\\PGBM-001\\\\11-19-1991-FH-HEADBrain Protocols-40993\\\\35004-dT1-72693\\\\000002.dcm', 'himanshu'), ('data\\\\PGBM-001\\\\11-19-1991-FH-HEADBrain Protocols-40993\\\\35004-dT1-72693\\\\000003.dcm', 'himanshu'), ('data\\\\PGBM-001\\\\11-19-1991-FH-HEADBrain Protocols-40993\\\\35004-dT1-72693\\\\000004.dcm', 'himanshu'), ('data\\\\PGBM-001\\\\11-19-1991-FH-HEADBrain Protocols-40993\\\\35004-dT1-72693\\\\000005.dcm', 'himanshu'), ('data\\\\PGBM-001\\\\11-19-1991-FH-HEADBrain Protocols-40993\\\\35004-dT1-72693\\\\000006.dcm', 'himanshu'), ('data\\\\PGBM-001\\\\11-19-1991-FH-HEADBrain Protocols-40993\\\\35004-dT1-72693\\\\000007.dcm', 'himanshu'), ('data\\\\PGBM-001\\\\11-19-1991-FH-HEADBrain Protocols-40993\\\\35004-dT1-72693\\\\000008.dcm', 'himanshu'), ('data\\\\PGBM-001\\\\11-19-1991-FH-HEADBrain Protocols-40993\\\\35004-dT1-72693\\\\000009.dcm', 'himanshu'), ('data\\\\PGBM-001\\\\11-19-1991-FH-HEADBrain Protocols-40993\\\\35004-dT1-72693\\\\000010.dcm', 'himanshu'), ('data\\\\PGBM-001\\\\11-19-1991-FH-HEADBrain Protocols-40993\\\\35004-dT1-72693\\\\000011.dcm', 'himanshu'), ('data\\\\PGBM-001\\\\11-19-1991-FH-HEADBrain Protocols-40993\\\\35004-dT1-72693\\\\000012.dcm', 'himanshu'), ('data\\\\PGBM-001\\\\11-19-1991-FH-HEADBrain Protocols-40993\\\\35004-dT1-72693\\\\000013.dcm', 'himanshu'), ('data\\\\PGBM-001\\\\11-19-1991-FH-HEADBrain Protocols-40993\\\\35004-dT1-72693\\\\000014.dcm', 'himanshu'), ('data\\\\PGBM-001\\\\11-19-1991-FH-HEADBrain Protocols-40993\\\\35004-dT1-72693\\\\000015.dcm', 'himanshu'), ('data\\\\PGBM-001\\\\11-19-1991-FH-HEADBrain Protocols-40993\\\\35004-dT1-72693\\\\000016.dcm', 'himanshu'), ('data\\\\PGBM-001\\\\11-19-1991-FH-HEADBrain Protocols-40993\\\\35004-dT1-72693\\\\000017.dcm', 'himanshu'), ('data\\\\PGBM-001\\\\11-19-1991-FH-HEADBrain Protocols-40993\\\\35004-dT1-72693\\\\000018.dcm', 'himanshu'), ('data\\\\PGBM-001\\\\11-19-1991-FH-HEADBrain Protocols-40993\\\\35004-dT1-72693\\\\000019.dcm', 'himanshu'), ('data\\\\PGBM-001\\\\11-19-1991-FH-HEADBrain Protocols-40993\\\\35004-dT1-72693\\\\000020.dcm', 'himanshu'), ('data\\\\PGBM-001\\\\11-19-1991-FH-HEADBrain Protocols-40993\\\\35004-dT1-72693\\\\000021.dcm', 'himanshu'), ('data\\\\PGBM-001\\\\11-19-1991-FH-HEADBrain Protocols-40993\\\\35004-dT1-72693\\\\000022.dcm', 'himanshu'), ('data\\\\PGBM-001\\\\11-19-1991-FH-HEADBrain Protocols-40993\\\\35004-dT1-72693\\\\000023.dcm', 'himanshu'), ('data\\\\PGBM-001\\\\11-19-1991-FH-HEADBrain Protocols-40993\\\\35004-dT1-72693\\\\000024.dcm', 'himanshu')]),\n",
       "       list([('data\\\\PGBM-001\\\\11-19-1991-FH-HEADBrain Protocols-40993\\\\35633-nCBFreg-34937\\\\000000.dcm', 'himanshu'), ('data\\\\PGBM-001\\\\11-19-1991-FH-HEADBrain Protocols-40993\\\\35633-nCBFreg-34937\\\\000001.dcm', 'himanshu'), ('data\\\\PGBM-001\\\\11-19-1991-FH-HEADBrain Protocols-40993\\\\35633-nCBFreg-34937\\\\000002.dcm', 'himanshu'), ('data\\\\PGBM-001\\\\11-19-1991-FH-HEADBrain Protocols-40993\\\\35633-nCBFreg-34937\\\\000003.dcm', 'himanshu'), ('data\\\\PGBM-001\\\\11-19-1991-FH-HEADBrain Protocols-40993\\\\35633-nCBFreg-34937\\\\000004.dcm', 'himanshu'), ('data\\\\PGBM-001\\\\11-19-1991-FH-HEADBrain Protocols-40993\\\\35633-nCBFreg-34937\\\\000005.dcm', 'himanshu'), ('data\\\\PGBM-001\\\\11-19-1991-FH-HEADBrain Protocols-40993\\\\35633-nCBFreg-34937\\\\000006.dcm', 'himanshu'), ('data\\\\PGBM-001\\\\11-19-1991-FH-HEADBrain Protocols-40993\\\\35633-nCBFreg-34937\\\\000007.dcm', 'himanshu'), ('data\\\\PGBM-001\\\\11-19-1991-FH-HEADBrain Protocols-40993\\\\35633-nCBFreg-34937\\\\000008.dcm', 'himanshu'), ('data\\\\PGBM-001\\\\11-19-1991-FH-HEADBrain Protocols-40993\\\\35633-nCBFreg-34937\\\\000009.dcm', 'himanshu'), ('data\\\\PGBM-001\\\\11-19-1991-FH-HEADBrain Protocols-40993\\\\35633-nCBFreg-34937\\\\000010.dcm', 'himanshu'), ('data\\\\PGBM-001\\\\11-19-1991-FH-HEADBrain Protocols-40993\\\\35633-nCBFreg-34937\\\\000011.dcm', 'himanshu'), ('data\\\\PGBM-001\\\\11-19-1991-FH-HEADBrain Protocols-40993\\\\35633-nCBFreg-34937\\\\000012.dcm', 'himanshu'), ('data\\\\PGBM-001\\\\11-19-1991-FH-HEADBrain Protocols-40993\\\\35633-nCBFreg-34937\\\\000013.dcm', 'himanshu'), ('data\\\\PGBM-001\\\\11-19-1991-FH-HEADBrain Protocols-40993\\\\35633-nCBFreg-34937\\\\000014.dcm', 'himanshu'), ('data\\\\PGBM-001\\\\11-19-1991-FH-HEADBrain Protocols-40993\\\\35633-nCBFreg-34937\\\\000015.dcm', 'himanshu'), ('data\\\\PGBM-001\\\\11-19-1991-FH-HEADBrain Protocols-40993\\\\35633-nCBFreg-34937\\\\000016.dcm', 'himanshu'), ('data\\\\PGBM-001\\\\11-19-1991-FH-HEADBrain Protocols-40993\\\\35633-nCBFreg-34937\\\\000017.dcm', 'himanshu'), ('data\\\\PGBM-001\\\\11-19-1991-FH-HEADBrain Protocols-40993\\\\35633-nCBFreg-34937\\\\000018.dcm', 'himanshu'), ('data\\\\PGBM-001\\\\11-19-1991-FH-HEADBrain Protocols-40993\\\\35633-nCBFreg-34937\\\\000019.dcm', 'himanshu'), ('data\\\\PGBM-001\\\\11-19-1991-FH-HEADBrain Protocols-40993\\\\35633-nCBFreg-34937\\\\000020.dcm', 'himanshu'), ('data\\\\PGBM-001\\\\11-19-1991-FH-HEADBrain Protocols-40993\\\\35633-nCBFreg-34937\\\\000021.dcm', 'himanshu'), ('data\\\\PGBM-001\\\\11-19-1991-FH-HEADBrain Protocols-40993\\\\35633-nCBFreg-34937\\\\000022.dcm', 'himanshu'), ('data\\\\PGBM-001\\\\11-19-1991-FH-HEADBrain Protocols-40993\\\\35633-nCBFreg-34937\\\\000023.dcm', 'himanshu'), ('data\\\\PGBM-001\\\\11-19-1991-FH-HEADBrain Protocols-40993\\\\35633-nCBFreg-34937\\\\000024.dcm', 'himanshu')]),\n",
       "       list([('data\\\\PGBM-001\\\\11-19-1991-FH-HEADBrain Protocols-40993\\\\35634-nRCBVreg-43858\\\\000000.dcm', 'himanshu'), ('data\\\\PGBM-001\\\\11-19-1991-FH-HEADBrain Protocols-40993\\\\35634-nRCBVreg-43858\\\\000001.dcm', 'himanshu'), ('data\\\\PGBM-001\\\\11-19-1991-FH-HEADBrain Protocols-40993\\\\35634-nRCBVreg-43858\\\\000002.dcm', 'himanshu'), ('data\\\\PGBM-001\\\\11-19-1991-FH-HEADBrain Protocols-40993\\\\35634-nRCBVreg-43858\\\\000003.dcm', 'himanshu'), ('data\\\\PGBM-001\\\\11-19-1991-FH-HEADBrain Protocols-40993\\\\35634-nRCBVreg-43858\\\\000004.dcm', 'himanshu'), ('data\\\\PGBM-001\\\\11-19-1991-FH-HEADBrain Protocols-40993\\\\35634-nRCBVreg-43858\\\\000005.dcm', 'himanshu'), ('data\\\\PGBM-001\\\\11-19-1991-FH-HEADBrain Protocols-40993\\\\35634-nRCBVreg-43858\\\\000006.dcm', 'himanshu'), ('data\\\\PGBM-001\\\\11-19-1991-FH-HEADBrain Protocols-40993\\\\35634-nRCBVreg-43858\\\\000007.dcm', 'himanshu'), ('data\\\\PGBM-001\\\\11-19-1991-FH-HEADBrain Protocols-40993\\\\35634-nRCBVreg-43858\\\\000008.dcm', 'himanshu'), ('data\\\\PGBM-001\\\\11-19-1991-FH-HEADBrain Protocols-40993\\\\35634-nRCBVreg-43858\\\\000009.dcm', 'himanshu'), ('data\\\\PGBM-001\\\\11-19-1991-FH-HEADBrain Protocols-40993\\\\35634-nRCBVreg-43858\\\\000010.dcm', 'himanshu'), ('data\\\\PGBM-001\\\\11-19-1991-FH-HEADBrain Protocols-40993\\\\35634-nRCBVreg-43858\\\\000011.dcm', 'himanshu'), ('data\\\\PGBM-001\\\\11-19-1991-FH-HEADBrain Protocols-40993\\\\35634-nRCBVreg-43858\\\\000012.dcm', 'himanshu'), ('data\\\\PGBM-001\\\\11-19-1991-FH-HEADBrain Protocols-40993\\\\35634-nRCBVreg-43858\\\\000013.dcm', 'himanshu'), ('data\\\\PGBM-001\\\\11-19-1991-FH-HEADBrain Protocols-40993\\\\35634-nRCBVreg-43858\\\\000014.dcm', 'himanshu'), ('data\\\\PGBM-001\\\\11-19-1991-FH-HEADBrain Protocols-40993\\\\35634-nRCBVreg-43858\\\\000015.dcm', 'himanshu'), ('data\\\\PGBM-001\\\\11-19-1991-FH-HEADBrain Protocols-40993\\\\35634-nRCBVreg-43858\\\\000016.dcm', 'himanshu'), ('data\\\\PGBM-001\\\\11-19-1991-FH-HEADBrain Protocols-40993\\\\35634-nRCBVreg-43858\\\\000017.dcm', 'himanshu'), ('data\\\\PGBM-001\\\\11-19-1991-FH-HEADBrain Protocols-40993\\\\35634-nRCBVreg-43858\\\\000018.dcm', 'himanshu'), ('data\\\\PGBM-001\\\\11-19-1991-FH-HEADBrain Protocols-40993\\\\35634-nRCBVreg-43858\\\\000019.dcm', 'himanshu'), ('data\\\\PGBM-001\\\\11-19-1991-FH-HEADBrain Protocols-40993\\\\35634-nRCBVreg-43858\\\\000020.dcm', 'himanshu'), ('data\\\\PGBM-001\\\\11-19-1991-FH-HEADBrain Protocols-40993\\\\35634-nRCBVreg-43858\\\\000021.dcm', 'himanshu'), ('data\\\\PGBM-001\\\\11-19-1991-FH-HEADBrain Protocols-40993\\\\35634-nRCBVreg-43858\\\\000022.dcm', 'himanshu'), ('data\\\\PGBM-001\\\\11-19-1991-FH-HEADBrain Protocols-40993\\\\35634-nRCBVreg-43858\\\\000023.dcm', 'himanshu'), ('data\\\\PGBM-001\\\\11-19-1991-FH-HEADBrain Protocols-40993\\\\35634-nRCBVreg-43858\\\\000024.dcm', 'himanshu')]),\n",
       "       list([('data\\\\PGBM-001\\\\11-19-1991-FH-HEADBrain Protocols-40993\\\\35635-sRCBVreg-60307\\\\000000.dcm', 'himanshu'), ('data\\\\PGBM-001\\\\11-19-1991-FH-HEADBrain Protocols-40993\\\\35635-sRCBVreg-60307\\\\000001.dcm', 'himanshu'), ('data\\\\PGBM-001\\\\11-19-1991-FH-HEADBrain Protocols-40993\\\\35635-sRCBVreg-60307\\\\000002.dcm', 'himanshu'), ('data\\\\PGBM-001\\\\11-19-1991-FH-HEADBrain Protocols-40993\\\\35635-sRCBVreg-60307\\\\000003.dcm', 'himanshu'), ('data\\\\PGBM-001\\\\11-19-1991-FH-HEADBrain Protocols-40993\\\\35635-sRCBVreg-60307\\\\000004.dcm', 'himanshu'), ('data\\\\PGBM-001\\\\11-19-1991-FH-HEADBrain Protocols-40993\\\\35635-sRCBVreg-60307\\\\000005.dcm', 'himanshu'), ('data\\\\PGBM-001\\\\11-19-1991-FH-HEADBrain Protocols-40993\\\\35635-sRCBVreg-60307\\\\000006.dcm', 'himanshu'), ('data\\\\PGBM-001\\\\11-19-1991-FH-HEADBrain Protocols-40993\\\\35635-sRCBVreg-60307\\\\000007.dcm', 'himanshu'), ('data\\\\PGBM-001\\\\11-19-1991-FH-HEADBrain Protocols-40993\\\\35635-sRCBVreg-60307\\\\000008.dcm', 'himanshu'), ('data\\\\PGBM-001\\\\11-19-1991-FH-HEADBrain Protocols-40993\\\\35635-sRCBVreg-60307\\\\000009.dcm', 'himanshu'), ('data\\\\PGBM-001\\\\11-19-1991-FH-HEADBrain Protocols-40993\\\\35635-sRCBVreg-60307\\\\000010.dcm', 'himanshu'), ('data\\\\PGBM-001\\\\11-19-1991-FH-HEADBrain Protocols-40993\\\\35635-sRCBVreg-60307\\\\000011.dcm', 'himanshu'), ('data\\\\PGBM-001\\\\11-19-1991-FH-HEADBrain Protocols-40993\\\\35635-sRCBVreg-60307\\\\000012.dcm', 'himanshu'), ('data\\\\PGBM-001\\\\11-19-1991-FH-HEADBrain Protocols-40993\\\\35635-sRCBVreg-60307\\\\000013.dcm', 'himanshu'), ('data\\\\PGBM-001\\\\11-19-1991-FH-HEADBrain Protocols-40993\\\\35635-sRCBVreg-60307\\\\000014.dcm', 'himanshu'), ('data\\\\PGBM-001\\\\11-19-1991-FH-HEADBrain Protocols-40993\\\\35635-sRCBVreg-60307\\\\000015.dcm', 'himanshu'), ('data\\\\PGBM-001\\\\11-19-1991-FH-HEADBrain Protocols-40993\\\\35635-sRCBVreg-60307\\\\000016.dcm', 'himanshu'), ('data\\\\PGBM-001\\\\11-19-1991-FH-HEADBrain Protocols-40993\\\\35635-sRCBVreg-60307\\\\000017.dcm', 'himanshu'), ('data\\\\PGBM-001\\\\11-19-1991-FH-HEADBrain Protocols-40993\\\\35635-sRCBVreg-60307\\\\000018.dcm', 'himanshu'), ('data\\\\PGBM-001\\\\11-19-1991-FH-HEADBrain Protocols-40993\\\\35635-sRCBVreg-60307\\\\000019.dcm', 'himanshu'), ('data\\\\PGBM-001\\\\11-19-1991-FH-HEADBrain Protocols-40993\\\\35635-sRCBVreg-60307\\\\000020.dcm', 'himanshu'), ('data\\\\PGBM-001\\\\11-19-1991-FH-HEADBrain Protocols-40993\\\\35635-sRCBVreg-60307\\\\000021.dcm', 'himanshu'), ('data\\\\PGBM-001\\\\11-19-1991-FH-HEADBrain Protocols-40993\\\\35635-sRCBVreg-60307\\\\000022.dcm', 'himanshu'), ('data\\\\PGBM-001\\\\11-19-1991-FH-HEADBrain Protocols-40993\\\\35635-sRCBVreg-60307\\\\000023.dcm', 'himanshu'), ('data\\\\PGBM-001\\\\11-19-1991-FH-HEADBrain Protocols-40993\\\\35635-sRCBVreg-60307\\\\000024.dcm', 'himanshu')]),\n",
       "       list([('data\\\\PGBM-001\\\\11-19-1991-FH-HEADBrain Protocols-40993\\\\35637-FLAIRreg-16386\\\\000000.dcm', 'himanshu'), ('data\\\\PGBM-001\\\\11-19-1991-FH-HEADBrain Protocols-40993\\\\35637-FLAIRreg-16386\\\\000001.dcm', 'himanshu'), ('data\\\\PGBM-001\\\\11-19-1991-FH-HEADBrain Protocols-40993\\\\35637-FLAIRreg-16386\\\\000002.dcm', 'himanshu'), ('data\\\\PGBM-001\\\\11-19-1991-FH-HEADBrain Protocols-40993\\\\35637-FLAIRreg-16386\\\\000003.dcm', 'himanshu'), ('data\\\\PGBM-001\\\\11-19-1991-FH-HEADBrain Protocols-40993\\\\35637-FLAIRreg-16386\\\\000004.dcm', 'himanshu'), ('data\\\\PGBM-001\\\\11-19-1991-FH-HEADBrain Protocols-40993\\\\35637-FLAIRreg-16386\\\\000005.dcm', 'himanshu'), ('data\\\\PGBM-001\\\\11-19-1991-FH-HEADBrain Protocols-40993\\\\35637-FLAIRreg-16386\\\\000006.dcm', 'himanshu'), ('data\\\\PGBM-001\\\\11-19-1991-FH-HEADBrain Protocols-40993\\\\35637-FLAIRreg-16386\\\\000007.dcm', 'himanshu'), ('data\\\\PGBM-001\\\\11-19-1991-FH-HEADBrain Protocols-40993\\\\35637-FLAIRreg-16386\\\\000008.dcm', 'himanshu'), ('data\\\\PGBM-001\\\\11-19-1991-FH-HEADBrain Protocols-40993\\\\35637-FLAIRreg-16386\\\\000009.dcm', 'himanshu'), ('data\\\\PGBM-001\\\\11-19-1991-FH-HEADBrain Protocols-40993\\\\35637-FLAIRreg-16386\\\\000010.dcm', 'himanshu'), ('data\\\\PGBM-001\\\\11-19-1991-FH-HEADBrain Protocols-40993\\\\35637-FLAIRreg-16386\\\\000011.dcm', 'himanshu'), ('data\\\\PGBM-001\\\\11-19-1991-FH-HEADBrain Protocols-40993\\\\35637-FLAIRreg-16386\\\\000012.dcm', 'himanshu'), ('data\\\\PGBM-001\\\\11-19-1991-FH-HEADBrain Protocols-40993\\\\35637-FLAIRreg-16386\\\\000013.dcm', 'himanshu'), ('data\\\\PGBM-001\\\\11-19-1991-FH-HEADBrain Protocols-40993\\\\35637-FLAIRreg-16386\\\\000014.dcm', 'himanshu'), ('data\\\\PGBM-001\\\\11-19-1991-FH-HEADBrain Protocols-40993\\\\35637-FLAIRreg-16386\\\\000015.dcm', 'himanshu'), ('data\\\\PGBM-001\\\\11-19-1991-FH-HEADBrain Protocols-40993\\\\35637-FLAIRreg-16386\\\\000016.dcm', 'himanshu'), ('data\\\\PGBM-001\\\\11-19-1991-FH-HEADBrain Protocols-40993\\\\35637-FLAIRreg-16386\\\\000017.dcm', 'himanshu'), ('data\\\\PGBM-001\\\\11-19-1991-FH-HEADBrain Protocols-40993\\\\35637-FLAIRreg-16386\\\\000018.dcm', 'himanshu'), ('data\\\\PGBM-001\\\\11-19-1991-FH-HEADBrain Protocols-40993\\\\35637-FLAIRreg-16386\\\\000019.dcm', 'himanshu'), ('data\\\\PGBM-001\\\\11-19-1991-FH-HEADBrain Protocols-40993\\\\35637-FLAIRreg-16386\\\\000020.dcm', 'himanshu'), ('data\\\\PGBM-001\\\\11-19-1991-FH-HEADBrain Protocols-40993\\\\35637-FLAIRreg-16386\\\\000021.dcm', 'himanshu'), ('data\\\\PGBM-001\\\\11-19-1991-FH-HEADBrain Protocols-40993\\\\35637-FLAIRreg-16386\\\\000022.dcm', 'himanshu'), ('data\\\\PGBM-001\\\\11-19-1991-FH-HEADBrain Protocols-40993\\\\35637-FLAIRreg-16386\\\\000023.dcm', 'himanshu'), ('data\\\\PGBM-001\\\\11-19-1991-FH-HEADBrain Protocols-40993\\\\35637-FLAIRreg-16386\\\\000024.dcm', 'himanshu')]),\n",
       "       list([('data\\\\PGBM-001\\\\11-19-1991-FH-HEADBrain Protocols-40993\\\\35638-ADCreg-71556\\\\000000.dcm', 'himanshu'), ('data\\\\PGBM-001\\\\11-19-1991-FH-HEADBrain Protocols-40993\\\\35638-ADCreg-71556\\\\000001.dcm', 'himanshu'), ('data\\\\PGBM-001\\\\11-19-1991-FH-HEADBrain Protocols-40993\\\\35638-ADCreg-71556\\\\000002.dcm', 'himanshu'), ('data\\\\PGBM-001\\\\11-19-1991-FH-HEADBrain Protocols-40993\\\\35638-ADCreg-71556\\\\000003.dcm', 'himanshu'), ('data\\\\PGBM-001\\\\11-19-1991-FH-HEADBrain Protocols-40993\\\\35638-ADCreg-71556\\\\000004.dcm', 'himanshu'), ('data\\\\PGBM-001\\\\11-19-1991-FH-HEADBrain Protocols-40993\\\\35638-ADCreg-71556\\\\000005.dcm', 'himanshu'), ('data\\\\PGBM-001\\\\11-19-1991-FH-HEADBrain Protocols-40993\\\\35638-ADCreg-71556\\\\000006.dcm', 'himanshu'), ('data\\\\PGBM-001\\\\11-19-1991-FH-HEADBrain Protocols-40993\\\\35638-ADCreg-71556\\\\000007.dcm', 'himanshu'), ('data\\\\PGBM-001\\\\11-19-1991-FH-HEADBrain Protocols-40993\\\\35638-ADCreg-71556\\\\000008.dcm', 'himanshu'), ('data\\\\PGBM-001\\\\11-19-1991-FH-HEADBrain Protocols-40993\\\\35638-ADCreg-71556\\\\000009.dcm', 'himanshu'), ('data\\\\PGBM-001\\\\11-19-1991-FH-HEADBrain Protocols-40993\\\\35638-ADCreg-71556\\\\000010.dcm', 'himanshu'), ('data\\\\PGBM-001\\\\11-19-1991-FH-HEADBrain Protocols-40993\\\\35638-ADCreg-71556\\\\000011.dcm', 'himanshu'), ('data\\\\PGBM-001\\\\11-19-1991-FH-HEADBrain Protocols-40993\\\\35638-ADCreg-71556\\\\000012.dcm', 'himanshu'), ('data\\\\PGBM-001\\\\11-19-1991-FH-HEADBrain Protocols-40993\\\\35638-ADCreg-71556\\\\000013.dcm', 'himanshu'), ('data\\\\PGBM-001\\\\11-19-1991-FH-HEADBrain Protocols-40993\\\\35638-ADCreg-71556\\\\000014.dcm', 'himanshu'), ('data\\\\PGBM-001\\\\11-19-1991-FH-HEADBrain Protocols-40993\\\\35638-ADCreg-71556\\\\000015.dcm', 'himanshu'), ('data\\\\PGBM-001\\\\11-19-1991-FH-HEADBrain Protocols-40993\\\\35638-ADCreg-71556\\\\000016.dcm', 'himanshu'), ('data\\\\PGBM-001\\\\11-19-1991-FH-HEADBrain Protocols-40993\\\\35638-ADCreg-71556\\\\000017.dcm', 'himanshu'), ('data\\\\PGBM-001\\\\11-19-1991-FH-HEADBrain Protocols-40993\\\\35638-ADCreg-71556\\\\000018.dcm', 'himanshu'), ('data\\\\PGBM-001\\\\11-19-1991-FH-HEADBrain Protocols-40993\\\\35638-ADCreg-71556\\\\000019.dcm', 'himanshu'), ('data\\\\PGBM-001\\\\11-19-1991-FH-HEADBrain Protocols-40993\\\\35638-ADCreg-71556\\\\000020.dcm', 'himanshu'), ('data\\\\PGBM-001\\\\11-19-1991-FH-HEADBrain Protocols-40993\\\\35638-ADCreg-71556\\\\000021.dcm', 'himanshu'), ('data\\\\PGBM-001\\\\11-19-1991-FH-HEADBrain Protocols-40993\\\\35638-ADCreg-71556\\\\000022.dcm', 'himanshu'), ('data\\\\PGBM-001\\\\11-19-1991-FH-HEADBrain Protocols-40993\\\\35638-ADCreg-71556\\\\000023.dcm', 'himanshu'), ('data\\\\PGBM-001\\\\11-19-1991-FH-HEADBrain Protocols-40993\\\\35638-ADCreg-71556\\\\000024.dcm', 'himanshu')]),\n",
       "       list([('data\\\\PGBM-001\\\\11-19-1991-FH-HEADBrain Protocols-40993\\\\37910-T2reg-84816\\\\000000.dcm', 'himanshu'), ('data\\\\PGBM-001\\\\11-19-1991-FH-HEADBrain Protocols-40993\\\\37910-T2reg-84816\\\\000001.dcm', 'himanshu'), ('data\\\\PGBM-001\\\\11-19-1991-FH-HEADBrain Protocols-40993\\\\37910-T2reg-84816\\\\000002.dcm', 'himanshu'), ('data\\\\PGBM-001\\\\11-19-1991-FH-HEADBrain Protocols-40993\\\\37910-T2reg-84816\\\\000003.dcm', 'himanshu'), ('data\\\\PGBM-001\\\\11-19-1991-FH-HEADBrain Protocols-40993\\\\37910-T2reg-84816\\\\000004.dcm', 'himanshu'), ('data\\\\PGBM-001\\\\11-19-1991-FH-HEADBrain Protocols-40993\\\\37910-T2reg-84816\\\\000005.dcm', 'himanshu'), ('data\\\\PGBM-001\\\\11-19-1991-FH-HEADBrain Protocols-40993\\\\37910-T2reg-84816\\\\000006.dcm', 'himanshu'), ('data\\\\PGBM-001\\\\11-19-1991-FH-HEADBrain Protocols-40993\\\\37910-T2reg-84816\\\\000007.dcm', 'himanshu'), ('data\\\\PGBM-001\\\\11-19-1991-FH-HEADBrain Protocols-40993\\\\37910-T2reg-84816\\\\000008.dcm', 'himanshu'), ('data\\\\PGBM-001\\\\11-19-1991-FH-HEADBrain Protocols-40993\\\\37910-T2reg-84816\\\\000009.dcm', 'himanshu'), ('data\\\\PGBM-001\\\\11-19-1991-FH-HEADBrain Protocols-40993\\\\37910-T2reg-84816\\\\000010.dcm', 'himanshu'), ('data\\\\PGBM-001\\\\11-19-1991-FH-HEADBrain Protocols-40993\\\\37910-T2reg-84816\\\\000011.dcm', 'himanshu'), ('data\\\\PGBM-001\\\\11-19-1991-FH-HEADBrain Protocols-40993\\\\37910-T2reg-84816\\\\000012.dcm', 'himanshu'), ('data\\\\PGBM-001\\\\11-19-1991-FH-HEADBrain Protocols-40993\\\\37910-T2reg-84816\\\\000013.dcm', 'himanshu'), ('data\\\\PGBM-001\\\\11-19-1991-FH-HEADBrain Protocols-40993\\\\37910-T2reg-84816\\\\000014.dcm', 'himanshu'), ('data\\\\PGBM-001\\\\11-19-1991-FH-HEADBrain Protocols-40993\\\\37910-T2reg-84816\\\\000015.dcm', 'himanshu'), ('data\\\\PGBM-001\\\\11-19-1991-FH-HEADBrain Protocols-40993\\\\37910-T2reg-84816\\\\000016.dcm', 'himanshu'), ('data\\\\PGBM-001\\\\11-19-1991-FH-HEADBrain Protocols-40993\\\\37910-T2reg-84816\\\\000017.dcm', 'himanshu'), ('data\\\\PGBM-001\\\\11-19-1991-FH-HEADBrain Protocols-40993\\\\37910-T2reg-84816\\\\000018.dcm', 'himanshu'), ('data\\\\PGBM-001\\\\11-19-1991-FH-HEADBrain Protocols-40993\\\\37910-T2reg-84816\\\\000019.dcm', 'himanshu'), ('data\\\\PGBM-001\\\\11-19-1991-FH-HEADBrain Protocols-40993\\\\37910-T2reg-84816\\\\000020.dcm', 'himanshu'), ('data\\\\PGBM-001\\\\11-19-1991-FH-HEADBrain Protocols-40993\\\\37910-T2reg-84816\\\\000021.dcm', 'himanshu'), ('data\\\\PGBM-001\\\\11-19-1991-FH-HEADBrain Protocols-40993\\\\37910-T2reg-84816\\\\000022.dcm', 'himanshu'), ('data\\\\PGBM-001\\\\11-19-1991-FH-HEADBrain Protocols-40993\\\\37910-T2reg-84816\\\\000023.dcm', 'himanshu'), ('data\\\\PGBM-001\\\\11-19-1991-FH-HEADBrain Protocols-40993\\\\37910-T2reg-84816\\\\000024.dcm', 'himanshu')]),\n",
       "       list([('data\\\\PGBM-001\\\\11-19-1991-FH-HEADBrain Protocols-40993\\\\5364-MaskTumor-94345\\\\000000.dcm', 'himanshu'), ('data\\\\PGBM-001\\\\11-19-1991-FH-HEADBrain Protocols-40993\\\\5364-MaskTumor-94345\\\\000001.dcm', 'himanshu'), ('data\\\\PGBM-001\\\\11-19-1991-FH-HEADBrain Protocols-40993\\\\5364-MaskTumor-94345\\\\000002.dcm', 'himanshu'), ('data\\\\PGBM-001\\\\11-19-1991-FH-HEADBrain Protocols-40993\\\\5364-MaskTumor-94345\\\\000003.dcm', 'himanshu'), ('data\\\\PGBM-001\\\\11-19-1991-FH-HEADBrain Protocols-40993\\\\5364-MaskTumor-94345\\\\000004.dcm', 'himanshu'), ('data\\\\PGBM-001\\\\11-19-1991-FH-HEADBrain Protocols-40993\\\\5364-MaskTumor-94345\\\\000005.dcm', 'himanshu'), ('data\\\\PGBM-001\\\\11-19-1991-FH-HEADBrain Protocols-40993\\\\5364-MaskTumor-94345\\\\000006.dcm', 'himanshu'), ('data\\\\PGBM-001\\\\11-19-1991-FH-HEADBrain Protocols-40993\\\\5364-MaskTumor-94345\\\\000007.dcm', 'himanshu'), ('data\\\\PGBM-001\\\\11-19-1991-FH-HEADBrain Protocols-40993\\\\5364-MaskTumor-94345\\\\000008.dcm', 'himanshu'), ('data\\\\PGBM-001\\\\11-19-1991-FH-HEADBrain Protocols-40993\\\\5364-MaskTumor-94345\\\\000009.dcm', 'himanshu'), ('data\\\\PGBM-001\\\\11-19-1991-FH-HEADBrain Protocols-40993\\\\5364-MaskTumor-94345\\\\000010.dcm', 'himanshu'), ('data\\\\PGBM-001\\\\11-19-1991-FH-HEADBrain Protocols-40993\\\\5364-MaskTumor-94345\\\\000011.dcm', 'himanshu'), ('data\\\\PGBM-001\\\\11-19-1991-FH-HEADBrain Protocols-40993\\\\5364-MaskTumor-94345\\\\000012.dcm', 'himanshu'), ('data\\\\PGBM-001\\\\11-19-1991-FH-HEADBrain Protocols-40993\\\\5364-MaskTumor-94345\\\\000013.dcm', 'himanshu'), ('data\\\\PGBM-001\\\\11-19-1991-FH-HEADBrain Protocols-40993\\\\5364-MaskTumor-94345\\\\000014.dcm', 'himanshu'), ('data\\\\PGBM-001\\\\11-19-1991-FH-HEADBrain Protocols-40993\\\\5364-MaskTumor-94345\\\\000015.dcm', 'himanshu'), ('data\\\\PGBM-001\\\\11-19-1991-FH-HEADBrain Protocols-40993\\\\5364-MaskTumor-94345\\\\000016.dcm', 'himanshu'), ('data\\\\PGBM-001\\\\11-19-1991-FH-HEADBrain Protocols-40993\\\\5364-MaskTumor-94345\\\\000017.dcm', 'himanshu'), ('data\\\\PGBM-001\\\\11-19-1991-FH-HEADBrain Protocols-40993\\\\5364-MaskTumor-94345\\\\000018.dcm', 'himanshu'), ('data\\\\PGBM-001\\\\11-19-1991-FH-HEADBrain Protocols-40993\\\\5364-MaskTumor-94345\\\\000019.dcm', 'himanshu'), ('data\\\\PGBM-001\\\\11-19-1991-FH-HEADBrain Protocols-40993\\\\5364-MaskTumor-94345\\\\000020.dcm', 'himanshu'), ('data\\\\PGBM-001\\\\11-19-1991-FH-HEADBrain Protocols-40993\\\\5364-MaskTumor-94345\\\\000021.dcm', 'himanshu'), ('data\\\\PGBM-001\\\\11-19-1991-FH-HEADBrain Protocols-40993\\\\5364-MaskTumor-94345\\\\000022.dcm', 'himanshu'), ('data\\\\PGBM-001\\\\11-19-1991-FH-HEADBrain Protocols-40993\\\\5364-MaskTumor-94345\\\\000023.dcm', 'himanshu'), ('data\\\\PGBM-001\\\\11-19-1991-FH-HEADBrain Protocols-40993\\\\5364-MaskTumor-94345\\\\000024.dcm', 'himanshu')]),\n",
       "       list([('data\\\\PGBM-003\\\\03-29-1995-Mr Rcbv Sequence-Fh-44184\\\\11-T1post-18670\\\\000000.dcm', 'himanshu'), ('data\\\\PGBM-003\\\\03-29-1995-Mr Rcbv Sequence-Fh-44184\\\\11-T1post-18670\\\\000001.dcm', 'himanshu'), ('data\\\\PGBM-003\\\\03-29-1995-Mr Rcbv Sequence-Fh-44184\\\\11-T1post-18670\\\\000002.dcm', 'himanshu'), ('data\\\\PGBM-003\\\\03-29-1995-Mr Rcbv Sequence-Fh-44184\\\\11-T1post-18670\\\\000003.dcm', 'himanshu'), ('data\\\\PGBM-003\\\\03-29-1995-Mr Rcbv Sequence-Fh-44184\\\\11-T1post-18670\\\\000004.dcm', 'himanshu'), ('data\\\\PGBM-003\\\\03-29-1995-Mr Rcbv Sequence-Fh-44184\\\\11-T1post-18670\\\\000005.dcm', 'himanshu'), ('data\\\\PGBM-003\\\\03-29-1995-Mr Rcbv Sequence-Fh-44184\\\\11-T1post-18670\\\\000006.dcm', 'himanshu'), ('data\\\\PGBM-003\\\\03-29-1995-Mr Rcbv Sequence-Fh-44184\\\\11-T1post-18670\\\\000007.dcm', 'himanshu'), ('data\\\\PGBM-003\\\\03-29-1995-Mr Rcbv Sequence-Fh-44184\\\\11-T1post-18670\\\\000008.dcm', 'himanshu'), ('data\\\\PGBM-003\\\\03-29-1995-Mr Rcbv Sequence-Fh-44184\\\\11-T1post-18670\\\\000009.dcm', 'himanshu'), ('data\\\\PGBM-003\\\\03-29-1995-Mr Rcbv Sequence-Fh-44184\\\\11-T1post-18670\\\\000010.dcm', 'himanshu'), ('data\\\\PGBM-003\\\\03-29-1995-Mr Rcbv Sequence-Fh-44184\\\\11-T1post-18670\\\\000011.dcm', 'himanshu'), ('data\\\\PGBM-003\\\\03-29-1995-Mr Rcbv Sequence-Fh-44184\\\\11-T1post-18670\\\\000012.dcm', 'himanshu'), ('data\\\\PGBM-003\\\\03-29-1995-Mr Rcbv Sequence-Fh-44184\\\\11-T1post-18670\\\\000013.dcm', 'himanshu'), ('data\\\\PGBM-003\\\\03-29-1995-Mr Rcbv Sequence-Fh-44184\\\\11-T1post-18670\\\\000014.dcm', 'himanshu'), ('data\\\\PGBM-003\\\\03-29-1995-Mr Rcbv Sequence-Fh-44184\\\\11-T1post-18670\\\\000015.dcm', 'himanshu'), ('data\\\\PGBM-003\\\\03-29-1995-Mr Rcbv Sequence-Fh-44184\\\\11-T1post-18670\\\\000016.dcm', 'himanshu'), ('data\\\\PGBM-003\\\\03-29-1995-Mr Rcbv Sequence-Fh-44184\\\\11-T1post-18670\\\\000017.dcm', 'himanshu'), ('data\\\\PGBM-003\\\\03-29-1995-Mr Rcbv Sequence-Fh-44184\\\\11-T1post-18670\\\\000018.dcm', 'himanshu'), ('data\\\\PGBM-003\\\\03-29-1995-Mr Rcbv Sequence-Fh-44184\\\\11-T1post-18670\\\\000019.dcm', 'himanshu'), ('data\\\\PGBM-003\\\\03-29-1995-Mr Rcbv Sequence-Fh-44184\\\\11-T1post-18670\\\\000020.dcm', 'himanshu'), ('data\\\\PGBM-003\\\\03-29-1995-Mr Rcbv Sequence-Fh-44184\\\\11-T1post-18670\\\\000021.dcm', 'himanshu')]),\n",
       "       list([('data\\\\PGBM-003\\\\03-29-1995-Mr Rcbv Sequence-Fh-44184\\\\21400-dT1-11016\\\\000000.dcm', 'himanshu'), ('data\\\\PGBM-003\\\\03-29-1995-Mr Rcbv Sequence-Fh-44184\\\\21400-dT1-11016\\\\000001.dcm', 'himanshu'), ('data\\\\PGBM-003\\\\03-29-1995-Mr Rcbv Sequence-Fh-44184\\\\21400-dT1-11016\\\\000002.dcm', 'himanshu'), ('data\\\\PGBM-003\\\\03-29-1995-Mr Rcbv Sequence-Fh-44184\\\\21400-dT1-11016\\\\000003.dcm', 'himanshu'), ('data\\\\PGBM-003\\\\03-29-1995-Mr Rcbv Sequence-Fh-44184\\\\21400-dT1-11016\\\\000004.dcm', 'himanshu'), ('data\\\\PGBM-003\\\\03-29-1995-Mr Rcbv Sequence-Fh-44184\\\\21400-dT1-11016\\\\000005.dcm', 'himanshu'), ('data\\\\PGBM-003\\\\03-29-1995-Mr Rcbv Sequence-Fh-44184\\\\21400-dT1-11016\\\\000006.dcm', 'himanshu'), ('data\\\\PGBM-003\\\\03-29-1995-Mr Rcbv Sequence-Fh-44184\\\\21400-dT1-11016\\\\000007.dcm', 'himanshu'), ('data\\\\PGBM-003\\\\03-29-1995-Mr Rcbv Sequence-Fh-44184\\\\21400-dT1-11016\\\\000008.dcm', 'himanshu'), ('data\\\\PGBM-003\\\\03-29-1995-Mr Rcbv Sequence-Fh-44184\\\\21400-dT1-11016\\\\000009.dcm', 'himanshu'), ('data\\\\PGBM-003\\\\03-29-1995-Mr Rcbv Sequence-Fh-44184\\\\21400-dT1-11016\\\\000010.dcm', 'himanshu'), ('data\\\\PGBM-003\\\\03-29-1995-Mr Rcbv Sequence-Fh-44184\\\\21400-dT1-11016\\\\000011.dcm', 'himanshu'), ('data\\\\PGBM-003\\\\03-29-1995-Mr Rcbv Sequence-Fh-44184\\\\21400-dT1-11016\\\\000012.dcm', 'himanshu'), ('data\\\\PGBM-003\\\\03-29-1995-Mr Rcbv Sequence-Fh-44184\\\\21400-dT1-11016\\\\000013.dcm', 'himanshu'), ('data\\\\PGBM-003\\\\03-29-1995-Mr Rcbv Sequence-Fh-44184\\\\21400-dT1-11016\\\\000014.dcm', 'himanshu'), ('data\\\\PGBM-003\\\\03-29-1995-Mr Rcbv Sequence-Fh-44184\\\\21400-dT1-11016\\\\000015.dcm', 'himanshu'), ('data\\\\PGBM-003\\\\03-29-1995-Mr Rcbv Sequence-Fh-44184\\\\21400-dT1-11016\\\\000016.dcm', 'himanshu'), ('data\\\\PGBM-003\\\\03-29-1995-Mr Rcbv Sequence-Fh-44184\\\\21400-dT1-11016\\\\000017.dcm', 'himanshu'), ('data\\\\PGBM-003\\\\03-29-1995-Mr Rcbv Sequence-Fh-44184\\\\21400-dT1-11016\\\\000018.dcm', 'himanshu'), ('data\\\\PGBM-003\\\\03-29-1995-Mr Rcbv Sequence-Fh-44184\\\\21400-dT1-11016\\\\000019.dcm', 'himanshu'), ('data\\\\PGBM-003\\\\03-29-1995-Mr Rcbv Sequence-Fh-44184\\\\21400-dT1-11016\\\\000020.dcm', 'himanshu'), ('data\\\\PGBM-003\\\\03-29-1995-Mr Rcbv Sequence-Fh-44184\\\\21400-dT1-11016\\\\000021.dcm', 'himanshu')]),\n",
       "       list([('data\\\\PGBM-003\\\\03-29-1995-Mr Rcbv Sequence-Fh-44184\\\\26401-T1prereg-52906\\\\000000.dcm', 'himanshu'), ('data\\\\PGBM-003\\\\03-29-1995-Mr Rcbv Sequence-Fh-44184\\\\26401-T1prereg-52906\\\\000001.dcm', 'himanshu'), ('data\\\\PGBM-003\\\\03-29-1995-Mr Rcbv Sequence-Fh-44184\\\\26401-T1prereg-52906\\\\000002.dcm', 'himanshu'), ('data\\\\PGBM-003\\\\03-29-1995-Mr Rcbv Sequence-Fh-44184\\\\26401-T1prereg-52906\\\\000003.dcm', 'himanshu'), ('data\\\\PGBM-003\\\\03-29-1995-Mr Rcbv Sequence-Fh-44184\\\\26401-T1prereg-52906\\\\000004.dcm', 'himanshu'), ('data\\\\PGBM-003\\\\03-29-1995-Mr Rcbv Sequence-Fh-44184\\\\26401-T1prereg-52906\\\\000005.dcm', 'himanshu'), ('data\\\\PGBM-003\\\\03-29-1995-Mr Rcbv Sequence-Fh-44184\\\\26401-T1prereg-52906\\\\000006.dcm', 'himanshu'), ('data\\\\PGBM-003\\\\03-29-1995-Mr Rcbv Sequence-Fh-44184\\\\26401-T1prereg-52906\\\\000007.dcm', 'himanshu'), ('data\\\\PGBM-003\\\\03-29-1995-Mr Rcbv Sequence-Fh-44184\\\\26401-T1prereg-52906\\\\000008.dcm', 'himanshu'), ('data\\\\PGBM-003\\\\03-29-1995-Mr Rcbv Sequence-Fh-44184\\\\26401-T1prereg-52906\\\\000009.dcm', 'himanshu'), ('data\\\\PGBM-003\\\\03-29-1995-Mr Rcbv Sequence-Fh-44184\\\\26401-T1prereg-52906\\\\000010.dcm', 'himanshu'), ('data\\\\PGBM-003\\\\03-29-1995-Mr Rcbv Sequence-Fh-44184\\\\26401-T1prereg-52906\\\\000011.dcm', 'himanshu'), ('data\\\\PGBM-003\\\\03-29-1995-Mr Rcbv Sequence-Fh-44184\\\\26401-T1prereg-52906\\\\000012.dcm', 'himanshu'), ('data\\\\PGBM-003\\\\03-29-1995-Mr Rcbv Sequence-Fh-44184\\\\26401-T1prereg-52906\\\\000013.dcm', 'himanshu'), ('data\\\\PGBM-003\\\\03-29-1995-Mr Rcbv Sequence-Fh-44184\\\\26401-T1prereg-52906\\\\000014.dcm', 'himanshu'), ('data\\\\PGBM-003\\\\03-29-1995-Mr Rcbv Sequence-Fh-44184\\\\26401-T1prereg-52906\\\\000015.dcm', 'himanshu'), ('data\\\\PGBM-003\\\\03-29-1995-Mr Rcbv Sequence-Fh-44184\\\\26401-T1prereg-52906\\\\000016.dcm', 'himanshu'), ('data\\\\PGBM-003\\\\03-29-1995-Mr Rcbv Sequence-Fh-44184\\\\26401-T1prereg-52906\\\\000017.dcm', 'himanshu'), ('data\\\\PGBM-003\\\\03-29-1995-Mr Rcbv Sequence-Fh-44184\\\\26401-T1prereg-52906\\\\000018.dcm', 'himanshu'), ('data\\\\PGBM-003\\\\03-29-1995-Mr Rcbv Sequence-Fh-44184\\\\26401-T1prereg-52906\\\\000019.dcm', 'himanshu'), ('data\\\\PGBM-003\\\\03-29-1995-Mr Rcbv Sequence-Fh-44184\\\\26401-T1prereg-52906\\\\000020.dcm', 'himanshu'), ('data\\\\PGBM-003\\\\03-29-1995-Mr Rcbv Sequence-Fh-44184\\\\26401-T1prereg-52906\\\\000021.dcm', 'himanshu')]),\n",
       "       list([('data\\\\PGBM-003\\\\03-29-1995-Mr Rcbv Sequence-Fh-44184\\\\26405-nCBFreg-43819\\\\000000.dcm', 'himanshu'), ('data\\\\PGBM-003\\\\03-29-1995-Mr Rcbv Sequence-Fh-44184\\\\26405-nCBFreg-43819\\\\000001.dcm', 'himanshu'), ('data\\\\PGBM-003\\\\03-29-1995-Mr Rcbv Sequence-Fh-44184\\\\26405-nCBFreg-43819\\\\000002.dcm', 'himanshu'), ('data\\\\PGBM-003\\\\03-29-1995-Mr Rcbv Sequence-Fh-44184\\\\26405-nCBFreg-43819\\\\000003.dcm', 'himanshu'), ('data\\\\PGBM-003\\\\03-29-1995-Mr Rcbv Sequence-Fh-44184\\\\26405-nCBFreg-43819\\\\000004.dcm', 'himanshu'), ('data\\\\PGBM-003\\\\03-29-1995-Mr Rcbv Sequence-Fh-44184\\\\26405-nCBFreg-43819\\\\000005.dcm', 'himanshu'), ('data\\\\PGBM-003\\\\03-29-1995-Mr Rcbv Sequence-Fh-44184\\\\26405-nCBFreg-43819\\\\000006.dcm', 'himanshu'), ('data\\\\PGBM-003\\\\03-29-1995-Mr Rcbv Sequence-Fh-44184\\\\26405-nCBFreg-43819\\\\000007.dcm', 'himanshu'), ('data\\\\PGBM-003\\\\03-29-1995-Mr Rcbv Sequence-Fh-44184\\\\26405-nCBFreg-43819\\\\000008.dcm', 'himanshu'), ('data\\\\PGBM-003\\\\03-29-1995-Mr Rcbv Sequence-Fh-44184\\\\26405-nCBFreg-43819\\\\000009.dcm', 'himanshu'), ('data\\\\PGBM-003\\\\03-29-1995-Mr Rcbv Sequence-Fh-44184\\\\26405-nCBFreg-43819\\\\000010.dcm', 'himanshu'), ('data\\\\PGBM-003\\\\03-29-1995-Mr Rcbv Sequence-Fh-44184\\\\26405-nCBFreg-43819\\\\000011.dcm', 'himanshu'), ('data\\\\PGBM-003\\\\03-29-1995-Mr Rcbv Sequence-Fh-44184\\\\26405-nCBFreg-43819\\\\000012.dcm', 'himanshu'), ('data\\\\PGBM-003\\\\03-29-1995-Mr Rcbv Sequence-Fh-44184\\\\26405-nCBFreg-43819\\\\000013.dcm', 'himanshu'), ('data\\\\PGBM-003\\\\03-29-1995-Mr Rcbv Sequence-Fh-44184\\\\26405-nCBFreg-43819\\\\000014.dcm', 'himanshu'), ('data\\\\PGBM-003\\\\03-29-1995-Mr Rcbv Sequence-Fh-44184\\\\26405-nCBFreg-43819\\\\000015.dcm', 'himanshu'), ('data\\\\PGBM-003\\\\03-29-1995-Mr Rcbv Sequence-Fh-44184\\\\26405-nCBFreg-43819\\\\000016.dcm', 'himanshu'), ('data\\\\PGBM-003\\\\03-29-1995-Mr Rcbv Sequence-Fh-44184\\\\26405-nCBFreg-43819\\\\000017.dcm', 'himanshu'), ('data\\\\PGBM-003\\\\03-29-1995-Mr Rcbv Sequence-Fh-44184\\\\26405-nCBFreg-43819\\\\000018.dcm', 'himanshu'), ('data\\\\PGBM-003\\\\03-29-1995-Mr Rcbv Sequence-Fh-44184\\\\26405-nCBFreg-43819\\\\000019.dcm', 'himanshu'), ('data\\\\PGBM-003\\\\03-29-1995-Mr Rcbv Sequence-Fh-44184\\\\26405-nCBFreg-43819\\\\000020.dcm', 'himanshu'), ('data\\\\PGBM-003\\\\03-29-1995-Mr Rcbv Sequence-Fh-44184\\\\26405-nCBFreg-43819\\\\000021.dcm', 'himanshu')]),\n",
       "       list([('data\\\\PGBM-003\\\\03-29-1995-Mr Rcbv Sequence-Fh-44184\\\\26406-sRCBVreg-32571\\\\000000.dcm', 'himanshu'), ('data\\\\PGBM-003\\\\03-29-1995-Mr Rcbv Sequence-Fh-44184\\\\26406-sRCBVreg-32571\\\\000001.dcm', 'himanshu'), ('data\\\\PGBM-003\\\\03-29-1995-Mr Rcbv Sequence-Fh-44184\\\\26406-sRCBVreg-32571\\\\000002.dcm', 'himanshu'), ('data\\\\PGBM-003\\\\03-29-1995-Mr Rcbv Sequence-Fh-44184\\\\26406-sRCBVreg-32571\\\\000003.dcm', 'himanshu'), ('data\\\\PGBM-003\\\\03-29-1995-Mr Rcbv Sequence-Fh-44184\\\\26406-sRCBVreg-32571\\\\000004.dcm', 'himanshu'), ('data\\\\PGBM-003\\\\03-29-1995-Mr Rcbv Sequence-Fh-44184\\\\26406-sRCBVreg-32571\\\\000005.dcm', 'himanshu'), ('data\\\\PGBM-003\\\\03-29-1995-Mr Rcbv Sequence-Fh-44184\\\\26406-sRCBVreg-32571\\\\000006.dcm', 'himanshu'), ('data\\\\PGBM-003\\\\03-29-1995-Mr Rcbv Sequence-Fh-44184\\\\26406-sRCBVreg-32571\\\\000007.dcm', 'himanshu'), ('data\\\\PGBM-003\\\\03-29-1995-Mr Rcbv Sequence-Fh-44184\\\\26406-sRCBVreg-32571\\\\000008.dcm', 'himanshu'), ('data\\\\PGBM-003\\\\03-29-1995-Mr Rcbv Sequence-Fh-44184\\\\26406-sRCBVreg-32571\\\\000009.dcm', 'himanshu'), ('data\\\\PGBM-003\\\\03-29-1995-Mr Rcbv Sequence-Fh-44184\\\\26406-sRCBVreg-32571\\\\000010.dcm', 'himanshu'), ('data\\\\PGBM-003\\\\03-29-1995-Mr Rcbv Sequence-Fh-44184\\\\26406-sRCBVreg-32571\\\\000011.dcm', 'himanshu'), ('data\\\\PGBM-003\\\\03-29-1995-Mr Rcbv Sequence-Fh-44184\\\\26406-sRCBVreg-32571\\\\000012.dcm', 'himanshu'), ('data\\\\PGBM-003\\\\03-29-1995-Mr Rcbv Sequence-Fh-44184\\\\26406-sRCBVreg-32571\\\\000013.dcm', 'himanshu'), ('data\\\\PGBM-003\\\\03-29-1995-Mr Rcbv Sequence-Fh-44184\\\\26406-sRCBVreg-32571\\\\000014.dcm', 'himanshu'), ('data\\\\PGBM-003\\\\03-29-1995-Mr Rcbv Sequence-Fh-44184\\\\26406-sRCBVreg-32571\\\\000015.dcm', 'himanshu'), ('data\\\\PGBM-003\\\\03-29-1995-Mr Rcbv Sequence-Fh-44184\\\\26406-sRCBVreg-32571\\\\000016.dcm', 'himanshu'), ('data\\\\PGBM-003\\\\03-29-1995-Mr Rcbv Sequence-Fh-44184\\\\26406-sRCBVreg-32571\\\\000017.dcm', 'himanshu'), ('data\\\\PGBM-003\\\\03-29-1995-Mr Rcbv Sequence-Fh-44184\\\\26406-sRCBVreg-32571\\\\000018.dcm', 'himanshu'), ('data\\\\PGBM-003\\\\03-29-1995-Mr Rcbv Sequence-Fh-44184\\\\26406-sRCBVreg-32571\\\\000019.dcm', 'himanshu'), ('data\\\\PGBM-003\\\\03-29-1995-Mr Rcbv Sequence-Fh-44184\\\\26406-sRCBVreg-32571\\\\000020.dcm', 'himanshu'), ('data\\\\PGBM-003\\\\03-29-1995-Mr Rcbv Sequence-Fh-44184\\\\26406-sRCBVreg-32571\\\\000021.dcm', 'himanshu')]),\n",
       "       list([('data\\\\PGBM-003\\\\03-29-1995-Mr Rcbv Sequence-Fh-44184\\\\26407-nRCBVreg-23006\\\\000000.dcm', 'himanshu'), ('data\\\\PGBM-003\\\\03-29-1995-Mr Rcbv Sequence-Fh-44184\\\\26407-nRCBVreg-23006\\\\000001.dcm', 'himanshu'), ('data\\\\PGBM-003\\\\03-29-1995-Mr Rcbv Sequence-Fh-44184\\\\26407-nRCBVreg-23006\\\\000002.dcm', 'himanshu'), ('data\\\\PGBM-003\\\\03-29-1995-Mr Rcbv Sequence-Fh-44184\\\\26407-nRCBVreg-23006\\\\000003.dcm', 'himanshu'), ('data\\\\PGBM-003\\\\03-29-1995-Mr Rcbv Sequence-Fh-44184\\\\26407-nRCBVreg-23006\\\\000004.dcm', 'himanshu'), ('data\\\\PGBM-003\\\\03-29-1995-Mr Rcbv Sequence-Fh-44184\\\\26407-nRCBVreg-23006\\\\000005.dcm', 'himanshu'), ('data\\\\PGBM-003\\\\03-29-1995-Mr Rcbv Sequence-Fh-44184\\\\26407-nRCBVreg-23006\\\\000006.dcm', 'himanshu'), ('data\\\\PGBM-003\\\\03-29-1995-Mr Rcbv Sequence-Fh-44184\\\\26407-nRCBVreg-23006\\\\000007.dcm', 'himanshu'), ('data\\\\PGBM-003\\\\03-29-1995-Mr Rcbv Sequence-Fh-44184\\\\26407-nRCBVreg-23006\\\\000008.dcm', 'himanshu'), ('data\\\\PGBM-003\\\\03-29-1995-Mr Rcbv Sequence-Fh-44184\\\\26407-nRCBVreg-23006\\\\000009.dcm', 'himanshu'), ('data\\\\PGBM-003\\\\03-29-1995-Mr Rcbv Sequence-Fh-44184\\\\26407-nRCBVreg-23006\\\\000010.dcm', 'himanshu'), ('data\\\\PGBM-003\\\\03-29-1995-Mr Rcbv Sequence-Fh-44184\\\\26407-nRCBVreg-23006\\\\000011.dcm', 'himanshu'), ('data\\\\PGBM-003\\\\03-29-1995-Mr Rcbv Sequence-Fh-44184\\\\26407-nRCBVreg-23006\\\\000012.dcm', 'himanshu'), ('data\\\\PGBM-003\\\\03-29-1995-Mr Rcbv Sequence-Fh-44184\\\\26407-nRCBVreg-23006\\\\000013.dcm', 'himanshu'), ('data\\\\PGBM-003\\\\03-29-1995-Mr Rcbv Sequence-Fh-44184\\\\26407-nRCBVreg-23006\\\\000014.dcm', 'himanshu'), ('data\\\\PGBM-003\\\\03-29-1995-Mr Rcbv Sequence-Fh-44184\\\\26407-nRCBVreg-23006\\\\000015.dcm', 'himanshu'), ('data\\\\PGBM-003\\\\03-29-1995-Mr Rcbv Sequence-Fh-44184\\\\26407-nRCBVreg-23006\\\\000016.dcm', 'himanshu'), ('data\\\\PGBM-003\\\\03-29-1995-Mr Rcbv Sequence-Fh-44184\\\\26407-nRCBVreg-23006\\\\000017.dcm', 'himanshu'), ('data\\\\PGBM-003\\\\03-29-1995-Mr Rcbv Sequence-Fh-44184\\\\26407-nRCBVreg-23006\\\\000018.dcm', 'himanshu'), ('data\\\\PGBM-003\\\\03-29-1995-Mr Rcbv Sequence-Fh-44184\\\\26407-nRCBVreg-23006\\\\000019.dcm', 'himanshu'), ('data\\\\PGBM-003\\\\03-29-1995-Mr Rcbv Sequence-Fh-44184\\\\26407-nRCBVreg-23006\\\\000020.dcm', 'himanshu'), ('data\\\\PGBM-003\\\\03-29-1995-Mr Rcbv Sequence-Fh-44184\\\\26407-nRCBVreg-23006\\\\000021.dcm', 'himanshu')]),\n",
       "       list([('data\\\\PGBM-003\\\\03-29-1995-Mr Rcbv Sequence-Fh-44184\\\\36468-FLAIRreg-58706\\\\000000.dcm', 'himanshu'), ('data\\\\PGBM-003\\\\03-29-1995-Mr Rcbv Sequence-Fh-44184\\\\36468-FLAIRreg-58706\\\\000001.dcm', 'himanshu'), ('data\\\\PGBM-003\\\\03-29-1995-Mr Rcbv Sequence-Fh-44184\\\\36468-FLAIRreg-58706\\\\000002.dcm', 'himanshu'), ('data\\\\PGBM-003\\\\03-29-1995-Mr Rcbv Sequence-Fh-44184\\\\36468-FLAIRreg-58706\\\\000003.dcm', 'himanshu'), ('data\\\\PGBM-003\\\\03-29-1995-Mr Rcbv Sequence-Fh-44184\\\\36468-FLAIRreg-58706\\\\000004.dcm', 'himanshu'), ('data\\\\PGBM-003\\\\03-29-1995-Mr Rcbv Sequence-Fh-44184\\\\36468-FLAIRreg-58706\\\\000005.dcm', 'himanshu'), ('data\\\\PGBM-003\\\\03-29-1995-Mr Rcbv Sequence-Fh-44184\\\\36468-FLAIRreg-58706\\\\000006.dcm', 'himanshu'), ('data\\\\PGBM-003\\\\03-29-1995-Mr Rcbv Sequence-Fh-44184\\\\36468-FLAIRreg-58706\\\\000007.dcm', 'himanshu'), ('data\\\\PGBM-003\\\\03-29-1995-Mr Rcbv Sequence-Fh-44184\\\\36468-FLAIRreg-58706\\\\000008.dcm', 'himanshu'), ('data\\\\PGBM-003\\\\03-29-1995-Mr Rcbv Sequence-Fh-44184\\\\36468-FLAIRreg-58706\\\\000009.dcm', 'himanshu'), ('data\\\\PGBM-003\\\\03-29-1995-Mr Rcbv Sequence-Fh-44184\\\\36468-FLAIRreg-58706\\\\000010.dcm', 'himanshu'), ('data\\\\PGBM-003\\\\03-29-1995-Mr Rcbv Sequence-Fh-44184\\\\36468-FLAIRreg-58706\\\\000011.dcm', 'himanshu'), ('data\\\\PGBM-003\\\\03-29-1995-Mr Rcbv Sequence-Fh-44184\\\\36468-FLAIRreg-58706\\\\000012.dcm', 'himanshu'), ('data\\\\PGBM-003\\\\03-29-1995-Mr Rcbv Sequence-Fh-44184\\\\36468-FLAIRreg-58706\\\\000013.dcm', 'himanshu'), ('data\\\\PGBM-003\\\\03-29-1995-Mr Rcbv Sequence-Fh-44184\\\\36468-FLAIRreg-58706\\\\000014.dcm', 'himanshu'), ('data\\\\PGBM-003\\\\03-29-1995-Mr Rcbv Sequence-Fh-44184\\\\36468-FLAIRreg-58706\\\\000015.dcm', 'himanshu'), ('data\\\\PGBM-003\\\\03-29-1995-Mr Rcbv Sequence-Fh-44184\\\\36468-FLAIRreg-58706\\\\000016.dcm', 'himanshu'), ('data\\\\PGBM-003\\\\03-29-1995-Mr Rcbv Sequence-Fh-44184\\\\36468-FLAIRreg-58706\\\\000017.dcm', 'himanshu'), ('data\\\\PGBM-003\\\\03-29-1995-Mr Rcbv Sequence-Fh-44184\\\\36468-FLAIRreg-58706\\\\000018.dcm', 'himanshu'), ('data\\\\PGBM-003\\\\03-29-1995-Mr Rcbv Sequence-Fh-44184\\\\36468-FLAIRreg-58706\\\\000019.dcm', 'himanshu'), ('data\\\\PGBM-003\\\\03-29-1995-Mr Rcbv Sequence-Fh-44184\\\\36468-FLAIRreg-58706\\\\000020.dcm', 'himanshu'), ('data\\\\PGBM-003\\\\03-29-1995-Mr Rcbv Sequence-Fh-44184\\\\36468-FLAIRreg-58706\\\\000021.dcm', 'himanshu')]),\n",
       "       list([('data\\\\PGBM-003\\\\03-29-1995-Mr Rcbv Sequence-Fh-44184\\\\36469-ADCreg-50012\\\\000000.dcm', 'himanshu'), ('data\\\\PGBM-003\\\\03-29-1995-Mr Rcbv Sequence-Fh-44184\\\\36469-ADCreg-50012\\\\000001.dcm', 'himanshu'), ('data\\\\PGBM-003\\\\03-29-1995-Mr Rcbv Sequence-Fh-44184\\\\36469-ADCreg-50012\\\\000002.dcm', 'himanshu'), ('data\\\\PGBM-003\\\\03-29-1995-Mr Rcbv Sequence-Fh-44184\\\\36469-ADCreg-50012\\\\000003.dcm', 'himanshu'), ('data\\\\PGBM-003\\\\03-29-1995-Mr Rcbv Sequence-Fh-44184\\\\36469-ADCreg-50012\\\\000004.dcm', 'himanshu'), ('data\\\\PGBM-003\\\\03-29-1995-Mr Rcbv Sequence-Fh-44184\\\\36469-ADCreg-50012\\\\000005.dcm', 'himanshu'), ('data\\\\PGBM-003\\\\03-29-1995-Mr Rcbv Sequence-Fh-44184\\\\36469-ADCreg-50012\\\\000006.dcm', 'himanshu'), ('data\\\\PGBM-003\\\\03-29-1995-Mr Rcbv Sequence-Fh-44184\\\\36469-ADCreg-50012\\\\000007.dcm', 'himanshu'), ('data\\\\PGBM-003\\\\03-29-1995-Mr Rcbv Sequence-Fh-44184\\\\36469-ADCreg-50012\\\\000008.dcm', 'himanshu'), ('data\\\\PGBM-003\\\\03-29-1995-Mr Rcbv Sequence-Fh-44184\\\\36469-ADCreg-50012\\\\000009.dcm', 'himanshu'), ('data\\\\PGBM-003\\\\03-29-1995-Mr Rcbv Sequence-Fh-44184\\\\36469-ADCreg-50012\\\\000010.dcm', 'himanshu'), ('data\\\\PGBM-003\\\\03-29-1995-Mr Rcbv Sequence-Fh-44184\\\\36469-ADCreg-50012\\\\000011.dcm', 'himanshu'), ('data\\\\PGBM-003\\\\03-29-1995-Mr Rcbv Sequence-Fh-44184\\\\36469-ADCreg-50012\\\\000012.dcm', 'himanshu'), ('data\\\\PGBM-003\\\\03-29-1995-Mr Rcbv Sequence-Fh-44184\\\\36469-ADCreg-50012\\\\000013.dcm', 'himanshu'), ('data\\\\PGBM-003\\\\03-29-1995-Mr Rcbv Sequence-Fh-44184\\\\36469-ADCreg-50012\\\\000014.dcm', 'himanshu'), ('data\\\\PGBM-003\\\\03-29-1995-Mr Rcbv Sequence-Fh-44184\\\\36469-ADCreg-50012\\\\000015.dcm', 'himanshu'), ('data\\\\PGBM-003\\\\03-29-1995-Mr Rcbv Sequence-Fh-44184\\\\36469-ADCreg-50012\\\\000016.dcm', 'himanshu'), ('data\\\\PGBM-003\\\\03-29-1995-Mr Rcbv Sequence-Fh-44184\\\\36469-ADCreg-50012\\\\000017.dcm', 'himanshu'), ('data\\\\PGBM-003\\\\03-29-1995-Mr Rcbv Sequence-Fh-44184\\\\36469-ADCreg-50012\\\\000018.dcm', 'himanshu'), ('data\\\\PGBM-003\\\\03-29-1995-Mr Rcbv Sequence-Fh-44184\\\\36469-ADCreg-50012\\\\000019.dcm', 'himanshu'), ('data\\\\PGBM-003\\\\03-29-1995-Mr Rcbv Sequence-Fh-44184\\\\36469-ADCreg-50012\\\\000020.dcm', 'himanshu'), ('data\\\\PGBM-003\\\\03-29-1995-Mr Rcbv Sequence-Fh-44184\\\\36469-ADCreg-50012\\\\000021.dcm', 'himanshu')]),\n",
       "       list([('data\\\\PGBM-003\\\\03-29-1995-Mr Rcbv Sequence-Fh-44184\\\\37870-T2reg-78532\\\\000000.dcm', 'himanshu'), ('data\\\\PGBM-003\\\\03-29-1995-Mr Rcbv Sequence-Fh-44184\\\\37870-T2reg-78532\\\\000001.dcm', 'himanshu'), ('data\\\\PGBM-003\\\\03-29-1995-Mr Rcbv Sequence-Fh-44184\\\\37870-T2reg-78532\\\\000002.dcm', 'himanshu'), ('data\\\\PGBM-003\\\\03-29-1995-Mr Rcbv Sequence-Fh-44184\\\\37870-T2reg-78532\\\\000003.dcm', 'himanshu'), ('data\\\\PGBM-003\\\\03-29-1995-Mr Rcbv Sequence-Fh-44184\\\\37870-T2reg-78532\\\\000004.dcm', 'himanshu'), ('data\\\\PGBM-003\\\\03-29-1995-Mr Rcbv Sequence-Fh-44184\\\\37870-T2reg-78532\\\\000005.dcm', 'himanshu'), ('data\\\\PGBM-003\\\\03-29-1995-Mr Rcbv Sequence-Fh-44184\\\\37870-T2reg-78532\\\\000006.dcm', 'himanshu'), ('data\\\\PGBM-003\\\\03-29-1995-Mr Rcbv Sequence-Fh-44184\\\\37870-T2reg-78532\\\\000007.dcm', 'himanshu'), ('data\\\\PGBM-003\\\\03-29-1995-Mr Rcbv Sequence-Fh-44184\\\\37870-T2reg-78532\\\\000008.dcm', 'himanshu'), ('data\\\\PGBM-003\\\\03-29-1995-Mr Rcbv Sequence-Fh-44184\\\\37870-T2reg-78532\\\\000009.dcm', 'himanshu'), ('data\\\\PGBM-003\\\\03-29-1995-Mr Rcbv Sequence-Fh-44184\\\\37870-T2reg-78532\\\\000010.dcm', 'himanshu'), ('data\\\\PGBM-003\\\\03-29-1995-Mr Rcbv Sequence-Fh-44184\\\\37870-T2reg-78532\\\\000011.dcm', 'himanshu'), ('data\\\\PGBM-003\\\\03-29-1995-Mr Rcbv Sequence-Fh-44184\\\\37870-T2reg-78532\\\\000012.dcm', 'himanshu'), ('data\\\\PGBM-003\\\\03-29-1995-Mr Rcbv Sequence-Fh-44184\\\\37870-T2reg-78532\\\\000013.dcm', 'himanshu'), ('data\\\\PGBM-003\\\\03-29-1995-Mr Rcbv Sequence-Fh-44184\\\\37870-T2reg-78532\\\\000014.dcm', 'himanshu'), ('data\\\\PGBM-003\\\\03-29-1995-Mr Rcbv Sequence-Fh-44184\\\\37870-T2reg-78532\\\\000015.dcm', 'himanshu'), ('data\\\\PGBM-003\\\\03-29-1995-Mr Rcbv Sequence-Fh-44184\\\\37870-T2reg-78532\\\\000016.dcm', 'himanshu'), ('data\\\\PGBM-003\\\\03-29-1995-Mr Rcbv Sequence-Fh-44184\\\\37870-T2reg-78532\\\\000017.dcm', 'himanshu'), ('data\\\\PGBM-003\\\\03-29-1995-Mr Rcbv Sequence-Fh-44184\\\\37870-T2reg-78532\\\\000018.dcm', 'himanshu'), ('data\\\\PGBM-003\\\\03-29-1995-Mr Rcbv Sequence-Fh-44184\\\\37870-T2reg-78532\\\\000019.dcm', 'himanshu'), ('data\\\\PGBM-003\\\\03-29-1995-Mr Rcbv Sequence-Fh-44184\\\\37870-T2reg-78532\\\\000020.dcm', 'himanshu'), ('data\\\\PGBM-003\\\\03-29-1995-Mr Rcbv Sequence-Fh-44184\\\\37870-T2reg-78532\\\\000021.dcm', 'himanshu')]),\n",
       "       list([('data\\\\PGBM-003\\\\03-29-1995-Mr Rcbv Sequence-Fh-44184\\\\5377-MaskTumor-78540\\\\000000.dcm', 'himanshu'), ('data\\\\PGBM-003\\\\03-29-1995-Mr Rcbv Sequence-Fh-44184\\\\5377-MaskTumor-78540\\\\000001.dcm', 'himanshu'), ('data\\\\PGBM-003\\\\03-29-1995-Mr Rcbv Sequence-Fh-44184\\\\5377-MaskTumor-78540\\\\000002.dcm', 'himanshu'), ('data\\\\PGBM-003\\\\03-29-1995-Mr Rcbv Sequence-Fh-44184\\\\5377-MaskTumor-78540\\\\000003.dcm', 'himanshu'), ('data\\\\PGBM-003\\\\03-29-1995-Mr Rcbv Sequence-Fh-44184\\\\5377-MaskTumor-78540\\\\000004.dcm', 'himanshu'), ('data\\\\PGBM-003\\\\03-29-1995-Mr Rcbv Sequence-Fh-44184\\\\5377-MaskTumor-78540\\\\000005.dcm', 'himanshu'), ('data\\\\PGBM-003\\\\03-29-1995-Mr Rcbv Sequence-Fh-44184\\\\5377-MaskTumor-78540\\\\000006.dcm', 'himanshu'), ('data\\\\PGBM-003\\\\03-29-1995-Mr Rcbv Sequence-Fh-44184\\\\5377-MaskTumor-78540\\\\000007.dcm', 'himanshu'), ('data\\\\PGBM-003\\\\03-29-1995-Mr Rcbv Sequence-Fh-44184\\\\5377-MaskTumor-78540\\\\000008.dcm', 'himanshu'), ('data\\\\PGBM-003\\\\03-29-1995-Mr Rcbv Sequence-Fh-44184\\\\5377-MaskTumor-78540\\\\000009.dcm', 'himanshu'), ('data\\\\PGBM-003\\\\03-29-1995-Mr Rcbv Sequence-Fh-44184\\\\5377-MaskTumor-78540\\\\000010.dcm', 'himanshu'), ('data\\\\PGBM-003\\\\03-29-1995-Mr Rcbv Sequence-Fh-44184\\\\5377-MaskTumor-78540\\\\000011.dcm', 'himanshu'), ('data\\\\PGBM-003\\\\03-29-1995-Mr Rcbv Sequence-Fh-44184\\\\5377-MaskTumor-78540\\\\000012.dcm', 'himanshu'), ('data\\\\PGBM-003\\\\03-29-1995-Mr Rcbv Sequence-Fh-44184\\\\5377-MaskTumor-78540\\\\000013.dcm', 'himanshu'), ('data\\\\PGBM-003\\\\03-29-1995-Mr Rcbv Sequence-Fh-44184\\\\5377-MaskTumor-78540\\\\000014.dcm', 'himanshu'), ('data\\\\PGBM-003\\\\03-29-1995-Mr Rcbv Sequence-Fh-44184\\\\5377-MaskTumor-78540\\\\000015.dcm', 'himanshu'), ('data\\\\PGBM-003\\\\03-29-1995-Mr Rcbv Sequence-Fh-44184\\\\5377-MaskTumor-78540\\\\000016.dcm', 'himanshu'), ('data\\\\PGBM-003\\\\03-29-1995-Mr Rcbv Sequence-Fh-44184\\\\5377-MaskTumor-78540\\\\000017.dcm', 'himanshu'), ('data\\\\PGBM-003\\\\03-29-1995-Mr Rcbv Sequence-Fh-44184\\\\5377-MaskTumor-78540\\\\000018.dcm', 'himanshu'), ('data\\\\PGBM-003\\\\03-29-1995-Mr Rcbv Sequence-Fh-44184\\\\5377-MaskTumor-78540\\\\000019.dcm', 'himanshu'), ('data\\\\PGBM-003\\\\03-29-1995-Mr Rcbv Sequence-Fh-44184\\\\5377-MaskTumor-78540\\\\000020.dcm', 'himanshu'), ('data\\\\PGBM-003\\\\03-29-1995-Mr Rcbv Sequence-Fh-44184\\\\5377-MaskTumor-78540\\\\000021.dcm', 'himanshu')]),\n",
       "       list([('data\\\\PGBM-003\\\\10-17-1995-MR RCBV SEQUENCE-57198\\\\13-T1post-56086\\\\000000.dcm', 'himanshu'), ('data\\\\PGBM-003\\\\10-17-1995-MR RCBV SEQUENCE-57198\\\\13-T1post-56086\\\\000001.dcm', 'himanshu'), ('data\\\\PGBM-003\\\\10-17-1995-MR RCBV SEQUENCE-57198\\\\13-T1post-56086\\\\000002.dcm', 'himanshu'), ('data\\\\PGBM-003\\\\10-17-1995-MR RCBV SEQUENCE-57198\\\\13-T1post-56086\\\\000003.dcm', 'himanshu'), ('data\\\\PGBM-003\\\\10-17-1995-MR RCBV SEQUENCE-57198\\\\13-T1post-56086\\\\000004.dcm', 'himanshu'), ('data\\\\PGBM-003\\\\10-17-1995-MR RCBV SEQUENCE-57198\\\\13-T1post-56086\\\\000005.dcm', 'himanshu'), ('data\\\\PGBM-003\\\\10-17-1995-MR RCBV SEQUENCE-57198\\\\13-T1post-56086\\\\000006.dcm', 'himanshu'), ('data\\\\PGBM-003\\\\10-17-1995-MR RCBV SEQUENCE-57198\\\\13-T1post-56086\\\\000007.dcm', 'himanshu'), ('data\\\\PGBM-003\\\\10-17-1995-MR RCBV SEQUENCE-57198\\\\13-T1post-56086\\\\000008.dcm', 'himanshu'), ('data\\\\PGBM-003\\\\10-17-1995-MR RCBV SEQUENCE-57198\\\\13-T1post-56086\\\\000009.dcm', 'himanshu'), ('data\\\\PGBM-003\\\\10-17-1995-MR RCBV SEQUENCE-57198\\\\13-T1post-56086\\\\000010.dcm', 'himanshu'), ('data\\\\PGBM-003\\\\10-17-1995-MR RCBV SEQUENCE-57198\\\\13-T1post-56086\\\\000011.dcm', 'himanshu'), ('data\\\\PGBM-003\\\\10-17-1995-MR RCBV SEQUENCE-57198\\\\13-T1post-56086\\\\000012.dcm', 'himanshu'), ('data\\\\PGBM-003\\\\10-17-1995-MR RCBV SEQUENCE-57198\\\\13-T1post-56086\\\\000013.dcm', 'himanshu'), ('data\\\\PGBM-003\\\\10-17-1995-MR RCBV SEQUENCE-57198\\\\13-T1post-56086\\\\000014.dcm', 'himanshu'), ('data\\\\PGBM-003\\\\10-17-1995-MR RCBV SEQUENCE-57198\\\\13-T1post-56086\\\\000015.dcm', 'himanshu'), ('data\\\\PGBM-003\\\\10-17-1995-MR RCBV SEQUENCE-57198\\\\13-T1post-56086\\\\000016.dcm', 'himanshu'), ('data\\\\PGBM-003\\\\10-17-1995-MR RCBV SEQUENCE-57198\\\\13-T1post-56086\\\\000017.dcm', 'himanshu'), ('data\\\\PGBM-003\\\\10-17-1995-MR RCBV SEQUENCE-57198\\\\13-T1post-56086\\\\000018.dcm', 'himanshu'), ('data\\\\PGBM-003\\\\10-17-1995-MR RCBV SEQUENCE-57198\\\\13-T1post-56086\\\\000019.dcm', 'himanshu'), ('data\\\\PGBM-003\\\\10-17-1995-MR RCBV SEQUENCE-57198\\\\13-T1post-56086\\\\000020.dcm', 'himanshu'), ('data\\\\PGBM-003\\\\10-17-1995-MR RCBV SEQUENCE-57198\\\\13-T1post-56086\\\\000021.dcm', 'himanshu'), ('data\\\\PGBM-003\\\\10-17-1995-MR RCBV SEQUENCE-57198\\\\13-T1post-56086\\\\000022.dcm', 'himanshu'), ('data\\\\PGBM-003\\\\10-17-1995-MR RCBV SEQUENCE-57198\\\\13-T1post-56086\\\\000023.dcm', 'himanshu')]),\n",
       "       list([('data\\\\PGBM-003\\\\10-17-1995-MR RCBV SEQUENCE-57198\\\\29907-dT1-83229\\\\000000.dcm', 'himanshu'), ('data\\\\PGBM-003\\\\10-17-1995-MR RCBV SEQUENCE-57198\\\\29907-dT1-83229\\\\000001.dcm', 'himanshu'), ('data\\\\PGBM-003\\\\10-17-1995-MR RCBV SEQUENCE-57198\\\\29907-dT1-83229\\\\000002.dcm', 'himanshu'), ('data\\\\PGBM-003\\\\10-17-1995-MR RCBV SEQUENCE-57198\\\\29907-dT1-83229\\\\000003.dcm', 'himanshu'), ('data\\\\PGBM-003\\\\10-17-1995-MR RCBV SEQUENCE-57198\\\\29907-dT1-83229\\\\000004.dcm', 'himanshu'), ('data\\\\PGBM-003\\\\10-17-1995-MR RCBV SEQUENCE-57198\\\\29907-dT1-83229\\\\000005.dcm', 'himanshu'), ('data\\\\PGBM-003\\\\10-17-1995-MR RCBV SEQUENCE-57198\\\\29907-dT1-83229\\\\000006.dcm', 'himanshu'), ('data\\\\PGBM-003\\\\10-17-1995-MR RCBV SEQUENCE-57198\\\\29907-dT1-83229\\\\000007.dcm', 'himanshu'), ('data\\\\PGBM-003\\\\10-17-1995-MR RCBV SEQUENCE-57198\\\\29907-dT1-83229\\\\000008.dcm', 'himanshu'), ('data\\\\PGBM-003\\\\10-17-1995-MR RCBV SEQUENCE-57198\\\\29907-dT1-83229\\\\000009.dcm', 'himanshu'), ('data\\\\PGBM-003\\\\10-17-1995-MR RCBV SEQUENCE-57198\\\\29907-dT1-83229\\\\000010.dcm', 'himanshu'), ('data\\\\PGBM-003\\\\10-17-1995-MR RCBV SEQUENCE-57198\\\\29907-dT1-83229\\\\000011.dcm', 'himanshu'), ('data\\\\PGBM-003\\\\10-17-1995-MR RCBV SEQUENCE-57198\\\\29907-dT1-83229\\\\000012.dcm', 'himanshu'), ('data\\\\PGBM-003\\\\10-17-1995-MR RCBV SEQUENCE-57198\\\\29907-dT1-83229\\\\000013.dcm', 'himanshu'), ('data\\\\PGBM-003\\\\10-17-1995-MR RCBV SEQUENCE-57198\\\\29907-dT1-83229\\\\000014.dcm', 'himanshu'), ('data\\\\PGBM-003\\\\10-17-1995-MR RCBV SEQUENCE-57198\\\\29907-dT1-83229\\\\000015.dcm', 'himanshu'), ('data\\\\PGBM-003\\\\10-17-1995-MR RCBV SEQUENCE-57198\\\\29907-dT1-83229\\\\000016.dcm', 'himanshu'), ('data\\\\PGBM-003\\\\10-17-1995-MR RCBV SEQUENCE-57198\\\\29907-dT1-83229\\\\000017.dcm', 'himanshu'), ('data\\\\PGBM-003\\\\10-17-1995-MR RCBV SEQUENCE-57198\\\\29907-dT1-83229\\\\000018.dcm', 'himanshu'), ('data\\\\PGBM-003\\\\10-17-1995-MR RCBV SEQUENCE-57198\\\\29907-dT1-83229\\\\000019.dcm', 'himanshu'), ('data\\\\PGBM-003\\\\10-17-1995-MR RCBV SEQUENCE-57198\\\\29907-dT1-83229\\\\000020.dcm', 'himanshu'), ('data\\\\PGBM-003\\\\10-17-1995-MR RCBV SEQUENCE-57198\\\\29907-dT1-83229\\\\000021.dcm', 'himanshu'), ('data\\\\PGBM-003\\\\10-17-1995-MR RCBV SEQUENCE-57198\\\\29907-dT1-83229\\\\000022.dcm', 'himanshu'), ('data\\\\PGBM-003\\\\10-17-1995-MR RCBV SEQUENCE-57198\\\\29907-dT1-83229\\\\000023.dcm', 'himanshu')]),\n",
       "       list([('data\\\\PGBM-003\\\\10-17-1995-MR RCBV SEQUENCE-57198\\\\34911-T1prereg-46949\\\\000000.dcm', 'himanshu'), ('data\\\\PGBM-003\\\\10-17-1995-MR RCBV SEQUENCE-57198\\\\34911-T1prereg-46949\\\\000001.dcm', 'himanshu'), ('data\\\\PGBM-003\\\\10-17-1995-MR RCBV SEQUENCE-57198\\\\34911-T1prereg-46949\\\\000002.dcm', 'himanshu'), ('data\\\\PGBM-003\\\\10-17-1995-MR RCBV SEQUENCE-57198\\\\34911-T1prereg-46949\\\\000003.dcm', 'himanshu'), ('data\\\\PGBM-003\\\\10-17-1995-MR RCBV SEQUENCE-57198\\\\34911-T1prereg-46949\\\\000004.dcm', 'himanshu'), ('data\\\\PGBM-003\\\\10-17-1995-MR RCBV SEQUENCE-57198\\\\34911-T1prereg-46949\\\\000005.dcm', 'himanshu'), ('data\\\\PGBM-003\\\\10-17-1995-MR RCBV SEQUENCE-57198\\\\34911-T1prereg-46949\\\\000006.dcm', 'himanshu'), ('data\\\\PGBM-003\\\\10-17-1995-MR RCBV SEQUENCE-57198\\\\34911-T1prereg-46949\\\\000007.dcm', 'himanshu'), ('data\\\\PGBM-003\\\\10-17-1995-MR RCBV SEQUENCE-57198\\\\34911-T1prereg-46949\\\\000008.dcm', 'himanshu'), ('data\\\\PGBM-003\\\\10-17-1995-MR RCBV SEQUENCE-57198\\\\34911-T1prereg-46949\\\\000009.dcm', 'himanshu'), ('data\\\\PGBM-003\\\\10-17-1995-MR RCBV SEQUENCE-57198\\\\34911-T1prereg-46949\\\\000010.dcm', 'himanshu'), ('data\\\\PGBM-003\\\\10-17-1995-MR RCBV SEQUENCE-57198\\\\34911-T1prereg-46949\\\\000011.dcm', 'himanshu'), ('data\\\\PGBM-003\\\\10-17-1995-MR RCBV SEQUENCE-57198\\\\34911-T1prereg-46949\\\\000012.dcm', 'himanshu'), ('data\\\\PGBM-003\\\\10-17-1995-MR RCBV SEQUENCE-57198\\\\34911-T1prereg-46949\\\\000013.dcm', 'himanshu'), ('data\\\\PGBM-003\\\\10-17-1995-MR RCBV SEQUENCE-57198\\\\34911-T1prereg-46949\\\\000014.dcm', 'himanshu'), ('data\\\\PGBM-003\\\\10-17-1995-MR RCBV SEQUENCE-57198\\\\34911-T1prereg-46949\\\\000015.dcm', 'himanshu'), ('data\\\\PGBM-003\\\\10-17-1995-MR RCBV SEQUENCE-57198\\\\34911-T1prereg-46949\\\\000016.dcm', 'himanshu'), ('data\\\\PGBM-003\\\\10-17-1995-MR RCBV SEQUENCE-57198\\\\34911-T1prereg-46949\\\\000017.dcm', 'himanshu'), ('data\\\\PGBM-003\\\\10-17-1995-MR RCBV SEQUENCE-57198\\\\34911-T1prereg-46949\\\\000018.dcm', 'himanshu'), ('data\\\\PGBM-003\\\\10-17-1995-MR RCBV SEQUENCE-57198\\\\34911-T1prereg-46949\\\\000019.dcm', 'himanshu'), ('data\\\\PGBM-003\\\\10-17-1995-MR RCBV SEQUENCE-57198\\\\34911-T1prereg-46949\\\\000020.dcm', 'himanshu'), ('data\\\\PGBM-003\\\\10-17-1995-MR RCBV SEQUENCE-57198\\\\34911-T1prereg-46949\\\\000021.dcm', 'himanshu'), ('data\\\\PGBM-003\\\\10-17-1995-MR RCBV SEQUENCE-57198\\\\34911-T1prereg-46949\\\\000022.dcm', 'himanshu'), ('data\\\\PGBM-003\\\\10-17-1995-MR RCBV SEQUENCE-57198\\\\34911-T1prereg-46949\\\\000023.dcm', 'himanshu')]),\n",
       "       list([('data\\\\PGBM-003\\\\10-17-1995-MR RCBV SEQUENCE-57198\\\\36471-FLAIRreg-02052\\\\000000.dcm', 'himanshu'), ('data\\\\PGBM-003\\\\10-17-1995-MR RCBV SEQUENCE-57198\\\\36471-FLAIRreg-02052\\\\000001.dcm', 'himanshu'), ('data\\\\PGBM-003\\\\10-17-1995-MR RCBV SEQUENCE-57198\\\\36471-FLAIRreg-02052\\\\000002.dcm', 'himanshu'), ('data\\\\PGBM-003\\\\10-17-1995-MR RCBV SEQUENCE-57198\\\\36471-FLAIRreg-02052\\\\000003.dcm', 'himanshu'), ('data\\\\PGBM-003\\\\10-17-1995-MR RCBV SEQUENCE-57198\\\\36471-FLAIRreg-02052\\\\000004.dcm', 'himanshu'), ('data\\\\PGBM-003\\\\10-17-1995-MR RCBV SEQUENCE-57198\\\\36471-FLAIRreg-02052\\\\000005.dcm', 'himanshu'), ('data\\\\PGBM-003\\\\10-17-1995-MR RCBV SEQUENCE-57198\\\\36471-FLAIRreg-02052\\\\000006.dcm', 'himanshu'), ('data\\\\PGBM-003\\\\10-17-1995-MR RCBV SEQUENCE-57198\\\\36471-FLAIRreg-02052\\\\000007.dcm', 'himanshu'), ('data\\\\PGBM-003\\\\10-17-1995-MR RCBV SEQUENCE-57198\\\\36471-FLAIRreg-02052\\\\000008.dcm', 'himanshu'), ('data\\\\PGBM-003\\\\10-17-1995-MR RCBV SEQUENCE-57198\\\\36471-FLAIRreg-02052\\\\000009.dcm', 'himanshu'), ('data\\\\PGBM-003\\\\10-17-1995-MR RCBV SEQUENCE-57198\\\\36471-FLAIRreg-02052\\\\000010.dcm', 'himanshu'), ('data\\\\PGBM-003\\\\10-17-1995-MR RCBV SEQUENCE-57198\\\\36471-FLAIRreg-02052\\\\000011.dcm', 'himanshu'), ('data\\\\PGBM-003\\\\10-17-1995-MR RCBV SEQUENCE-57198\\\\36471-FLAIRreg-02052\\\\000012.dcm', 'himanshu'), ('data\\\\PGBM-003\\\\10-17-1995-MR RCBV SEQUENCE-57198\\\\36471-FLAIRreg-02052\\\\000013.dcm', 'himanshu'), ('data\\\\PGBM-003\\\\10-17-1995-MR RCBV SEQUENCE-57198\\\\36471-FLAIRreg-02052\\\\000014.dcm', 'himanshu'), ('data\\\\PGBM-003\\\\10-17-1995-MR RCBV SEQUENCE-57198\\\\36471-FLAIRreg-02052\\\\000015.dcm', 'himanshu'), ('data\\\\PGBM-003\\\\10-17-1995-MR RCBV SEQUENCE-57198\\\\36471-FLAIRreg-02052\\\\000016.dcm', 'himanshu'), ('data\\\\PGBM-003\\\\10-17-1995-MR RCBV SEQUENCE-57198\\\\36471-FLAIRreg-02052\\\\000017.dcm', 'himanshu'), ('data\\\\PGBM-003\\\\10-17-1995-MR RCBV SEQUENCE-57198\\\\36471-FLAIRreg-02052\\\\000018.dcm', 'himanshu'), ('data\\\\PGBM-003\\\\10-17-1995-MR RCBV SEQUENCE-57198\\\\36471-FLAIRreg-02052\\\\000019.dcm', 'himanshu'), ('data\\\\PGBM-003\\\\10-17-1995-MR RCBV SEQUENCE-57198\\\\36471-FLAIRreg-02052\\\\000020.dcm', 'himanshu'), ('data\\\\PGBM-003\\\\10-17-1995-MR RCBV SEQUENCE-57198\\\\36471-FLAIRreg-02052\\\\000021.dcm', 'himanshu'), ('data\\\\PGBM-003\\\\10-17-1995-MR RCBV SEQUENCE-57198\\\\36471-FLAIRreg-02052\\\\000022.dcm', 'himanshu'), ('data\\\\PGBM-003\\\\10-17-1995-MR RCBV SEQUENCE-57198\\\\36471-FLAIRreg-02052\\\\000023.dcm', 'himanshu')]),\n",
       "       list([('data\\\\PGBM-003\\\\10-17-1995-MR RCBV SEQUENCE-57198\\\\36472-ADCreg-24389\\\\000000.dcm', 'himanshu'), ('data\\\\PGBM-003\\\\10-17-1995-MR RCBV SEQUENCE-57198\\\\36472-ADCreg-24389\\\\000001.dcm', 'himanshu'), ('data\\\\PGBM-003\\\\10-17-1995-MR RCBV SEQUENCE-57198\\\\36472-ADCreg-24389\\\\000002.dcm', 'himanshu'), ('data\\\\PGBM-003\\\\10-17-1995-MR RCBV SEQUENCE-57198\\\\36472-ADCreg-24389\\\\000003.dcm', 'himanshu'), ('data\\\\PGBM-003\\\\10-17-1995-MR RCBV SEQUENCE-57198\\\\36472-ADCreg-24389\\\\000004.dcm', 'himanshu'), ('data\\\\PGBM-003\\\\10-17-1995-MR RCBV SEQUENCE-57198\\\\36472-ADCreg-24389\\\\000005.dcm', 'himanshu'), ('data\\\\PGBM-003\\\\10-17-1995-MR RCBV SEQUENCE-57198\\\\36472-ADCreg-24389\\\\000006.dcm', 'himanshu'), ('data\\\\PGBM-003\\\\10-17-1995-MR RCBV SEQUENCE-57198\\\\36472-ADCreg-24389\\\\000007.dcm', 'himanshu'), ('data\\\\PGBM-003\\\\10-17-1995-MR RCBV SEQUENCE-57198\\\\36472-ADCreg-24389\\\\000008.dcm', 'himanshu'), ('data\\\\PGBM-003\\\\10-17-1995-MR RCBV SEQUENCE-57198\\\\36472-ADCreg-24389\\\\000009.dcm', 'himanshu'), ('data\\\\PGBM-003\\\\10-17-1995-MR RCBV SEQUENCE-57198\\\\36472-ADCreg-24389\\\\000010.dcm', 'himanshu'), ('data\\\\PGBM-003\\\\10-17-1995-MR RCBV SEQUENCE-57198\\\\36472-ADCreg-24389\\\\000011.dcm', 'himanshu'), ('data\\\\PGBM-003\\\\10-17-1995-MR RCBV SEQUENCE-57198\\\\36472-ADCreg-24389\\\\000012.dcm', 'himanshu'), ('data\\\\PGBM-003\\\\10-17-1995-MR RCBV SEQUENCE-57198\\\\36472-ADCreg-24389\\\\000013.dcm', 'himanshu'), ('data\\\\PGBM-003\\\\10-17-1995-MR RCBV SEQUENCE-57198\\\\36472-ADCreg-24389\\\\000014.dcm', 'himanshu'), ('data\\\\PGBM-003\\\\10-17-1995-MR RCBV SEQUENCE-57198\\\\36472-ADCreg-24389\\\\000015.dcm', 'himanshu'), ('data\\\\PGBM-003\\\\10-17-1995-MR RCBV SEQUENCE-57198\\\\36472-ADCreg-24389\\\\000016.dcm', 'himanshu'), ('data\\\\PGBM-003\\\\10-17-1995-MR RCBV SEQUENCE-57198\\\\36472-ADCreg-24389\\\\000017.dcm', 'himanshu'), ('data\\\\PGBM-003\\\\10-17-1995-MR RCBV SEQUENCE-57198\\\\36472-ADCreg-24389\\\\000018.dcm', 'himanshu'), ('data\\\\PGBM-003\\\\10-17-1995-MR RCBV SEQUENCE-57198\\\\36472-ADCreg-24389\\\\000019.dcm', 'himanshu'), ('data\\\\PGBM-003\\\\10-17-1995-MR RCBV SEQUENCE-57198\\\\36472-ADCreg-24389\\\\000020.dcm', 'himanshu'), ('data\\\\PGBM-003\\\\10-17-1995-MR RCBV SEQUENCE-57198\\\\36472-ADCreg-24389\\\\000021.dcm', 'himanshu'), ('data\\\\PGBM-003\\\\10-17-1995-MR RCBV SEQUENCE-57198\\\\36472-ADCreg-24389\\\\000022.dcm', 'himanshu'), ('data\\\\PGBM-003\\\\10-17-1995-MR RCBV SEQUENCE-57198\\\\36472-ADCreg-24389\\\\000023.dcm', 'himanshu')]),\n",
       "       list([('data\\\\PGBM-003\\\\10-17-1995-MR RCBV SEQUENCE-57198\\\\36475-nCBFreg-32454\\\\000000.dcm', 'himanshu'), ('data\\\\PGBM-003\\\\10-17-1995-MR RCBV SEQUENCE-57198\\\\36475-nCBFreg-32454\\\\000001.dcm', 'himanshu'), ('data\\\\PGBM-003\\\\10-17-1995-MR RCBV SEQUENCE-57198\\\\36475-nCBFreg-32454\\\\000002.dcm', 'himanshu'), ('data\\\\PGBM-003\\\\10-17-1995-MR RCBV SEQUENCE-57198\\\\36475-nCBFreg-32454\\\\000003.dcm', 'himanshu'), ('data\\\\PGBM-003\\\\10-17-1995-MR RCBV SEQUENCE-57198\\\\36475-nCBFreg-32454\\\\000004.dcm', 'himanshu'), ('data\\\\PGBM-003\\\\10-17-1995-MR RCBV SEQUENCE-57198\\\\36475-nCBFreg-32454\\\\000005.dcm', 'himanshu'), ('data\\\\PGBM-003\\\\10-17-1995-MR RCBV SEQUENCE-57198\\\\36475-nCBFreg-32454\\\\000006.dcm', 'himanshu'), ('data\\\\PGBM-003\\\\10-17-1995-MR RCBV SEQUENCE-57198\\\\36475-nCBFreg-32454\\\\000007.dcm', 'himanshu'), ('data\\\\PGBM-003\\\\10-17-1995-MR RCBV SEQUENCE-57198\\\\36475-nCBFreg-32454\\\\000008.dcm', 'himanshu'), ('data\\\\PGBM-003\\\\10-17-1995-MR RCBV SEQUENCE-57198\\\\36475-nCBFreg-32454\\\\000009.dcm', 'himanshu'), ('data\\\\PGBM-003\\\\10-17-1995-MR RCBV SEQUENCE-57198\\\\36475-nCBFreg-32454\\\\000010.dcm', 'himanshu'), ('data\\\\PGBM-003\\\\10-17-1995-MR RCBV SEQUENCE-57198\\\\36475-nCBFreg-32454\\\\000011.dcm', 'himanshu'), ('data\\\\PGBM-003\\\\10-17-1995-MR RCBV SEQUENCE-57198\\\\36475-nCBFreg-32454\\\\000012.dcm', 'himanshu'), ('data\\\\PGBM-003\\\\10-17-1995-MR RCBV SEQUENCE-57198\\\\36475-nCBFreg-32454\\\\000013.dcm', 'himanshu'), ('data\\\\PGBM-003\\\\10-17-1995-MR RCBV SEQUENCE-57198\\\\36475-nCBFreg-32454\\\\000014.dcm', 'himanshu'), ('data\\\\PGBM-003\\\\10-17-1995-MR RCBV SEQUENCE-57198\\\\36475-nCBFreg-32454\\\\000015.dcm', 'himanshu'), ('data\\\\PGBM-003\\\\10-17-1995-MR RCBV SEQUENCE-57198\\\\36475-nCBFreg-32454\\\\000016.dcm', 'himanshu'), ('data\\\\PGBM-003\\\\10-17-1995-MR RCBV SEQUENCE-57198\\\\36475-nCBFreg-32454\\\\000017.dcm', 'himanshu'), ('data\\\\PGBM-003\\\\10-17-1995-MR RCBV SEQUENCE-57198\\\\36475-nCBFreg-32454\\\\000018.dcm', 'himanshu'), ('data\\\\PGBM-003\\\\10-17-1995-MR RCBV SEQUENCE-57198\\\\36475-nCBFreg-32454\\\\000019.dcm', 'himanshu'), ('data\\\\PGBM-003\\\\10-17-1995-MR RCBV SEQUENCE-57198\\\\36475-nCBFreg-32454\\\\000020.dcm', 'himanshu'), ('data\\\\PGBM-003\\\\10-17-1995-MR RCBV SEQUENCE-57198\\\\36475-nCBFreg-32454\\\\000021.dcm', 'himanshu'), ('data\\\\PGBM-003\\\\10-17-1995-MR RCBV SEQUENCE-57198\\\\36475-nCBFreg-32454\\\\000022.dcm', 'himanshu'), ('data\\\\PGBM-003\\\\10-17-1995-MR RCBV SEQUENCE-57198\\\\36475-nCBFreg-32454\\\\000023.dcm', 'himanshu')]),\n",
       "       list([('data\\\\PGBM-003\\\\10-17-1995-MR RCBV SEQUENCE-57198\\\\36476-sRCBVreg-54964\\\\000000.dcm', 'himanshu'), ('data\\\\PGBM-003\\\\10-17-1995-MR RCBV SEQUENCE-57198\\\\36476-sRCBVreg-54964\\\\000001.dcm', 'himanshu'), ('data\\\\PGBM-003\\\\10-17-1995-MR RCBV SEQUENCE-57198\\\\36476-sRCBVreg-54964\\\\000002.dcm', 'himanshu'), ('data\\\\PGBM-003\\\\10-17-1995-MR RCBV SEQUENCE-57198\\\\36476-sRCBVreg-54964\\\\000003.dcm', 'himanshu'), ('data\\\\PGBM-003\\\\10-17-1995-MR RCBV SEQUENCE-57198\\\\36476-sRCBVreg-54964\\\\000004.dcm', 'himanshu'), ('data\\\\PGBM-003\\\\10-17-1995-MR RCBV SEQUENCE-57198\\\\36476-sRCBVreg-54964\\\\000005.dcm', 'himanshu'), ('data\\\\PGBM-003\\\\10-17-1995-MR RCBV SEQUENCE-57198\\\\36476-sRCBVreg-54964\\\\000006.dcm', 'himanshu'), ('data\\\\PGBM-003\\\\10-17-1995-MR RCBV SEQUENCE-57198\\\\36476-sRCBVreg-54964\\\\000007.dcm', 'himanshu'), ('data\\\\PGBM-003\\\\10-17-1995-MR RCBV SEQUENCE-57198\\\\36476-sRCBVreg-54964\\\\000008.dcm', 'himanshu'), ('data\\\\PGBM-003\\\\10-17-1995-MR RCBV SEQUENCE-57198\\\\36476-sRCBVreg-54964\\\\000009.dcm', 'himanshu'), ('data\\\\PGBM-003\\\\10-17-1995-MR RCBV SEQUENCE-57198\\\\36476-sRCBVreg-54964\\\\000010.dcm', 'himanshu'), ('data\\\\PGBM-003\\\\10-17-1995-MR RCBV SEQUENCE-57198\\\\36476-sRCBVreg-54964\\\\000011.dcm', 'himanshu'), ('data\\\\PGBM-003\\\\10-17-1995-MR RCBV SEQUENCE-57198\\\\36476-sRCBVreg-54964\\\\000012.dcm', 'himanshu'), ('data\\\\PGBM-003\\\\10-17-1995-MR RCBV SEQUENCE-57198\\\\36476-sRCBVreg-54964\\\\000013.dcm', 'himanshu'), ('data\\\\PGBM-003\\\\10-17-1995-MR RCBV SEQUENCE-57198\\\\36476-sRCBVreg-54964\\\\000014.dcm', 'himanshu'), ('data\\\\PGBM-003\\\\10-17-1995-MR RCBV SEQUENCE-57198\\\\36476-sRCBVreg-54964\\\\000015.dcm', 'himanshu'), ('data\\\\PGBM-003\\\\10-17-1995-MR RCBV SEQUENCE-57198\\\\36476-sRCBVreg-54964\\\\000016.dcm', 'himanshu'), ('data\\\\PGBM-003\\\\10-17-1995-MR RCBV SEQUENCE-57198\\\\36476-sRCBVreg-54964\\\\000017.dcm', 'himanshu'), ('data\\\\PGBM-003\\\\10-17-1995-MR RCBV SEQUENCE-57198\\\\36476-sRCBVreg-54964\\\\000018.dcm', 'himanshu'), ('data\\\\PGBM-003\\\\10-17-1995-MR RCBV SEQUENCE-57198\\\\36476-sRCBVreg-54964\\\\000019.dcm', 'himanshu'), ('data\\\\PGBM-003\\\\10-17-1995-MR RCBV SEQUENCE-57198\\\\36476-sRCBVreg-54964\\\\000020.dcm', 'himanshu'), ('data\\\\PGBM-003\\\\10-17-1995-MR RCBV SEQUENCE-57198\\\\36476-sRCBVreg-54964\\\\000021.dcm', 'himanshu'), ('data\\\\PGBM-003\\\\10-17-1995-MR RCBV SEQUENCE-57198\\\\36476-sRCBVreg-54964\\\\000022.dcm', 'himanshu'), ('data\\\\PGBM-003\\\\10-17-1995-MR RCBV SEQUENCE-57198\\\\36476-sRCBVreg-54964\\\\000023.dcm', 'himanshu')]),\n",
       "       list([('data\\\\PGBM-003\\\\10-17-1995-MR RCBV SEQUENCE-57198\\\\36477-nRCBVreg-15344\\\\000000.dcm', 'himanshu'), ('data\\\\PGBM-003\\\\10-17-1995-MR RCBV SEQUENCE-57198\\\\36477-nRCBVreg-15344\\\\000001.dcm', 'himanshu'), ('data\\\\PGBM-003\\\\10-17-1995-MR RCBV SEQUENCE-57198\\\\36477-nRCBVreg-15344\\\\000002.dcm', 'himanshu'), ('data\\\\PGBM-003\\\\10-17-1995-MR RCBV SEQUENCE-57198\\\\36477-nRCBVreg-15344\\\\000003.dcm', 'himanshu'), ('data\\\\PGBM-003\\\\10-17-1995-MR RCBV SEQUENCE-57198\\\\36477-nRCBVreg-15344\\\\000004.dcm', 'himanshu'), ('data\\\\PGBM-003\\\\10-17-1995-MR RCBV SEQUENCE-57198\\\\36477-nRCBVreg-15344\\\\000005.dcm', 'himanshu'), ('data\\\\PGBM-003\\\\10-17-1995-MR RCBV SEQUENCE-57198\\\\36477-nRCBVreg-15344\\\\000006.dcm', 'himanshu'), ('data\\\\PGBM-003\\\\10-17-1995-MR RCBV SEQUENCE-57198\\\\36477-nRCBVreg-15344\\\\000007.dcm', 'himanshu'), ('data\\\\PGBM-003\\\\10-17-1995-MR RCBV SEQUENCE-57198\\\\36477-nRCBVreg-15344\\\\000008.dcm', 'himanshu'), ('data\\\\PGBM-003\\\\10-17-1995-MR RCBV SEQUENCE-57198\\\\36477-nRCBVreg-15344\\\\000009.dcm', 'himanshu'), ('data\\\\PGBM-003\\\\10-17-1995-MR RCBV SEQUENCE-57198\\\\36477-nRCBVreg-15344\\\\000010.dcm', 'himanshu'), ('data\\\\PGBM-003\\\\10-17-1995-MR RCBV SEQUENCE-57198\\\\36477-nRCBVreg-15344\\\\000011.dcm', 'himanshu'), ('data\\\\PGBM-003\\\\10-17-1995-MR RCBV SEQUENCE-57198\\\\36477-nRCBVreg-15344\\\\000012.dcm', 'himanshu'), ('data\\\\PGBM-003\\\\10-17-1995-MR RCBV SEQUENCE-57198\\\\36477-nRCBVreg-15344\\\\000013.dcm', 'himanshu'), ('data\\\\PGBM-003\\\\10-17-1995-MR RCBV SEQUENCE-57198\\\\36477-nRCBVreg-15344\\\\000014.dcm', 'himanshu'), ('data\\\\PGBM-003\\\\10-17-1995-MR RCBV SEQUENCE-57198\\\\36477-nRCBVreg-15344\\\\000015.dcm', 'himanshu'), ('data\\\\PGBM-003\\\\10-17-1995-MR RCBV SEQUENCE-57198\\\\36477-nRCBVreg-15344\\\\000016.dcm', 'himanshu'), ('data\\\\PGBM-003\\\\10-17-1995-MR RCBV SEQUENCE-57198\\\\36477-nRCBVreg-15344\\\\000017.dcm', 'himanshu'), ('data\\\\PGBM-003\\\\10-17-1995-MR RCBV SEQUENCE-57198\\\\36477-nRCBVreg-15344\\\\000018.dcm', 'himanshu'), ('data\\\\PGBM-003\\\\10-17-1995-MR RCBV SEQUENCE-57198\\\\36477-nRCBVreg-15344\\\\000019.dcm', 'himanshu'), ('data\\\\PGBM-003\\\\10-17-1995-MR RCBV SEQUENCE-57198\\\\36477-nRCBVreg-15344\\\\000020.dcm', 'himanshu'), ('data\\\\PGBM-003\\\\10-17-1995-MR RCBV SEQUENCE-57198\\\\36477-nRCBVreg-15344\\\\000021.dcm', 'himanshu'), ('data\\\\PGBM-003\\\\10-17-1995-MR RCBV SEQUENCE-57198\\\\36477-nRCBVreg-15344\\\\000022.dcm', 'himanshu'), ('data\\\\PGBM-003\\\\10-17-1995-MR RCBV SEQUENCE-57198\\\\36477-nRCBVreg-15344\\\\000023.dcm', 'himanshu')]),\n",
       "       list([('data\\\\PGBM-003\\\\10-17-1995-MR RCBV SEQUENCE-57198\\\\37868-T2reg-82200\\\\000000.dcm', 'himanshu'), ('data\\\\PGBM-003\\\\10-17-1995-MR RCBV SEQUENCE-57198\\\\37868-T2reg-82200\\\\000001.dcm', 'himanshu'), ('data\\\\PGBM-003\\\\10-17-1995-MR RCBV SEQUENCE-57198\\\\37868-T2reg-82200\\\\000002.dcm', 'himanshu'), ('data\\\\PGBM-003\\\\10-17-1995-MR RCBV SEQUENCE-57198\\\\37868-T2reg-82200\\\\000003.dcm', 'himanshu'), ('data\\\\PGBM-003\\\\10-17-1995-MR RCBV SEQUENCE-57198\\\\37868-T2reg-82200\\\\000004.dcm', 'himanshu'), ('data\\\\PGBM-003\\\\10-17-1995-MR RCBV SEQUENCE-57198\\\\37868-T2reg-82200\\\\000005.dcm', 'himanshu'), ('data\\\\PGBM-003\\\\10-17-1995-MR RCBV SEQUENCE-57198\\\\37868-T2reg-82200\\\\000006.dcm', 'himanshu'), ('data\\\\PGBM-003\\\\10-17-1995-MR RCBV SEQUENCE-57198\\\\37868-T2reg-82200\\\\000007.dcm', 'himanshu'), ('data\\\\PGBM-003\\\\10-17-1995-MR RCBV SEQUENCE-57198\\\\37868-T2reg-82200\\\\000008.dcm', 'himanshu'), ('data\\\\PGBM-003\\\\10-17-1995-MR RCBV SEQUENCE-57198\\\\37868-T2reg-82200\\\\000009.dcm', 'himanshu'), ('data\\\\PGBM-003\\\\10-17-1995-MR RCBV SEQUENCE-57198\\\\37868-T2reg-82200\\\\000010.dcm', 'himanshu'), ('data\\\\PGBM-003\\\\10-17-1995-MR RCBV SEQUENCE-57198\\\\37868-T2reg-82200\\\\000011.dcm', 'himanshu'), ('data\\\\PGBM-003\\\\10-17-1995-MR RCBV SEQUENCE-57198\\\\37868-T2reg-82200\\\\000012.dcm', 'himanshu'), ('data\\\\PGBM-003\\\\10-17-1995-MR RCBV SEQUENCE-57198\\\\37868-T2reg-82200\\\\000013.dcm', 'himanshu'), ('data\\\\PGBM-003\\\\10-17-1995-MR RCBV SEQUENCE-57198\\\\37868-T2reg-82200\\\\000014.dcm', 'himanshu'), ('data\\\\PGBM-003\\\\10-17-1995-MR RCBV SEQUENCE-57198\\\\37868-T2reg-82200\\\\000015.dcm', 'himanshu'), ('data\\\\PGBM-003\\\\10-17-1995-MR RCBV SEQUENCE-57198\\\\37868-T2reg-82200\\\\000016.dcm', 'himanshu'), ('data\\\\PGBM-003\\\\10-17-1995-MR RCBV SEQUENCE-57198\\\\37868-T2reg-82200\\\\000017.dcm', 'himanshu'), ('data\\\\PGBM-003\\\\10-17-1995-MR RCBV SEQUENCE-57198\\\\37868-T2reg-82200\\\\000018.dcm', 'himanshu'), ('data\\\\PGBM-003\\\\10-17-1995-MR RCBV SEQUENCE-57198\\\\37868-T2reg-82200\\\\000019.dcm', 'himanshu'), ('data\\\\PGBM-003\\\\10-17-1995-MR RCBV SEQUENCE-57198\\\\37868-T2reg-82200\\\\000020.dcm', 'himanshu'), ('data\\\\PGBM-003\\\\10-17-1995-MR RCBV SEQUENCE-57198\\\\37868-T2reg-82200\\\\000021.dcm', 'himanshu'), ('data\\\\PGBM-003\\\\10-17-1995-MR RCBV SEQUENCE-57198\\\\37868-T2reg-82200\\\\000022.dcm', 'himanshu'), ('data\\\\PGBM-003\\\\10-17-1995-MR RCBV SEQUENCE-57198\\\\37868-T2reg-82200\\\\000023.dcm', 'himanshu')]),\n",
       "       list([('data\\\\PGBM-003\\\\10-17-1995-MR RCBV SEQUENCE-57198\\\\5362-MaskTumor-36422\\\\000000.dcm', 'himanshu'), ('data\\\\PGBM-003\\\\10-17-1995-MR RCBV SEQUENCE-57198\\\\5362-MaskTumor-36422\\\\000001.dcm', 'himanshu'), ('data\\\\PGBM-003\\\\10-17-1995-MR RCBV SEQUENCE-57198\\\\5362-MaskTumor-36422\\\\000002.dcm', 'himanshu'), ('data\\\\PGBM-003\\\\10-17-1995-MR RCBV SEQUENCE-57198\\\\5362-MaskTumor-36422\\\\000003.dcm', 'himanshu'), ('data\\\\PGBM-003\\\\10-17-1995-MR RCBV SEQUENCE-57198\\\\5362-MaskTumor-36422\\\\000004.dcm', 'himanshu'), ('data\\\\PGBM-003\\\\10-17-1995-MR RCBV SEQUENCE-57198\\\\5362-MaskTumor-36422\\\\000005.dcm', 'himanshu'), ('data\\\\PGBM-003\\\\10-17-1995-MR RCBV SEQUENCE-57198\\\\5362-MaskTumor-36422\\\\000006.dcm', 'himanshu'), ('data\\\\PGBM-003\\\\10-17-1995-MR RCBV SEQUENCE-57198\\\\5362-MaskTumor-36422\\\\000007.dcm', 'himanshu'), ('data\\\\PGBM-003\\\\10-17-1995-MR RCBV SEQUENCE-57198\\\\5362-MaskTumor-36422\\\\000008.dcm', 'himanshu'), ('data\\\\PGBM-003\\\\10-17-1995-MR RCBV SEQUENCE-57198\\\\5362-MaskTumor-36422\\\\000009.dcm', 'himanshu'), ('data\\\\PGBM-003\\\\10-17-1995-MR RCBV SEQUENCE-57198\\\\5362-MaskTumor-36422\\\\000010.dcm', 'himanshu'), ('data\\\\PGBM-003\\\\10-17-1995-MR RCBV SEQUENCE-57198\\\\5362-MaskTumor-36422\\\\000011.dcm', 'himanshu'), ('data\\\\PGBM-003\\\\10-17-1995-MR RCBV SEQUENCE-57198\\\\5362-MaskTumor-36422\\\\000012.dcm', 'himanshu'), ('data\\\\PGBM-003\\\\10-17-1995-MR RCBV SEQUENCE-57198\\\\5362-MaskTumor-36422\\\\000013.dcm', 'himanshu'), ('data\\\\PGBM-003\\\\10-17-1995-MR RCBV SEQUENCE-57198\\\\5362-MaskTumor-36422\\\\000014.dcm', 'himanshu'), ('data\\\\PGBM-003\\\\10-17-1995-MR RCBV SEQUENCE-57198\\\\5362-MaskTumor-36422\\\\000015.dcm', 'himanshu'), ('data\\\\PGBM-003\\\\10-17-1995-MR RCBV SEQUENCE-57198\\\\5362-MaskTumor-36422\\\\000016.dcm', 'himanshu'), ('data\\\\PGBM-003\\\\10-17-1995-MR RCBV SEQUENCE-57198\\\\5362-MaskTumor-36422\\\\000017.dcm', 'himanshu'), ('data\\\\PGBM-003\\\\10-17-1995-MR RCBV SEQUENCE-57198\\\\5362-MaskTumor-36422\\\\000018.dcm', 'himanshu'), ('data\\\\PGBM-003\\\\10-17-1995-MR RCBV SEQUENCE-57198\\\\5362-MaskTumor-36422\\\\000019.dcm', 'himanshu'), ('data\\\\PGBM-003\\\\10-17-1995-MR RCBV SEQUENCE-57198\\\\5362-MaskTumor-36422\\\\000020.dcm', 'himanshu'), ('data\\\\PGBM-003\\\\10-17-1995-MR RCBV SEQUENCE-57198\\\\5362-MaskTumor-36422\\\\000021.dcm', 'himanshu'), ('data\\\\PGBM-003\\\\10-17-1995-MR RCBV SEQUENCE-57198\\\\5362-MaskTumor-36422\\\\000022.dcm', 'himanshu'), ('data\\\\PGBM-003\\\\10-17-1995-MR RCBV SEQUENCE-57198\\\\5362-MaskTumor-36422\\\\000023.dcm', 'himanshu')]),\n",
       "       list([('data\\\\PGBM-006\\\\02-11-1997-MR RCBV SEQUENCE-02981\\\\37501-T1prereg-49535\\\\000000.dcm', 'himanshu'), ('data\\\\PGBM-006\\\\02-11-1997-MR RCBV SEQUENCE-02981\\\\37501-T1prereg-49535\\\\000001.dcm', 'himanshu'), ('data\\\\PGBM-006\\\\02-11-1997-MR RCBV SEQUENCE-02981\\\\37501-T1prereg-49535\\\\000002.dcm', 'himanshu'), ('data\\\\PGBM-006\\\\02-11-1997-MR RCBV SEQUENCE-02981\\\\37501-T1prereg-49535\\\\000003.dcm', 'himanshu'), ('data\\\\PGBM-006\\\\02-11-1997-MR RCBV SEQUENCE-02981\\\\37501-T1prereg-49535\\\\000004.dcm', 'himanshu'), ('data\\\\PGBM-006\\\\02-11-1997-MR RCBV SEQUENCE-02981\\\\37501-T1prereg-49535\\\\000005.dcm', 'himanshu'), ('data\\\\PGBM-006\\\\02-11-1997-MR RCBV SEQUENCE-02981\\\\37501-T1prereg-49535\\\\000006.dcm', 'himanshu'), ('data\\\\PGBM-006\\\\02-11-1997-MR RCBV SEQUENCE-02981\\\\37501-T1prereg-49535\\\\000007.dcm', 'himanshu'), ('data\\\\PGBM-006\\\\02-11-1997-MR RCBV SEQUENCE-02981\\\\37501-T1prereg-49535\\\\000008.dcm', 'himanshu'), ('data\\\\PGBM-006\\\\02-11-1997-MR RCBV SEQUENCE-02981\\\\37501-T1prereg-49535\\\\000009.dcm', 'himanshu'), ('data\\\\PGBM-006\\\\02-11-1997-MR RCBV SEQUENCE-02981\\\\37501-T1prereg-49535\\\\000010.dcm', 'himanshu'), ('data\\\\PGBM-006\\\\02-11-1997-MR RCBV SEQUENCE-02981\\\\37501-T1prereg-49535\\\\000011.dcm', 'himanshu'), ('data\\\\PGBM-006\\\\02-11-1997-MR RCBV SEQUENCE-02981\\\\37501-T1prereg-49535\\\\000012.dcm', 'himanshu'), ('data\\\\PGBM-006\\\\02-11-1997-MR RCBV SEQUENCE-02981\\\\37501-T1prereg-49535\\\\000013.dcm', 'himanshu'), ('data\\\\PGBM-006\\\\02-11-1997-MR RCBV SEQUENCE-02981\\\\37501-T1prereg-49535\\\\000014.dcm', 'himanshu'), ('data\\\\PGBM-006\\\\02-11-1997-MR RCBV SEQUENCE-02981\\\\37501-T1prereg-49535\\\\000015.dcm', 'himanshu'), ('data\\\\PGBM-006\\\\02-11-1997-MR RCBV SEQUENCE-02981\\\\37501-T1prereg-49535\\\\000016.dcm', 'himanshu'), ('data\\\\PGBM-006\\\\02-11-1997-MR RCBV SEQUENCE-02981\\\\37501-T1prereg-49535\\\\000017.dcm', 'himanshu'), ('data\\\\PGBM-006\\\\02-11-1997-MR RCBV SEQUENCE-02981\\\\37501-T1prereg-49535\\\\000018.dcm', 'himanshu'), ('data\\\\PGBM-006\\\\02-11-1997-MR RCBV SEQUENCE-02981\\\\37501-T1prereg-49535\\\\000019.dcm', 'himanshu'), ('data\\\\PGBM-006\\\\02-11-1997-MR RCBV SEQUENCE-02981\\\\37501-T1prereg-49535\\\\000020.dcm', 'himanshu'), ('data\\\\PGBM-006\\\\02-11-1997-MR RCBV SEQUENCE-02981\\\\37501-T1prereg-49535\\\\000021.dcm', 'himanshu'), ('data\\\\PGBM-006\\\\02-11-1997-MR RCBV SEQUENCE-02981\\\\37501-T1prereg-49535\\\\000022.dcm', 'himanshu'), ('data\\\\PGBM-006\\\\02-11-1997-MR RCBV SEQUENCE-02981\\\\37501-T1prereg-49535\\\\000023.dcm', 'himanshu')]),\n",
       "       list([('data\\\\PGBM-006\\\\02-11-1997-MR RCBV SEQUENCE-02981\\\\37624-ADCreg-73759\\\\000000.dcm', 'himanshu'), ('data\\\\PGBM-006\\\\02-11-1997-MR RCBV SEQUENCE-02981\\\\37624-ADCreg-73759\\\\000001.dcm', 'himanshu'), ('data\\\\PGBM-006\\\\02-11-1997-MR RCBV SEQUENCE-02981\\\\37624-ADCreg-73759\\\\000002.dcm', 'himanshu'), ('data\\\\PGBM-006\\\\02-11-1997-MR RCBV SEQUENCE-02981\\\\37624-ADCreg-73759\\\\000003.dcm', 'himanshu'), ('data\\\\PGBM-006\\\\02-11-1997-MR RCBV SEQUENCE-02981\\\\37624-ADCreg-73759\\\\000004.dcm', 'himanshu'), ('data\\\\PGBM-006\\\\02-11-1997-MR RCBV SEQUENCE-02981\\\\37624-ADCreg-73759\\\\000005.dcm', 'himanshu'), ('data\\\\PGBM-006\\\\02-11-1997-MR RCBV SEQUENCE-02981\\\\37624-ADCreg-73759\\\\000006.dcm', 'himanshu'), ('data\\\\PGBM-006\\\\02-11-1997-MR RCBV SEQUENCE-02981\\\\37624-ADCreg-73759\\\\000007.dcm', 'himanshu'), ('data\\\\PGBM-006\\\\02-11-1997-MR RCBV SEQUENCE-02981\\\\37624-ADCreg-73759\\\\000008.dcm', 'himanshu'), ('data\\\\PGBM-006\\\\02-11-1997-MR RCBV SEQUENCE-02981\\\\37624-ADCreg-73759\\\\000009.dcm', 'himanshu'), ('data\\\\PGBM-006\\\\02-11-1997-MR RCBV SEQUENCE-02981\\\\37624-ADCreg-73759\\\\000010.dcm', 'himanshu'), ('data\\\\PGBM-006\\\\02-11-1997-MR RCBV SEQUENCE-02981\\\\37624-ADCreg-73759\\\\000011.dcm', 'himanshu'), ('data\\\\PGBM-006\\\\02-11-1997-MR RCBV SEQUENCE-02981\\\\37624-ADCreg-73759\\\\000012.dcm', 'himanshu'), ('data\\\\PGBM-006\\\\02-11-1997-MR RCBV SEQUENCE-02981\\\\37624-ADCreg-73759\\\\000013.dcm', 'himanshu'), ('data\\\\PGBM-006\\\\02-11-1997-MR RCBV SEQUENCE-02981\\\\37624-ADCreg-73759\\\\000014.dcm', 'himanshu'), ('data\\\\PGBM-006\\\\02-11-1997-MR RCBV SEQUENCE-02981\\\\37624-ADCreg-73759\\\\000015.dcm', 'himanshu'), ('data\\\\PGBM-006\\\\02-11-1997-MR RCBV SEQUENCE-02981\\\\37624-ADCreg-73759\\\\000016.dcm', 'himanshu'), ('data\\\\PGBM-006\\\\02-11-1997-MR RCBV SEQUENCE-02981\\\\37624-ADCreg-73759\\\\000017.dcm', 'himanshu'), ('data\\\\PGBM-006\\\\02-11-1997-MR RCBV SEQUENCE-02981\\\\37624-ADCreg-73759\\\\000018.dcm', 'himanshu'), ('data\\\\PGBM-006\\\\02-11-1997-MR RCBV SEQUENCE-02981\\\\37624-ADCreg-73759\\\\000019.dcm', 'himanshu'), ('data\\\\PGBM-006\\\\02-11-1997-MR RCBV SEQUENCE-02981\\\\37624-ADCreg-73759\\\\000020.dcm', 'himanshu'), ('data\\\\PGBM-006\\\\02-11-1997-MR RCBV SEQUENCE-02981\\\\37624-ADCreg-73759\\\\000021.dcm', 'himanshu'), ('data\\\\PGBM-006\\\\02-11-1997-MR RCBV SEQUENCE-02981\\\\37624-ADCreg-73759\\\\000022.dcm', 'himanshu'), ('data\\\\PGBM-006\\\\02-11-1997-MR RCBV SEQUENCE-02981\\\\37624-ADCreg-73759\\\\000023.dcm', 'himanshu')]),\n",
       "       list([('data\\\\PGBM-006\\\\02-11-1997-MR RCBV SEQUENCE-02981\\\\37627-nRCBVreg-65746\\\\000000.dcm', 'himanshu'), ('data\\\\PGBM-006\\\\02-11-1997-MR RCBV SEQUENCE-02981\\\\37627-nRCBVreg-65746\\\\000001.dcm', 'himanshu'), ('data\\\\PGBM-006\\\\02-11-1997-MR RCBV SEQUENCE-02981\\\\37627-nRCBVreg-65746\\\\000002.dcm', 'himanshu'), ('data\\\\PGBM-006\\\\02-11-1997-MR RCBV SEQUENCE-02981\\\\37627-nRCBVreg-65746\\\\000003.dcm', 'himanshu'), ('data\\\\PGBM-006\\\\02-11-1997-MR RCBV SEQUENCE-02981\\\\37627-nRCBVreg-65746\\\\000004.dcm', 'himanshu'), ('data\\\\PGBM-006\\\\02-11-1997-MR RCBV SEQUENCE-02981\\\\37627-nRCBVreg-65746\\\\000005.dcm', 'himanshu'), ('data\\\\PGBM-006\\\\02-11-1997-MR RCBV SEQUENCE-02981\\\\37627-nRCBVreg-65746\\\\000006.dcm', 'himanshu'), ('data\\\\PGBM-006\\\\02-11-1997-MR RCBV SEQUENCE-02981\\\\37627-nRCBVreg-65746\\\\000007.dcm', 'himanshu'), ('data\\\\PGBM-006\\\\02-11-1997-MR RCBV SEQUENCE-02981\\\\37627-nRCBVreg-65746\\\\000008.dcm', 'himanshu'), ('data\\\\PGBM-006\\\\02-11-1997-MR RCBV SEQUENCE-02981\\\\37627-nRCBVreg-65746\\\\000009.dcm', 'himanshu'), ('data\\\\PGBM-006\\\\02-11-1997-MR RCBV SEQUENCE-02981\\\\37627-nRCBVreg-65746\\\\000010.dcm', 'himanshu'), ('data\\\\PGBM-006\\\\02-11-1997-MR RCBV SEQUENCE-02981\\\\37627-nRCBVreg-65746\\\\000011.dcm', 'himanshu'), ('data\\\\PGBM-006\\\\02-11-1997-MR RCBV SEQUENCE-02981\\\\37627-nRCBVreg-65746\\\\000012.dcm', 'himanshu'), ('data\\\\PGBM-006\\\\02-11-1997-MR RCBV SEQUENCE-02981\\\\37627-nRCBVreg-65746\\\\000013.dcm', 'himanshu'), ('data\\\\PGBM-006\\\\02-11-1997-MR RCBV SEQUENCE-02981\\\\37627-nRCBVreg-65746\\\\000014.dcm', 'himanshu'), ('data\\\\PGBM-006\\\\02-11-1997-MR RCBV SEQUENCE-02981\\\\37627-nRCBVreg-65746\\\\000015.dcm', 'himanshu'), ('data\\\\PGBM-006\\\\02-11-1997-MR RCBV SEQUENCE-02981\\\\37627-nRCBVreg-65746\\\\000016.dcm', 'himanshu'), ('data\\\\PGBM-006\\\\02-11-1997-MR RCBV SEQUENCE-02981\\\\37627-nRCBVreg-65746\\\\000017.dcm', 'himanshu'), ('data\\\\PGBM-006\\\\02-11-1997-MR RCBV SEQUENCE-02981\\\\37627-nRCBVreg-65746\\\\000018.dcm', 'himanshu'), ('data\\\\PGBM-006\\\\02-11-1997-MR RCBV SEQUENCE-02981\\\\37627-nRCBVreg-65746\\\\000019.dcm', 'himanshu'), ('data\\\\PGBM-006\\\\02-11-1997-MR RCBV SEQUENCE-02981\\\\37627-nRCBVreg-65746\\\\000020.dcm', 'himanshu'), ('data\\\\PGBM-006\\\\02-11-1997-MR RCBV SEQUENCE-02981\\\\37627-nRCBVreg-65746\\\\000021.dcm', 'himanshu'), ('data\\\\PGBM-006\\\\02-11-1997-MR RCBV SEQUENCE-02981\\\\37627-nRCBVreg-65746\\\\000022.dcm', 'himanshu'), ('data\\\\PGBM-006\\\\02-11-1997-MR RCBV SEQUENCE-02981\\\\37627-nRCBVreg-65746\\\\000023.dcm', 'himanshu')]),\n",
       "       list([('data\\\\PGBM-006\\\\02-11-1997-MR RCBV SEQUENCE-02981\\\\37628-nCBFreg-69444\\\\000000.dcm', 'himanshu'), ('data\\\\PGBM-006\\\\02-11-1997-MR RCBV SEQUENCE-02981\\\\37628-nCBFreg-69444\\\\000001.dcm', 'himanshu'), ('data\\\\PGBM-006\\\\02-11-1997-MR RCBV SEQUENCE-02981\\\\37628-nCBFreg-69444\\\\000002.dcm', 'himanshu'), ('data\\\\PGBM-006\\\\02-11-1997-MR RCBV SEQUENCE-02981\\\\37628-nCBFreg-69444\\\\000003.dcm', 'himanshu'), ('data\\\\PGBM-006\\\\02-11-1997-MR RCBV SEQUENCE-02981\\\\37628-nCBFreg-69444\\\\000004.dcm', 'himanshu'), ('data\\\\PGBM-006\\\\02-11-1997-MR RCBV SEQUENCE-02981\\\\37628-nCBFreg-69444\\\\000005.dcm', 'himanshu'), ('data\\\\PGBM-006\\\\02-11-1997-MR RCBV SEQUENCE-02981\\\\37628-nCBFreg-69444\\\\000006.dcm', 'himanshu'), ('data\\\\PGBM-006\\\\02-11-1997-MR RCBV SEQUENCE-02981\\\\37628-nCBFreg-69444\\\\000007.dcm', 'himanshu'), ('data\\\\PGBM-006\\\\02-11-1997-MR RCBV SEQUENCE-02981\\\\37628-nCBFreg-69444\\\\000008.dcm', 'himanshu'), ('data\\\\PGBM-006\\\\02-11-1997-MR RCBV SEQUENCE-02981\\\\37628-nCBFreg-69444\\\\000009.dcm', 'himanshu'), ('data\\\\PGBM-006\\\\02-11-1997-MR RCBV SEQUENCE-02981\\\\37628-nCBFreg-69444\\\\000010.dcm', 'himanshu'), ('data\\\\PGBM-006\\\\02-11-1997-MR RCBV SEQUENCE-02981\\\\37628-nCBFreg-69444\\\\000011.dcm', 'himanshu'), ('data\\\\PGBM-006\\\\02-11-1997-MR RCBV SEQUENCE-02981\\\\37628-nCBFreg-69444\\\\000012.dcm', 'himanshu'), ('data\\\\PGBM-006\\\\02-11-1997-MR RCBV SEQUENCE-02981\\\\37628-nCBFreg-69444\\\\000013.dcm', 'himanshu'), ('data\\\\PGBM-006\\\\02-11-1997-MR RCBV SEQUENCE-02981\\\\37628-nCBFreg-69444\\\\000014.dcm', 'himanshu'), ('data\\\\PGBM-006\\\\02-11-1997-MR RCBV SEQUENCE-02981\\\\37628-nCBFreg-69444\\\\000015.dcm', 'himanshu'), ('data\\\\PGBM-006\\\\02-11-1997-MR RCBV SEQUENCE-02981\\\\37628-nCBFreg-69444\\\\000016.dcm', 'himanshu'), ('data\\\\PGBM-006\\\\02-11-1997-MR RCBV SEQUENCE-02981\\\\37628-nCBFreg-69444\\\\000017.dcm', 'himanshu'), ('data\\\\PGBM-006\\\\02-11-1997-MR RCBV SEQUENCE-02981\\\\37628-nCBFreg-69444\\\\000018.dcm', 'himanshu'), ('data\\\\PGBM-006\\\\02-11-1997-MR RCBV SEQUENCE-02981\\\\37628-nCBFreg-69444\\\\000019.dcm', 'himanshu'), ('data\\\\PGBM-006\\\\02-11-1997-MR RCBV SEQUENCE-02981\\\\37628-nCBFreg-69444\\\\000020.dcm', 'himanshu'), ('data\\\\PGBM-006\\\\02-11-1997-MR RCBV SEQUENCE-02981\\\\37628-nCBFreg-69444\\\\000021.dcm', 'himanshu'), ('data\\\\PGBM-006\\\\02-11-1997-MR RCBV SEQUENCE-02981\\\\37628-nCBFreg-69444\\\\000022.dcm', 'himanshu'), ('data\\\\PGBM-006\\\\02-11-1997-MR RCBV SEQUENCE-02981\\\\37628-nCBFreg-69444\\\\000023.dcm', 'himanshu')]),\n",
       "       list([('data\\\\PGBM-006\\\\02-11-1997-MR RCBV SEQUENCE-02981\\\\37629-sRCBVreg-45227\\\\000000.dcm', 'himanshu'), ('data\\\\PGBM-006\\\\02-11-1997-MR RCBV SEQUENCE-02981\\\\37629-sRCBVreg-45227\\\\000001.dcm', 'himanshu'), ('data\\\\PGBM-006\\\\02-11-1997-MR RCBV SEQUENCE-02981\\\\37629-sRCBVreg-45227\\\\000002.dcm', 'himanshu'), ('data\\\\PGBM-006\\\\02-11-1997-MR RCBV SEQUENCE-02981\\\\37629-sRCBVreg-45227\\\\000003.dcm', 'himanshu'), ('data\\\\PGBM-006\\\\02-11-1997-MR RCBV SEQUENCE-02981\\\\37629-sRCBVreg-45227\\\\000004.dcm', 'himanshu'), ('data\\\\PGBM-006\\\\02-11-1997-MR RCBV SEQUENCE-02981\\\\37629-sRCBVreg-45227\\\\000005.dcm', 'himanshu'), ('data\\\\PGBM-006\\\\02-11-1997-MR RCBV SEQUENCE-02981\\\\37629-sRCBVreg-45227\\\\000006.dcm', 'himanshu'), ('data\\\\PGBM-006\\\\02-11-1997-MR RCBV SEQUENCE-02981\\\\37629-sRCBVreg-45227\\\\000007.dcm', 'himanshu'), ('data\\\\PGBM-006\\\\02-11-1997-MR RCBV SEQUENCE-02981\\\\37629-sRCBVreg-45227\\\\000008.dcm', 'himanshu'), ('data\\\\PGBM-006\\\\02-11-1997-MR RCBV SEQUENCE-02981\\\\37629-sRCBVreg-45227\\\\000009.dcm', 'himanshu'), ('data\\\\PGBM-006\\\\02-11-1997-MR RCBV SEQUENCE-02981\\\\37629-sRCBVreg-45227\\\\000010.dcm', 'himanshu'), ('data\\\\PGBM-006\\\\02-11-1997-MR RCBV SEQUENCE-02981\\\\37629-sRCBVreg-45227\\\\000011.dcm', 'himanshu'), ('data\\\\PGBM-006\\\\02-11-1997-MR RCBV SEQUENCE-02981\\\\37629-sRCBVreg-45227\\\\000012.dcm', 'himanshu'), ('data\\\\PGBM-006\\\\02-11-1997-MR RCBV SEQUENCE-02981\\\\37629-sRCBVreg-45227\\\\000013.dcm', 'himanshu'), ('data\\\\PGBM-006\\\\02-11-1997-MR RCBV SEQUENCE-02981\\\\37629-sRCBVreg-45227\\\\000014.dcm', 'himanshu'), ('data\\\\PGBM-006\\\\02-11-1997-MR RCBV SEQUENCE-02981\\\\37629-sRCBVreg-45227\\\\000015.dcm', 'himanshu'), ('data\\\\PGBM-006\\\\02-11-1997-MR RCBV SEQUENCE-02981\\\\37629-sRCBVreg-45227\\\\000016.dcm', 'himanshu'), ('data\\\\PGBM-006\\\\02-11-1997-MR RCBV SEQUENCE-02981\\\\37629-sRCBVreg-45227\\\\000017.dcm', 'himanshu'), ('data\\\\PGBM-006\\\\02-11-1997-MR RCBV SEQUENCE-02981\\\\37629-sRCBVreg-45227\\\\000018.dcm', 'himanshu'), ('data\\\\PGBM-006\\\\02-11-1997-MR RCBV SEQUENCE-02981\\\\37629-sRCBVreg-45227\\\\000019.dcm', 'himanshu'), ('data\\\\PGBM-006\\\\02-11-1997-MR RCBV SEQUENCE-02981\\\\37629-sRCBVreg-45227\\\\000020.dcm', 'himanshu'), ('data\\\\PGBM-006\\\\02-11-1997-MR RCBV SEQUENCE-02981\\\\37629-sRCBVreg-45227\\\\000021.dcm', 'himanshu'), ('data\\\\PGBM-006\\\\02-11-1997-MR RCBV SEQUENCE-02981\\\\37629-sRCBVreg-45227\\\\000022.dcm', 'himanshu'), ('data\\\\PGBM-006\\\\02-11-1997-MR RCBV SEQUENCE-02981\\\\37629-sRCBVreg-45227\\\\000023.dcm', 'himanshu')]),\n",
       "       list([('data\\\\PGBM-006\\\\02-11-1997-MR RCBV SEQUENCE-02981\\\\5361-MaskTumor-62406\\\\000000.dcm', 'himanshu'), ('data\\\\PGBM-006\\\\02-11-1997-MR RCBV SEQUENCE-02981\\\\5361-MaskTumor-62406\\\\000001.dcm', 'himanshu'), ('data\\\\PGBM-006\\\\02-11-1997-MR RCBV SEQUENCE-02981\\\\5361-MaskTumor-62406\\\\000002.dcm', 'himanshu'), ('data\\\\PGBM-006\\\\02-11-1997-MR RCBV SEQUENCE-02981\\\\5361-MaskTumor-62406\\\\000003.dcm', 'himanshu'), ('data\\\\PGBM-006\\\\02-11-1997-MR RCBV SEQUENCE-02981\\\\5361-MaskTumor-62406\\\\000004.dcm', 'himanshu'), ('data\\\\PGBM-006\\\\02-11-1997-MR RCBV SEQUENCE-02981\\\\5361-MaskTumor-62406\\\\000005.dcm', 'himanshu'), ('data\\\\PGBM-006\\\\02-11-1997-MR RCBV SEQUENCE-02981\\\\5361-MaskTumor-62406\\\\000006.dcm', 'himanshu'), ('data\\\\PGBM-006\\\\02-11-1997-MR RCBV SEQUENCE-02981\\\\5361-MaskTumor-62406\\\\000007.dcm', 'himanshu'), ('data\\\\PGBM-006\\\\02-11-1997-MR RCBV SEQUENCE-02981\\\\5361-MaskTumor-62406\\\\000008.dcm', 'himanshu'), ('data\\\\PGBM-006\\\\02-11-1997-MR RCBV SEQUENCE-02981\\\\5361-MaskTumor-62406\\\\000009.dcm', 'himanshu'), ('data\\\\PGBM-006\\\\02-11-1997-MR RCBV SEQUENCE-02981\\\\5361-MaskTumor-62406\\\\000010.dcm', 'himanshu'), ('data\\\\PGBM-006\\\\02-11-1997-MR RCBV SEQUENCE-02981\\\\5361-MaskTumor-62406\\\\000011.dcm', 'himanshu'), ('data\\\\PGBM-006\\\\02-11-1997-MR RCBV SEQUENCE-02981\\\\5361-MaskTumor-62406\\\\000012.dcm', 'himanshu'), ('data\\\\PGBM-006\\\\02-11-1997-MR RCBV SEQUENCE-02981\\\\5361-MaskTumor-62406\\\\000013.dcm', 'himanshu'), ('data\\\\PGBM-006\\\\02-11-1997-MR RCBV SEQUENCE-02981\\\\5361-MaskTumor-62406\\\\000014.dcm', 'himanshu'), ('data\\\\PGBM-006\\\\02-11-1997-MR RCBV SEQUENCE-02981\\\\5361-MaskTumor-62406\\\\000015.dcm', 'himanshu'), ('data\\\\PGBM-006\\\\02-11-1997-MR RCBV SEQUENCE-02981\\\\5361-MaskTumor-62406\\\\000016.dcm', 'himanshu'), ('data\\\\PGBM-006\\\\02-11-1997-MR RCBV SEQUENCE-02981\\\\5361-MaskTumor-62406\\\\000017.dcm', 'himanshu'), ('data\\\\PGBM-006\\\\02-11-1997-MR RCBV SEQUENCE-02981\\\\5361-MaskTumor-62406\\\\000018.dcm', 'himanshu'), ('data\\\\PGBM-006\\\\02-11-1997-MR RCBV SEQUENCE-02981\\\\5361-MaskTumor-62406\\\\000019.dcm', 'himanshu'), ('data\\\\PGBM-006\\\\02-11-1997-MR RCBV SEQUENCE-02981\\\\5361-MaskTumor-62406\\\\000020.dcm', 'himanshu'), ('data\\\\PGBM-006\\\\02-11-1997-MR RCBV SEQUENCE-02981\\\\5361-MaskTumor-62406\\\\000021.dcm', 'himanshu'), ('data\\\\PGBM-006\\\\02-11-1997-MR RCBV SEQUENCE-02981\\\\5361-MaskTumor-62406\\\\000022.dcm', 'himanshu'), ('data\\\\PGBM-006\\\\02-11-1997-MR RCBV SEQUENCE-02981\\\\5361-MaskTumor-62406\\\\000023.dcm', 'himanshu')]),\n",
       "       list([('data\\\\PGBM-006\\\\12-10-1996-MR RCBV SEQUENCE-10783\\\\12-T1post-03514\\\\000000.dcm', 'himanshu'), ('data\\\\PGBM-006\\\\12-10-1996-MR RCBV SEQUENCE-10783\\\\12-T1post-03514\\\\000001.dcm', 'himanshu'), ('data\\\\PGBM-006\\\\12-10-1996-MR RCBV SEQUENCE-10783\\\\12-T1post-03514\\\\000002.dcm', 'himanshu'), ('data\\\\PGBM-006\\\\12-10-1996-MR RCBV SEQUENCE-10783\\\\12-T1post-03514\\\\000003.dcm', 'himanshu'), ('data\\\\PGBM-006\\\\12-10-1996-MR RCBV SEQUENCE-10783\\\\12-T1post-03514\\\\000004.dcm', 'himanshu'), ('data\\\\PGBM-006\\\\12-10-1996-MR RCBV SEQUENCE-10783\\\\12-T1post-03514\\\\000005.dcm', 'himanshu'), ('data\\\\PGBM-006\\\\12-10-1996-MR RCBV SEQUENCE-10783\\\\12-T1post-03514\\\\000006.dcm', 'himanshu'), ('data\\\\PGBM-006\\\\12-10-1996-MR RCBV SEQUENCE-10783\\\\12-T1post-03514\\\\000007.dcm', 'himanshu'), ('data\\\\PGBM-006\\\\12-10-1996-MR RCBV SEQUENCE-10783\\\\12-T1post-03514\\\\000008.dcm', 'himanshu'), ('data\\\\PGBM-006\\\\12-10-1996-MR RCBV SEQUENCE-10783\\\\12-T1post-03514\\\\000009.dcm', 'himanshu'), ('data\\\\PGBM-006\\\\12-10-1996-MR RCBV SEQUENCE-10783\\\\12-T1post-03514\\\\000010.dcm', 'himanshu'), ('data\\\\PGBM-006\\\\12-10-1996-MR RCBV SEQUENCE-10783\\\\12-T1post-03514\\\\000011.dcm', 'himanshu'), ('data\\\\PGBM-006\\\\12-10-1996-MR RCBV SEQUENCE-10783\\\\12-T1post-03514\\\\000012.dcm', 'himanshu'), ('data\\\\PGBM-006\\\\12-10-1996-MR RCBV SEQUENCE-10783\\\\12-T1post-03514\\\\000013.dcm', 'himanshu'), ('data\\\\PGBM-006\\\\12-10-1996-MR RCBV SEQUENCE-10783\\\\12-T1post-03514\\\\000014.dcm', 'himanshu'), ('data\\\\PGBM-006\\\\12-10-1996-MR RCBV SEQUENCE-10783\\\\12-T1post-03514\\\\000015.dcm', 'himanshu'), ('data\\\\PGBM-006\\\\12-10-1996-MR RCBV SEQUENCE-10783\\\\12-T1post-03514\\\\000016.dcm', 'himanshu'), ('data\\\\PGBM-006\\\\12-10-1996-MR RCBV SEQUENCE-10783\\\\12-T1post-03514\\\\000017.dcm', 'himanshu'), ('data\\\\PGBM-006\\\\12-10-1996-MR RCBV SEQUENCE-10783\\\\12-T1post-03514\\\\000018.dcm', 'himanshu'), ('data\\\\PGBM-006\\\\12-10-1996-MR RCBV SEQUENCE-10783\\\\12-T1post-03514\\\\000019.dcm', 'himanshu'), ('data\\\\PGBM-006\\\\12-10-1996-MR RCBV SEQUENCE-10783\\\\12-T1post-03514\\\\000020.dcm', 'himanshu'), ('data\\\\PGBM-006\\\\12-10-1996-MR RCBV SEQUENCE-10783\\\\12-T1post-03514\\\\000021.dcm', 'himanshu'), ('data\\\\PGBM-006\\\\12-10-1996-MR RCBV SEQUENCE-10783\\\\12-T1post-03514\\\\000022.dcm', 'himanshu'), ('data\\\\PGBM-006\\\\12-10-1996-MR RCBV SEQUENCE-10783\\\\12-T1post-03514\\\\000023.dcm', 'himanshu')]),\n",
       "       list([('data\\\\PGBM-006\\\\12-10-1996-MR RCBV SEQUENCE-10783\\\\14404-dT1-67274\\\\000000.dcm', 'himanshu'), ('data\\\\PGBM-006\\\\12-10-1996-MR RCBV SEQUENCE-10783\\\\14404-dT1-67274\\\\000001.dcm', 'himanshu'), ('data\\\\PGBM-006\\\\12-10-1996-MR RCBV SEQUENCE-10783\\\\14404-dT1-67274\\\\000002.dcm', 'himanshu'), ('data\\\\PGBM-006\\\\12-10-1996-MR RCBV SEQUENCE-10783\\\\14404-dT1-67274\\\\000003.dcm', 'himanshu'), ('data\\\\PGBM-006\\\\12-10-1996-MR RCBV SEQUENCE-10783\\\\14404-dT1-67274\\\\000004.dcm', 'himanshu'), ('data\\\\PGBM-006\\\\12-10-1996-MR RCBV SEQUENCE-10783\\\\14404-dT1-67274\\\\000005.dcm', 'himanshu'), ('data\\\\PGBM-006\\\\12-10-1996-MR RCBV SEQUENCE-10783\\\\14404-dT1-67274\\\\000006.dcm', 'himanshu'), ('data\\\\PGBM-006\\\\12-10-1996-MR RCBV SEQUENCE-10783\\\\14404-dT1-67274\\\\000007.dcm', 'himanshu'), ('data\\\\PGBM-006\\\\12-10-1996-MR RCBV SEQUENCE-10783\\\\14404-dT1-67274\\\\000008.dcm', 'himanshu'), ('data\\\\PGBM-006\\\\12-10-1996-MR RCBV SEQUENCE-10783\\\\14404-dT1-67274\\\\000009.dcm', 'himanshu'), ('data\\\\PGBM-006\\\\12-10-1996-MR RCBV SEQUENCE-10783\\\\14404-dT1-67274\\\\000010.dcm', 'himanshu'), ('data\\\\PGBM-006\\\\12-10-1996-MR RCBV SEQUENCE-10783\\\\14404-dT1-67274\\\\000011.dcm', 'himanshu'), ('data\\\\PGBM-006\\\\12-10-1996-MR RCBV SEQUENCE-10783\\\\14404-dT1-67274\\\\000012.dcm', 'himanshu'), ('data\\\\PGBM-006\\\\12-10-1996-MR RCBV SEQUENCE-10783\\\\14404-dT1-67274\\\\000013.dcm', 'himanshu'), ('data\\\\PGBM-006\\\\12-10-1996-MR RCBV SEQUENCE-10783\\\\14404-dT1-67274\\\\000014.dcm', 'himanshu'), ('data\\\\PGBM-006\\\\12-10-1996-MR RCBV SEQUENCE-10783\\\\14404-dT1-67274\\\\000015.dcm', 'himanshu'), ('data\\\\PGBM-006\\\\12-10-1996-MR RCBV SEQUENCE-10783\\\\14404-dT1-67274\\\\000016.dcm', 'himanshu'), ('data\\\\PGBM-006\\\\12-10-1996-MR RCBV SEQUENCE-10783\\\\14404-dT1-67274\\\\000017.dcm', 'himanshu'), ('data\\\\PGBM-006\\\\12-10-1996-MR RCBV SEQUENCE-10783\\\\14404-dT1-67274\\\\000018.dcm', 'himanshu'), ('data\\\\PGBM-006\\\\12-10-1996-MR RCBV SEQUENCE-10783\\\\14404-dT1-67274\\\\000019.dcm', 'himanshu'), ('data\\\\PGBM-006\\\\12-10-1996-MR RCBV SEQUENCE-10783\\\\14404-dT1-67274\\\\000020.dcm', 'himanshu'), ('data\\\\PGBM-006\\\\12-10-1996-MR RCBV SEQUENCE-10783\\\\14404-dT1-67274\\\\000021.dcm', 'himanshu'), ('data\\\\PGBM-006\\\\12-10-1996-MR RCBV SEQUENCE-10783\\\\14404-dT1-67274\\\\000022.dcm', 'himanshu'), ('data\\\\PGBM-006\\\\12-10-1996-MR RCBV SEQUENCE-10783\\\\14404-dT1-67274\\\\000023.dcm', 'himanshu')]),\n",
       "       list([('data\\\\PGBM-006\\\\12-10-1996-MR RCBV SEQUENCE-10783\\\\19431-T1prereg-31693\\\\000000.dcm', 'himanshu'), ('data\\\\PGBM-006\\\\12-10-1996-MR RCBV SEQUENCE-10783\\\\19431-T1prereg-31693\\\\000001.dcm', 'himanshu'), ('data\\\\PGBM-006\\\\12-10-1996-MR RCBV SEQUENCE-10783\\\\19431-T1prereg-31693\\\\000002.dcm', 'himanshu'), ('data\\\\PGBM-006\\\\12-10-1996-MR RCBV SEQUENCE-10783\\\\19431-T1prereg-31693\\\\000003.dcm', 'himanshu'), ('data\\\\PGBM-006\\\\12-10-1996-MR RCBV SEQUENCE-10783\\\\19431-T1prereg-31693\\\\000004.dcm', 'himanshu'), ('data\\\\PGBM-006\\\\12-10-1996-MR RCBV SEQUENCE-10783\\\\19431-T1prereg-31693\\\\000005.dcm', 'himanshu'), ('data\\\\PGBM-006\\\\12-10-1996-MR RCBV SEQUENCE-10783\\\\19431-T1prereg-31693\\\\000006.dcm', 'himanshu'), ('data\\\\PGBM-006\\\\12-10-1996-MR RCBV SEQUENCE-10783\\\\19431-T1prereg-31693\\\\000007.dcm', 'himanshu'), ('data\\\\PGBM-006\\\\12-10-1996-MR RCBV SEQUENCE-10783\\\\19431-T1prereg-31693\\\\000008.dcm', 'himanshu'), ('data\\\\PGBM-006\\\\12-10-1996-MR RCBV SEQUENCE-10783\\\\19431-T1prereg-31693\\\\000009.dcm', 'himanshu'), ('data\\\\PGBM-006\\\\12-10-1996-MR RCBV SEQUENCE-10783\\\\19431-T1prereg-31693\\\\000010.dcm', 'himanshu'), ('data\\\\PGBM-006\\\\12-10-1996-MR RCBV SEQUENCE-10783\\\\19431-T1prereg-31693\\\\000011.dcm', 'himanshu'), ('data\\\\PGBM-006\\\\12-10-1996-MR RCBV SEQUENCE-10783\\\\19431-T1prereg-31693\\\\000012.dcm', 'himanshu'), ('data\\\\PGBM-006\\\\12-10-1996-MR RCBV SEQUENCE-10783\\\\19431-T1prereg-31693\\\\000013.dcm', 'himanshu'), ('data\\\\PGBM-006\\\\12-10-1996-MR RCBV SEQUENCE-10783\\\\19431-T1prereg-31693\\\\000014.dcm', 'himanshu'), ('data\\\\PGBM-006\\\\12-10-1996-MR RCBV SEQUENCE-10783\\\\19431-T1prereg-31693\\\\000015.dcm', 'himanshu'), ('data\\\\PGBM-006\\\\12-10-1996-MR RCBV SEQUENCE-10783\\\\19431-T1prereg-31693\\\\000016.dcm', 'himanshu'), ('data\\\\PGBM-006\\\\12-10-1996-MR RCBV SEQUENCE-10783\\\\19431-T1prereg-31693\\\\000017.dcm', 'himanshu'), ('data\\\\PGBM-006\\\\12-10-1996-MR RCBV SEQUENCE-10783\\\\19431-T1prereg-31693\\\\000018.dcm', 'himanshu'), ('data\\\\PGBM-006\\\\12-10-1996-MR RCBV SEQUENCE-10783\\\\19431-T1prereg-31693\\\\000019.dcm', 'himanshu'), ('data\\\\PGBM-006\\\\12-10-1996-MR RCBV SEQUENCE-10783\\\\19431-T1prereg-31693\\\\000020.dcm', 'himanshu'), ('data\\\\PGBM-006\\\\12-10-1996-MR RCBV SEQUENCE-10783\\\\19431-T1prereg-31693\\\\000021.dcm', 'himanshu'), ('data\\\\PGBM-006\\\\12-10-1996-MR RCBV SEQUENCE-10783\\\\19431-T1prereg-31693\\\\000022.dcm', 'himanshu'), ('data\\\\PGBM-006\\\\12-10-1996-MR RCBV SEQUENCE-10783\\\\19431-T1prereg-31693\\\\000023.dcm', 'himanshu')]),\n",
       "       list([('data\\\\PGBM-006\\\\12-10-1996-MR RCBV SEQUENCE-10783\\\\37635-FLAIRreg-45187\\\\000000.dcm', 'himanshu'), ('data\\\\PGBM-006\\\\12-10-1996-MR RCBV SEQUENCE-10783\\\\37635-FLAIRreg-45187\\\\000001.dcm', 'himanshu'), ('data\\\\PGBM-006\\\\12-10-1996-MR RCBV SEQUENCE-10783\\\\37635-FLAIRreg-45187\\\\000002.dcm', 'himanshu'), ('data\\\\PGBM-006\\\\12-10-1996-MR RCBV SEQUENCE-10783\\\\37635-FLAIRreg-45187\\\\000003.dcm', 'himanshu'), ('data\\\\PGBM-006\\\\12-10-1996-MR RCBV SEQUENCE-10783\\\\37635-FLAIRreg-45187\\\\000004.dcm', 'himanshu'), ('data\\\\PGBM-006\\\\12-10-1996-MR RCBV SEQUENCE-10783\\\\37635-FLAIRreg-45187\\\\000005.dcm', 'himanshu'), ('data\\\\PGBM-006\\\\12-10-1996-MR RCBV SEQUENCE-10783\\\\37635-FLAIRreg-45187\\\\000006.dcm', 'himanshu'), ('data\\\\PGBM-006\\\\12-10-1996-MR RCBV SEQUENCE-10783\\\\37635-FLAIRreg-45187\\\\000007.dcm', 'himanshu'), ('data\\\\PGBM-006\\\\12-10-1996-MR RCBV SEQUENCE-10783\\\\37635-FLAIRreg-45187\\\\000008.dcm', 'himanshu'), ('data\\\\PGBM-006\\\\12-10-1996-MR RCBV SEQUENCE-10783\\\\37635-FLAIRreg-45187\\\\000009.dcm', 'himanshu'), ('data\\\\PGBM-006\\\\12-10-1996-MR RCBV SEQUENCE-10783\\\\37635-FLAIRreg-45187\\\\000010.dcm', 'himanshu'), ('data\\\\PGBM-006\\\\12-10-1996-MR RCBV SEQUENCE-10783\\\\37635-FLAIRreg-45187\\\\000011.dcm', 'himanshu'), ('data\\\\PGBM-006\\\\12-10-1996-MR RCBV SEQUENCE-10783\\\\37635-FLAIRreg-45187\\\\000012.dcm', 'himanshu'), ('data\\\\PGBM-006\\\\12-10-1996-MR RCBV SEQUENCE-10783\\\\37635-FLAIRreg-45187\\\\000013.dcm', 'himanshu'), ('data\\\\PGBM-006\\\\12-10-1996-MR RCBV SEQUENCE-10783\\\\37635-FLAIRreg-45187\\\\000014.dcm', 'himanshu'), ('data\\\\PGBM-006\\\\12-10-1996-MR RCBV SEQUENCE-10783\\\\37635-FLAIRreg-45187\\\\000015.dcm', 'himanshu'), ('data\\\\PGBM-006\\\\12-10-1996-MR RCBV SEQUENCE-10783\\\\37635-FLAIRreg-45187\\\\000016.dcm', 'himanshu'), ('data\\\\PGBM-006\\\\12-10-1996-MR RCBV SEQUENCE-10783\\\\37635-FLAIRreg-45187\\\\000017.dcm', 'himanshu'), ('data\\\\PGBM-006\\\\12-10-1996-MR RCBV SEQUENCE-10783\\\\37635-FLAIRreg-45187\\\\000018.dcm', 'himanshu'), ('data\\\\PGBM-006\\\\12-10-1996-MR RCBV SEQUENCE-10783\\\\37635-FLAIRreg-45187\\\\000019.dcm', 'himanshu'), ('data\\\\PGBM-006\\\\12-10-1996-MR RCBV SEQUENCE-10783\\\\37635-FLAIRreg-45187\\\\000020.dcm', 'himanshu'), ('data\\\\PGBM-006\\\\12-10-1996-MR RCBV SEQUENCE-10783\\\\37635-FLAIRreg-45187\\\\000021.dcm', 'himanshu'), ('data\\\\PGBM-006\\\\12-10-1996-MR RCBV SEQUENCE-10783\\\\37635-FLAIRreg-45187\\\\000022.dcm', 'himanshu'), ('data\\\\PGBM-006\\\\12-10-1996-MR RCBV SEQUENCE-10783\\\\37635-FLAIRreg-45187\\\\000023.dcm', 'himanshu')]),\n",
       "       list([('data\\\\PGBM-006\\\\12-10-1996-MR RCBV SEQUENCE-10783\\\\37636-ADCreg-12679\\\\000000.dcm', 'himanshu'), ('data\\\\PGBM-006\\\\12-10-1996-MR RCBV SEQUENCE-10783\\\\37636-ADCreg-12679\\\\000001.dcm', 'himanshu'), ('data\\\\PGBM-006\\\\12-10-1996-MR RCBV SEQUENCE-10783\\\\37636-ADCreg-12679\\\\000002.dcm', 'himanshu'), ('data\\\\PGBM-006\\\\12-10-1996-MR RCBV SEQUENCE-10783\\\\37636-ADCreg-12679\\\\000003.dcm', 'himanshu'), ('data\\\\PGBM-006\\\\12-10-1996-MR RCBV SEQUENCE-10783\\\\37636-ADCreg-12679\\\\000004.dcm', 'himanshu'), ('data\\\\PGBM-006\\\\12-10-1996-MR RCBV SEQUENCE-10783\\\\37636-ADCreg-12679\\\\000005.dcm', 'himanshu'), ('data\\\\PGBM-006\\\\12-10-1996-MR RCBV SEQUENCE-10783\\\\37636-ADCreg-12679\\\\000006.dcm', 'himanshu'), ('data\\\\PGBM-006\\\\12-10-1996-MR RCBV SEQUENCE-10783\\\\37636-ADCreg-12679\\\\000007.dcm', 'himanshu'), ('data\\\\PGBM-006\\\\12-10-1996-MR RCBV SEQUENCE-10783\\\\37636-ADCreg-12679\\\\000008.dcm', 'himanshu'), ('data\\\\PGBM-006\\\\12-10-1996-MR RCBV SEQUENCE-10783\\\\37636-ADCreg-12679\\\\000009.dcm', 'himanshu'), ('data\\\\PGBM-006\\\\12-10-1996-MR RCBV SEQUENCE-10783\\\\37636-ADCreg-12679\\\\000010.dcm', 'himanshu'), ('data\\\\PGBM-006\\\\12-10-1996-MR RCBV SEQUENCE-10783\\\\37636-ADCreg-12679\\\\000011.dcm', 'himanshu'), ('data\\\\PGBM-006\\\\12-10-1996-MR RCBV SEQUENCE-10783\\\\37636-ADCreg-12679\\\\000012.dcm', 'himanshu'), ('data\\\\PGBM-006\\\\12-10-1996-MR RCBV SEQUENCE-10783\\\\37636-ADCreg-12679\\\\000013.dcm', 'himanshu'), ('data\\\\PGBM-006\\\\12-10-1996-MR RCBV SEQUENCE-10783\\\\37636-ADCreg-12679\\\\000014.dcm', 'himanshu'), ('data\\\\PGBM-006\\\\12-10-1996-MR RCBV SEQUENCE-10783\\\\37636-ADCreg-12679\\\\000015.dcm', 'himanshu'), ('data\\\\PGBM-006\\\\12-10-1996-MR RCBV SEQUENCE-10783\\\\37636-ADCreg-12679\\\\000016.dcm', 'himanshu'), ('data\\\\PGBM-006\\\\12-10-1996-MR RCBV SEQUENCE-10783\\\\37636-ADCreg-12679\\\\000017.dcm', 'himanshu'), ('data\\\\PGBM-006\\\\12-10-1996-MR RCBV SEQUENCE-10783\\\\37636-ADCreg-12679\\\\000018.dcm', 'himanshu'), ('data\\\\PGBM-006\\\\12-10-1996-MR RCBV SEQUENCE-10783\\\\37636-ADCreg-12679\\\\000019.dcm', 'himanshu'), ('data\\\\PGBM-006\\\\12-10-1996-MR RCBV SEQUENCE-10783\\\\37636-ADCreg-12679\\\\000020.dcm', 'himanshu'), ('data\\\\PGBM-006\\\\12-10-1996-MR RCBV SEQUENCE-10783\\\\37636-ADCreg-12679\\\\000021.dcm', 'himanshu'), ('data\\\\PGBM-006\\\\12-10-1996-MR RCBV SEQUENCE-10783\\\\37636-ADCreg-12679\\\\000022.dcm', 'himanshu'), ('data\\\\PGBM-006\\\\12-10-1996-MR RCBV SEQUENCE-10783\\\\37636-ADCreg-12679\\\\000023.dcm', 'himanshu')]),\n",
       "       list([('data\\\\PGBM-006\\\\12-10-1996-MR RCBV SEQUENCE-10783\\\\37639-sRCBVreg-06894\\\\000000.dcm', 'himanshu'), ('data\\\\PGBM-006\\\\12-10-1996-MR RCBV SEQUENCE-10783\\\\37639-sRCBVreg-06894\\\\000001.dcm', 'himanshu'), ('data\\\\PGBM-006\\\\12-10-1996-MR RCBV SEQUENCE-10783\\\\37639-sRCBVreg-06894\\\\000002.dcm', 'himanshu'), ('data\\\\PGBM-006\\\\12-10-1996-MR RCBV SEQUENCE-10783\\\\37639-sRCBVreg-06894\\\\000003.dcm', 'himanshu'), ('data\\\\PGBM-006\\\\12-10-1996-MR RCBV SEQUENCE-10783\\\\37639-sRCBVreg-06894\\\\000004.dcm', 'himanshu'), ('data\\\\PGBM-006\\\\12-10-1996-MR RCBV SEQUENCE-10783\\\\37639-sRCBVreg-06894\\\\000005.dcm', 'himanshu'), ('data\\\\PGBM-006\\\\12-10-1996-MR RCBV SEQUENCE-10783\\\\37639-sRCBVreg-06894\\\\000006.dcm', 'himanshu'), ('data\\\\PGBM-006\\\\12-10-1996-MR RCBV SEQUENCE-10783\\\\37639-sRCBVreg-06894\\\\000007.dcm', 'himanshu'), ('data\\\\PGBM-006\\\\12-10-1996-MR RCBV SEQUENCE-10783\\\\37639-sRCBVreg-06894\\\\000008.dcm', 'himanshu'), ('data\\\\PGBM-006\\\\12-10-1996-MR RCBV SEQUENCE-10783\\\\37639-sRCBVreg-06894\\\\000009.dcm', 'himanshu'), ('data\\\\PGBM-006\\\\12-10-1996-MR RCBV SEQUENCE-10783\\\\37639-sRCBVreg-06894\\\\000010.dcm', 'himanshu'), ('data\\\\PGBM-006\\\\12-10-1996-MR RCBV SEQUENCE-10783\\\\37639-sRCBVreg-06894\\\\000011.dcm', 'himanshu'), ('data\\\\PGBM-006\\\\12-10-1996-MR RCBV SEQUENCE-10783\\\\37639-sRCBVreg-06894\\\\000012.dcm', 'himanshu'), ('data\\\\PGBM-006\\\\12-10-1996-MR RCBV SEQUENCE-10783\\\\37639-sRCBVreg-06894\\\\000013.dcm', 'himanshu'), ('data\\\\PGBM-006\\\\12-10-1996-MR RCBV SEQUENCE-10783\\\\37639-sRCBVreg-06894\\\\000014.dcm', 'himanshu'), ('data\\\\PGBM-006\\\\12-10-1996-MR RCBV SEQUENCE-10783\\\\37639-sRCBVreg-06894\\\\000015.dcm', 'himanshu'), ('data\\\\PGBM-006\\\\12-10-1996-MR RCBV SEQUENCE-10783\\\\37639-sRCBVreg-06894\\\\000016.dcm', 'himanshu'), ('data\\\\PGBM-006\\\\12-10-1996-MR RCBV SEQUENCE-10783\\\\37639-sRCBVreg-06894\\\\000017.dcm', 'himanshu'), ('data\\\\PGBM-006\\\\12-10-1996-MR RCBV SEQUENCE-10783\\\\37639-sRCBVreg-06894\\\\000018.dcm', 'himanshu'), ('data\\\\PGBM-006\\\\12-10-1996-MR RCBV SEQUENCE-10783\\\\37639-sRCBVreg-06894\\\\000019.dcm', 'himanshu'), ('data\\\\PGBM-006\\\\12-10-1996-MR RCBV SEQUENCE-10783\\\\37639-sRCBVreg-06894\\\\000020.dcm', 'himanshu'), ('data\\\\PGBM-006\\\\12-10-1996-MR RCBV SEQUENCE-10783\\\\37639-sRCBVreg-06894\\\\000021.dcm', 'himanshu'), ('data\\\\PGBM-006\\\\12-10-1996-MR RCBV SEQUENCE-10783\\\\37639-sRCBVreg-06894\\\\000022.dcm', 'himanshu'), ('data\\\\PGBM-006\\\\12-10-1996-MR RCBV SEQUENCE-10783\\\\37639-sRCBVreg-06894\\\\000023.dcm', 'himanshu')]),\n",
       "       list([('data\\\\PGBM-006\\\\12-10-1996-MR RCBV SEQUENCE-10783\\\\37640-nRCBVreg-05748\\\\000000.dcm', 'himanshu'), ('data\\\\PGBM-006\\\\12-10-1996-MR RCBV SEQUENCE-10783\\\\37640-nRCBVreg-05748\\\\000001.dcm', 'himanshu'), ('data\\\\PGBM-006\\\\12-10-1996-MR RCBV SEQUENCE-10783\\\\37640-nRCBVreg-05748\\\\000002.dcm', 'himanshu'), ('data\\\\PGBM-006\\\\12-10-1996-MR RCBV SEQUENCE-10783\\\\37640-nRCBVreg-05748\\\\000003.dcm', 'himanshu'), ('data\\\\PGBM-006\\\\12-10-1996-MR RCBV SEQUENCE-10783\\\\37640-nRCBVreg-05748\\\\000004.dcm', 'himanshu'), ('data\\\\PGBM-006\\\\12-10-1996-MR RCBV SEQUENCE-10783\\\\37640-nRCBVreg-05748\\\\000005.dcm', 'himanshu'), ('data\\\\PGBM-006\\\\12-10-1996-MR RCBV SEQUENCE-10783\\\\37640-nRCBVreg-05748\\\\000006.dcm', 'himanshu'), ('data\\\\PGBM-006\\\\12-10-1996-MR RCBV SEQUENCE-10783\\\\37640-nRCBVreg-05748\\\\000007.dcm', 'himanshu'), ('data\\\\PGBM-006\\\\12-10-1996-MR RCBV SEQUENCE-10783\\\\37640-nRCBVreg-05748\\\\000008.dcm', 'himanshu'), ('data\\\\PGBM-006\\\\12-10-1996-MR RCBV SEQUENCE-10783\\\\37640-nRCBVreg-05748\\\\000009.dcm', 'himanshu'), ('data\\\\PGBM-006\\\\12-10-1996-MR RCBV SEQUENCE-10783\\\\37640-nRCBVreg-05748\\\\000010.dcm', 'himanshu'), ('data\\\\PGBM-006\\\\12-10-1996-MR RCBV SEQUENCE-10783\\\\37640-nRCBVreg-05748\\\\000011.dcm', 'himanshu'), ('data\\\\PGBM-006\\\\12-10-1996-MR RCBV SEQUENCE-10783\\\\37640-nRCBVreg-05748\\\\000012.dcm', 'himanshu'), ('data\\\\PGBM-006\\\\12-10-1996-MR RCBV SEQUENCE-10783\\\\37640-nRCBVreg-05748\\\\000013.dcm', 'himanshu'), ('data\\\\PGBM-006\\\\12-10-1996-MR RCBV SEQUENCE-10783\\\\37640-nRCBVreg-05748\\\\000014.dcm', 'himanshu'), ('data\\\\PGBM-006\\\\12-10-1996-MR RCBV SEQUENCE-10783\\\\37640-nRCBVreg-05748\\\\000015.dcm', 'himanshu'), ('data\\\\PGBM-006\\\\12-10-1996-MR RCBV SEQUENCE-10783\\\\37640-nRCBVreg-05748\\\\000016.dcm', 'himanshu'), ('data\\\\PGBM-006\\\\12-10-1996-MR RCBV SEQUENCE-10783\\\\37640-nRCBVreg-05748\\\\000017.dcm', 'himanshu'), ('data\\\\PGBM-006\\\\12-10-1996-MR RCBV SEQUENCE-10783\\\\37640-nRCBVreg-05748\\\\000018.dcm', 'himanshu'), ('data\\\\PGBM-006\\\\12-10-1996-MR RCBV SEQUENCE-10783\\\\37640-nRCBVreg-05748\\\\000019.dcm', 'himanshu'), ('data\\\\PGBM-006\\\\12-10-1996-MR RCBV SEQUENCE-10783\\\\37640-nRCBVreg-05748\\\\000020.dcm', 'himanshu'), ('data\\\\PGBM-006\\\\12-10-1996-MR RCBV SEQUENCE-10783\\\\37640-nRCBVreg-05748\\\\000021.dcm', 'himanshu'), ('data\\\\PGBM-006\\\\12-10-1996-MR RCBV SEQUENCE-10783\\\\37640-nRCBVreg-05748\\\\000022.dcm', 'himanshu'), ('data\\\\PGBM-006\\\\12-10-1996-MR RCBV SEQUENCE-10783\\\\37640-nRCBVreg-05748\\\\000023.dcm', 'himanshu')]),\n",
       "       list([('data\\\\PGBM-006\\\\12-10-1996-MR RCBV SEQUENCE-10783\\\\37641-nCBFreg-94253\\\\000000.dcm', 'himanshu'), ('data\\\\PGBM-006\\\\12-10-1996-MR RCBV SEQUENCE-10783\\\\37641-nCBFreg-94253\\\\000001.dcm', 'himanshu'), ('data\\\\PGBM-006\\\\12-10-1996-MR RCBV SEQUENCE-10783\\\\37641-nCBFreg-94253\\\\000002.dcm', 'himanshu'), ('data\\\\PGBM-006\\\\12-10-1996-MR RCBV SEQUENCE-10783\\\\37641-nCBFreg-94253\\\\000003.dcm', 'himanshu'), ('data\\\\PGBM-006\\\\12-10-1996-MR RCBV SEQUENCE-10783\\\\37641-nCBFreg-94253\\\\000004.dcm', 'himanshu'), ('data\\\\PGBM-006\\\\12-10-1996-MR RCBV SEQUENCE-10783\\\\37641-nCBFreg-94253\\\\000005.dcm', 'himanshu'), ('data\\\\PGBM-006\\\\12-10-1996-MR RCBV SEQUENCE-10783\\\\37641-nCBFreg-94253\\\\000006.dcm', 'himanshu'), ('data\\\\PGBM-006\\\\12-10-1996-MR RCBV SEQUENCE-10783\\\\37641-nCBFreg-94253\\\\000007.dcm', 'himanshu'), ('data\\\\PGBM-006\\\\12-10-1996-MR RCBV SEQUENCE-10783\\\\37641-nCBFreg-94253\\\\000008.dcm', 'himanshu'), ('data\\\\PGBM-006\\\\12-10-1996-MR RCBV SEQUENCE-10783\\\\37641-nCBFreg-94253\\\\000009.dcm', 'himanshu'), ('data\\\\PGBM-006\\\\12-10-1996-MR RCBV SEQUENCE-10783\\\\37641-nCBFreg-94253\\\\000010.dcm', 'himanshu'), ('data\\\\PGBM-006\\\\12-10-1996-MR RCBV SEQUENCE-10783\\\\37641-nCBFreg-94253\\\\000011.dcm', 'himanshu'), ('data\\\\PGBM-006\\\\12-10-1996-MR RCBV SEQUENCE-10783\\\\37641-nCBFreg-94253\\\\000012.dcm', 'himanshu'), ('data\\\\PGBM-006\\\\12-10-1996-MR RCBV SEQUENCE-10783\\\\37641-nCBFreg-94253\\\\000013.dcm', 'himanshu'), ('data\\\\PGBM-006\\\\12-10-1996-MR RCBV SEQUENCE-10783\\\\37641-nCBFreg-94253\\\\000014.dcm', 'himanshu'), ('data\\\\PGBM-006\\\\12-10-1996-MR RCBV SEQUENCE-10783\\\\37641-nCBFreg-94253\\\\000015.dcm', 'himanshu'), ('data\\\\PGBM-006\\\\12-10-1996-MR RCBV SEQUENCE-10783\\\\37641-nCBFreg-94253\\\\000016.dcm', 'himanshu'), ('data\\\\PGBM-006\\\\12-10-1996-MR RCBV SEQUENCE-10783\\\\37641-nCBFreg-94253\\\\000017.dcm', 'himanshu'), ('data\\\\PGBM-006\\\\12-10-1996-MR RCBV SEQUENCE-10783\\\\37641-nCBFreg-94253\\\\000018.dcm', 'himanshu'), ('data\\\\PGBM-006\\\\12-10-1996-MR RCBV SEQUENCE-10783\\\\37641-nCBFreg-94253\\\\000019.dcm', 'himanshu'), ('data\\\\PGBM-006\\\\12-10-1996-MR RCBV SEQUENCE-10783\\\\37641-nCBFreg-94253\\\\000020.dcm', 'himanshu'), ('data\\\\PGBM-006\\\\12-10-1996-MR RCBV SEQUENCE-10783\\\\37641-nCBFreg-94253\\\\000021.dcm', 'himanshu'), ('data\\\\PGBM-006\\\\12-10-1996-MR RCBV SEQUENCE-10783\\\\37641-nCBFreg-94253\\\\000022.dcm', 'himanshu'), ('data\\\\PGBM-006\\\\12-10-1996-MR RCBV SEQUENCE-10783\\\\37641-nCBFreg-94253\\\\000023.dcm', 'himanshu')]),\n",
       "       list([('data\\\\PGBM-006\\\\12-10-1996-MR RCBV SEQUENCE-10783\\\\37982-T2reg-54614\\\\000000.dcm', 'himanshu'), ('data\\\\PGBM-006\\\\12-10-1996-MR RCBV SEQUENCE-10783\\\\37982-T2reg-54614\\\\000001.dcm', 'himanshu'), ('data\\\\PGBM-006\\\\12-10-1996-MR RCBV SEQUENCE-10783\\\\37982-T2reg-54614\\\\000002.dcm', 'himanshu'), ('data\\\\PGBM-006\\\\12-10-1996-MR RCBV SEQUENCE-10783\\\\37982-T2reg-54614\\\\000003.dcm', 'himanshu'), ('data\\\\PGBM-006\\\\12-10-1996-MR RCBV SEQUENCE-10783\\\\37982-T2reg-54614\\\\000004.dcm', 'himanshu'), ('data\\\\PGBM-006\\\\12-10-1996-MR RCBV SEQUENCE-10783\\\\37982-T2reg-54614\\\\000005.dcm', 'himanshu'), ('data\\\\PGBM-006\\\\12-10-1996-MR RCBV SEQUENCE-10783\\\\37982-T2reg-54614\\\\000006.dcm', 'himanshu'), ('data\\\\PGBM-006\\\\12-10-1996-MR RCBV SEQUENCE-10783\\\\37982-T2reg-54614\\\\000007.dcm', 'himanshu'), ('data\\\\PGBM-006\\\\12-10-1996-MR RCBV SEQUENCE-10783\\\\37982-T2reg-54614\\\\000008.dcm', 'himanshu'), ('data\\\\PGBM-006\\\\12-10-1996-MR RCBV SEQUENCE-10783\\\\37982-T2reg-54614\\\\000009.dcm', 'himanshu'), ('data\\\\PGBM-006\\\\12-10-1996-MR RCBV SEQUENCE-10783\\\\37982-T2reg-54614\\\\000010.dcm', 'himanshu'), ('data\\\\PGBM-006\\\\12-10-1996-MR RCBV SEQUENCE-10783\\\\37982-T2reg-54614\\\\000011.dcm', 'himanshu'), ('data\\\\PGBM-006\\\\12-10-1996-MR RCBV SEQUENCE-10783\\\\37982-T2reg-54614\\\\000012.dcm', 'himanshu'), ('data\\\\PGBM-006\\\\12-10-1996-MR RCBV SEQUENCE-10783\\\\37982-T2reg-54614\\\\000013.dcm', 'himanshu'), ('data\\\\PGBM-006\\\\12-10-1996-MR RCBV SEQUENCE-10783\\\\37982-T2reg-54614\\\\000014.dcm', 'himanshu'), ('data\\\\PGBM-006\\\\12-10-1996-MR RCBV SEQUENCE-10783\\\\37982-T2reg-54614\\\\000015.dcm', 'himanshu'), ('data\\\\PGBM-006\\\\12-10-1996-MR RCBV SEQUENCE-10783\\\\37982-T2reg-54614\\\\000016.dcm', 'himanshu'), ('data\\\\PGBM-006\\\\12-10-1996-MR RCBV SEQUENCE-10783\\\\37982-T2reg-54614\\\\000017.dcm', 'himanshu'), ('data\\\\PGBM-006\\\\12-10-1996-MR RCBV SEQUENCE-10783\\\\37982-T2reg-54614\\\\000018.dcm', 'himanshu'), ('data\\\\PGBM-006\\\\12-10-1996-MR RCBV SEQUENCE-10783\\\\37982-T2reg-54614\\\\000019.dcm', 'himanshu'), ('data\\\\PGBM-006\\\\12-10-1996-MR RCBV SEQUENCE-10783\\\\37982-T2reg-54614\\\\000020.dcm', 'himanshu'), ('data\\\\PGBM-006\\\\12-10-1996-MR RCBV SEQUENCE-10783\\\\37982-T2reg-54614\\\\000021.dcm', 'himanshu'), ('data\\\\PGBM-006\\\\12-10-1996-MR RCBV SEQUENCE-10783\\\\37982-T2reg-54614\\\\000022.dcm', 'himanshu'), ('data\\\\PGBM-006\\\\12-10-1996-MR RCBV SEQUENCE-10783\\\\37982-T2reg-54614\\\\000023.dcm', 'himanshu')]),\n",
       "       list([('data\\\\PGBM-006\\\\12-10-1996-MR RCBV SEQUENCE-10783\\\\5355-MaskTumor-16494\\\\000000.dcm', 'himanshu'), ('data\\\\PGBM-006\\\\12-10-1996-MR RCBV SEQUENCE-10783\\\\5355-MaskTumor-16494\\\\000001.dcm', 'himanshu'), ('data\\\\PGBM-006\\\\12-10-1996-MR RCBV SEQUENCE-10783\\\\5355-MaskTumor-16494\\\\000002.dcm', 'himanshu'), ('data\\\\PGBM-006\\\\12-10-1996-MR RCBV SEQUENCE-10783\\\\5355-MaskTumor-16494\\\\000003.dcm', 'himanshu'), ('data\\\\PGBM-006\\\\12-10-1996-MR RCBV SEQUENCE-10783\\\\5355-MaskTumor-16494\\\\000004.dcm', 'himanshu'), ('data\\\\PGBM-006\\\\12-10-1996-MR RCBV SEQUENCE-10783\\\\5355-MaskTumor-16494\\\\000005.dcm', 'himanshu'), ('data\\\\PGBM-006\\\\12-10-1996-MR RCBV SEQUENCE-10783\\\\5355-MaskTumor-16494\\\\000006.dcm', 'himanshu'), ('data\\\\PGBM-006\\\\12-10-1996-MR RCBV SEQUENCE-10783\\\\5355-MaskTumor-16494\\\\000007.dcm', 'himanshu'), ('data\\\\PGBM-006\\\\12-10-1996-MR RCBV SEQUENCE-10783\\\\5355-MaskTumor-16494\\\\000008.dcm', 'himanshu'), ('data\\\\PGBM-006\\\\12-10-1996-MR RCBV SEQUENCE-10783\\\\5355-MaskTumor-16494\\\\000009.dcm', 'himanshu'), ('data\\\\PGBM-006\\\\12-10-1996-MR RCBV SEQUENCE-10783\\\\5355-MaskTumor-16494\\\\000010.dcm', 'himanshu'), ('data\\\\PGBM-006\\\\12-10-1996-MR RCBV SEQUENCE-10783\\\\5355-MaskTumor-16494\\\\000011.dcm', 'himanshu'), ('data\\\\PGBM-006\\\\12-10-1996-MR RCBV SEQUENCE-10783\\\\5355-MaskTumor-16494\\\\000012.dcm', 'himanshu'), ('data\\\\PGBM-006\\\\12-10-1996-MR RCBV SEQUENCE-10783\\\\5355-MaskTumor-16494\\\\000013.dcm', 'himanshu'), ('data\\\\PGBM-006\\\\12-10-1996-MR RCBV SEQUENCE-10783\\\\5355-MaskTumor-16494\\\\000014.dcm', 'himanshu'), ('data\\\\PGBM-006\\\\12-10-1996-MR RCBV SEQUENCE-10783\\\\5355-MaskTumor-16494\\\\000015.dcm', 'himanshu'), ('data\\\\PGBM-006\\\\12-10-1996-MR RCBV SEQUENCE-10783\\\\5355-MaskTumor-16494\\\\000016.dcm', 'himanshu'), ('data\\\\PGBM-006\\\\12-10-1996-MR RCBV SEQUENCE-10783\\\\5355-MaskTumor-16494\\\\000017.dcm', 'himanshu'), ('data\\\\PGBM-006\\\\12-10-1996-MR RCBV SEQUENCE-10783\\\\5355-MaskTumor-16494\\\\000018.dcm', 'himanshu'), ('data\\\\PGBM-006\\\\12-10-1996-MR RCBV SEQUENCE-10783\\\\5355-MaskTumor-16494\\\\000019.dcm', 'himanshu'), ('data\\\\PGBM-006\\\\12-10-1996-MR RCBV SEQUENCE-10783\\\\5355-MaskTumor-16494\\\\000020.dcm', 'himanshu'), ('data\\\\PGBM-006\\\\12-10-1996-MR RCBV SEQUENCE-10783\\\\5355-MaskTumor-16494\\\\000021.dcm', 'himanshu'), ('data\\\\PGBM-006\\\\12-10-1996-MR RCBV SEQUENCE-10783\\\\5355-MaskTumor-16494\\\\000022.dcm', 'himanshu'), ('data\\\\PGBM-006\\\\12-10-1996-MR RCBV SEQUENCE-10783\\\\5355-MaskTumor-16494\\\\000023.dcm', 'himanshu')]),\n",
       "       list([('data\\\\PGBM-008\\\\03-31-1992-MR RCBV SEQUENCE FH-67056\\\\000000.dcm', 'himanshu'), ('data\\\\PGBM-008\\\\03-31-1992-MR RCBV SEQUENCE FH-67056\\\\000001.dcm', 'himanshu'), ('data\\\\PGBM-008\\\\03-31-1992-MR RCBV SEQUENCE FH-67056\\\\000002.dcm', 'himanshu'), ('data\\\\PGBM-008\\\\03-31-1992-MR RCBV SEQUENCE FH-67056\\\\000003.dcm', 'himanshu'), ('data\\\\PGBM-008\\\\03-31-1992-MR RCBV SEQUENCE FH-67056\\\\000004.dcm', 'himanshu'), ('data\\\\PGBM-008\\\\03-31-1992-MR RCBV SEQUENCE FH-67056\\\\000005.dcm', 'himanshu'), ('data\\\\PGBM-008\\\\03-31-1992-MR RCBV SEQUENCE FH-67056\\\\000006.dcm', 'himanshu'), ('data\\\\PGBM-008\\\\03-31-1992-MR RCBV SEQUENCE FH-67056\\\\000007.dcm', 'himanshu'), ('data\\\\PGBM-008\\\\03-31-1992-MR RCBV SEQUENCE FH-67056\\\\000008.dcm', 'himanshu'), ('data\\\\PGBM-008\\\\03-31-1992-MR RCBV SEQUENCE FH-67056\\\\000009.dcm', 'himanshu'), ('data\\\\PGBM-008\\\\03-31-1992-MR RCBV SEQUENCE FH-67056\\\\000010.dcm', 'himanshu'), ('data\\\\PGBM-008\\\\03-31-1992-MR RCBV SEQUENCE FH-67056\\\\000011.dcm', 'himanshu'), ('data\\\\PGBM-008\\\\03-31-1992-MR RCBV SEQUENCE FH-67056\\\\000012.dcm', 'himanshu'), ('data\\\\PGBM-008\\\\03-31-1992-MR RCBV SEQUENCE FH-67056\\\\000013.dcm', 'himanshu'), ('data\\\\PGBM-008\\\\03-31-1992-MR RCBV SEQUENCE FH-67056\\\\000014.dcm', 'himanshu'), ('data\\\\PGBM-008\\\\03-31-1992-MR RCBV SEQUENCE FH-67056\\\\000015.dcm', 'himanshu'), ('data\\\\PGBM-008\\\\03-31-1992-MR RCBV SEQUENCE FH-67056\\\\000016.dcm', 'himanshu'), ('data\\\\PGBM-008\\\\03-31-1992-MR RCBV SEQUENCE FH-67056\\\\000017.dcm', 'himanshu'), ('data\\\\PGBM-008\\\\03-31-1992-MR RCBV SEQUENCE FH-67056\\\\000018.dcm', 'himanshu'), ('data\\\\PGBM-008\\\\03-31-1992-MR RCBV SEQUENCE FH-67056\\\\000019.dcm', 'himanshu'), ('data\\\\PGBM-008\\\\03-31-1992-MR RCBV SEQUENCE FH-67056\\\\000020.dcm', 'himanshu'), ('data\\\\PGBM-008\\\\03-31-1992-MR RCBV SEQUENCE FH-67056\\\\000021.dcm', 'himanshu'), ('data\\\\PGBM-008\\\\03-31-1992-MR RCBV SEQUENCE FH-67056\\\\000022.dcm', 'himanshu'), ('data\\\\PGBM-008\\\\03-31-1992-MR RCBV SEQUENCE FH-67056\\\\000023.dcm', 'himanshu')]),\n",
       "       list([('data\\\\PGBM-008\\\\03-31-1992-MR RCBV SEQUENCE FH-67056\\\\35804-dT1-70430\\\\000000.dcm', 'himanshu'), ('data\\\\PGBM-008\\\\03-31-1992-MR RCBV SEQUENCE FH-67056\\\\35804-dT1-70430\\\\000001.dcm', 'himanshu'), ('data\\\\PGBM-008\\\\03-31-1992-MR RCBV SEQUENCE FH-67056\\\\35804-dT1-70430\\\\000002.dcm', 'himanshu'), ('data\\\\PGBM-008\\\\03-31-1992-MR RCBV SEQUENCE FH-67056\\\\35804-dT1-70430\\\\000003.dcm', 'himanshu'), ('data\\\\PGBM-008\\\\03-31-1992-MR RCBV SEQUENCE FH-67056\\\\35804-dT1-70430\\\\000004.dcm', 'himanshu'), ('data\\\\PGBM-008\\\\03-31-1992-MR RCBV SEQUENCE FH-67056\\\\35804-dT1-70430\\\\000005.dcm', 'himanshu'), ('data\\\\PGBM-008\\\\03-31-1992-MR RCBV SEQUENCE FH-67056\\\\35804-dT1-70430\\\\000006.dcm', 'himanshu'), ('data\\\\PGBM-008\\\\03-31-1992-MR RCBV SEQUENCE FH-67056\\\\35804-dT1-70430\\\\000007.dcm', 'himanshu'), ('data\\\\PGBM-008\\\\03-31-1992-MR RCBV SEQUENCE FH-67056\\\\35804-dT1-70430\\\\000008.dcm', 'himanshu'), ('data\\\\PGBM-008\\\\03-31-1992-MR RCBV SEQUENCE FH-67056\\\\35804-dT1-70430\\\\000009.dcm', 'himanshu'), ('data\\\\PGBM-008\\\\03-31-1992-MR RCBV SEQUENCE FH-67056\\\\35804-dT1-70430\\\\000010.dcm', 'himanshu'), ('data\\\\PGBM-008\\\\03-31-1992-MR RCBV SEQUENCE FH-67056\\\\35804-dT1-70430\\\\000011.dcm', 'himanshu'), ('data\\\\PGBM-008\\\\03-31-1992-MR RCBV SEQUENCE FH-67056\\\\35804-dT1-70430\\\\000012.dcm', 'himanshu'), ('data\\\\PGBM-008\\\\03-31-1992-MR RCBV SEQUENCE FH-67056\\\\35804-dT1-70430\\\\000013.dcm', 'himanshu'), ('data\\\\PGBM-008\\\\03-31-1992-MR RCBV SEQUENCE FH-67056\\\\35804-dT1-70430\\\\000014.dcm', 'himanshu'), ('data\\\\PGBM-008\\\\03-31-1992-MR RCBV SEQUENCE FH-67056\\\\35804-dT1-70430\\\\000015.dcm', 'himanshu'), ('data\\\\PGBM-008\\\\03-31-1992-MR RCBV SEQUENCE FH-67056\\\\35804-dT1-70430\\\\000016.dcm', 'himanshu'), ('data\\\\PGBM-008\\\\03-31-1992-MR RCBV SEQUENCE FH-67056\\\\35804-dT1-70430\\\\000017.dcm', 'himanshu'), ('data\\\\PGBM-008\\\\03-31-1992-MR RCBV SEQUENCE FH-67056\\\\35804-dT1-70430\\\\000018.dcm', 'himanshu'), ('data\\\\PGBM-008\\\\03-31-1992-MR RCBV SEQUENCE FH-67056\\\\35804-dT1-70430\\\\000019.dcm', 'himanshu'), ('data\\\\PGBM-008\\\\03-31-1992-MR RCBV SEQUENCE FH-67056\\\\35804-dT1-70430\\\\000020.dcm', 'himanshu'), ('data\\\\PGBM-008\\\\03-31-1992-MR RCBV SEQUENCE FH-67056\\\\35804-dT1-70430\\\\000021.dcm', 'himanshu'), ('data\\\\PGBM-008\\\\03-31-1992-MR RCBV SEQUENCE FH-67056\\\\35804-dT1-70430\\\\000022.dcm', 'himanshu'), ('data\\\\PGBM-008\\\\03-31-1992-MR RCBV SEQUENCE FH-67056\\\\35804-dT1-70430\\\\000023.dcm', 'himanshu')]),\n",
       "       list([('data\\\\PGBM-008\\\\03-31-1992-MR RCBV SEQUENCE FH-67056\\\\36529-FLAIRreg-88719\\\\000000.dcm', 'himanshu'), ('data\\\\PGBM-008\\\\03-31-1992-MR RCBV SEQUENCE FH-67056\\\\36529-FLAIRreg-88719\\\\000001.dcm', 'himanshu'), ('data\\\\PGBM-008\\\\03-31-1992-MR RCBV SEQUENCE FH-67056\\\\36529-FLAIRreg-88719\\\\000002.dcm', 'himanshu'), ('data\\\\PGBM-008\\\\03-31-1992-MR RCBV SEQUENCE FH-67056\\\\36529-FLAIRreg-88719\\\\000003.dcm', 'himanshu'), ('data\\\\PGBM-008\\\\03-31-1992-MR RCBV SEQUENCE FH-67056\\\\36529-FLAIRreg-88719\\\\000004.dcm', 'himanshu'), ('data\\\\PGBM-008\\\\03-31-1992-MR RCBV SEQUENCE FH-67056\\\\36529-FLAIRreg-88719\\\\000005.dcm', 'himanshu'), ('data\\\\PGBM-008\\\\03-31-1992-MR RCBV SEQUENCE FH-67056\\\\36529-FLAIRreg-88719\\\\000006.dcm', 'himanshu'), ('data\\\\PGBM-008\\\\03-31-1992-MR RCBV SEQUENCE FH-67056\\\\36529-FLAIRreg-88719\\\\000007.dcm', 'himanshu'), ('data\\\\PGBM-008\\\\03-31-1992-MR RCBV SEQUENCE FH-67056\\\\36529-FLAIRreg-88719\\\\000008.dcm', 'himanshu'), ('data\\\\PGBM-008\\\\03-31-1992-MR RCBV SEQUENCE FH-67056\\\\36529-FLAIRreg-88719\\\\000009.dcm', 'himanshu'), ('data\\\\PGBM-008\\\\03-31-1992-MR RCBV SEQUENCE FH-67056\\\\36529-FLAIRreg-88719\\\\000010.dcm', 'himanshu'), ('data\\\\PGBM-008\\\\03-31-1992-MR RCBV SEQUENCE FH-67056\\\\36529-FLAIRreg-88719\\\\000011.dcm', 'himanshu'), ('data\\\\PGBM-008\\\\03-31-1992-MR RCBV SEQUENCE FH-67056\\\\36529-FLAIRreg-88719\\\\000012.dcm', 'himanshu'), ('data\\\\PGBM-008\\\\03-31-1992-MR RCBV SEQUENCE FH-67056\\\\36529-FLAIRreg-88719\\\\000013.dcm', 'himanshu'), ('data\\\\PGBM-008\\\\03-31-1992-MR RCBV SEQUENCE FH-67056\\\\36529-FLAIRreg-88719\\\\000014.dcm', 'himanshu'), ('data\\\\PGBM-008\\\\03-31-1992-MR RCBV SEQUENCE FH-67056\\\\36529-FLAIRreg-88719\\\\000015.dcm', 'himanshu'), ('data\\\\PGBM-008\\\\03-31-1992-MR RCBV SEQUENCE FH-67056\\\\36529-FLAIRreg-88719\\\\000016.dcm', 'himanshu'), ('data\\\\PGBM-008\\\\03-31-1992-MR RCBV SEQUENCE FH-67056\\\\36529-FLAIRreg-88719\\\\000017.dcm', 'himanshu'), ('data\\\\PGBM-008\\\\03-31-1992-MR RCBV SEQUENCE FH-67056\\\\36529-FLAIRreg-88719\\\\000018.dcm', 'himanshu'), ('data\\\\PGBM-008\\\\03-31-1992-MR RCBV SEQUENCE FH-67056\\\\36529-FLAIRreg-88719\\\\000019.dcm', 'himanshu'), ('data\\\\PGBM-008\\\\03-31-1992-MR RCBV SEQUENCE FH-67056\\\\36529-FLAIRreg-88719\\\\000020.dcm', 'himanshu'), ('data\\\\PGBM-008\\\\03-31-1992-MR RCBV SEQUENCE FH-67056\\\\36529-FLAIRreg-88719\\\\000021.dcm', 'himanshu'), ('data\\\\PGBM-008\\\\03-31-1992-MR RCBV SEQUENCE FH-67056\\\\36529-FLAIRreg-88719\\\\000022.dcm', 'himanshu'), ('data\\\\PGBM-008\\\\03-31-1992-MR RCBV SEQUENCE FH-67056\\\\36529-FLAIRreg-88719\\\\000023.dcm', 'himanshu')]),\n",
       "       list([('data\\\\PGBM-008\\\\03-31-1992-MR RCBV SEQUENCE FH-67056\\\\36530-ADCreg-00166\\\\000000.dcm', 'himanshu'), ('data\\\\PGBM-008\\\\03-31-1992-MR RCBV SEQUENCE FH-67056\\\\36530-ADCreg-00166\\\\000001.dcm', 'himanshu'), ('data\\\\PGBM-008\\\\03-31-1992-MR RCBV SEQUENCE FH-67056\\\\36530-ADCreg-00166\\\\000002.dcm', 'himanshu'), ('data\\\\PGBM-008\\\\03-31-1992-MR RCBV SEQUENCE FH-67056\\\\36530-ADCreg-00166\\\\000003.dcm', 'himanshu'), ('data\\\\PGBM-008\\\\03-31-1992-MR RCBV SEQUENCE FH-67056\\\\36530-ADCreg-00166\\\\000004.dcm', 'himanshu'), ('data\\\\PGBM-008\\\\03-31-1992-MR RCBV SEQUENCE FH-67056\\\\36530-ADCreg-00166\\\\000005.dcm', 'himanshu'), ('data\\\\PGBM-008\\\\03-31-1992-MR RCBV SEQUENCE FH-67056\\\\36530-ADCreg-00166\\\\000006.dcm', 'himanshu'), ('data\\\\PGBM-008\\\\03-31-1992-MR RCBV SEQUENCE FH-67056\\\\36530-ADCreg-00166\\\\000007.dcm', 'himanshu'), ('data\\\\PGBM-008\\\\03-31-1992-MR RCBV SEQUENCE FH-67056\\\\36530-ADCreg-00166\\\\000008.dcm', 'himanshu'), ('data\\\\PGBM-008\\\\03-31-1992-MR RCBV SEQUENCE FH-67056\\\\36530-ADCreg-00166\\\\000009.dcm', 'himanshu'), ('data\\\\PGBM-008\\\\03-31-1992-MR RCBV SEQUENCE FH-67056\\\\36530-ADCreg-00166\\\\000010.dcm', 'himanshu'), ('data\\\\PGBM-008\\\\03-31-1992-MR RCBV SEQUENCE FH-67056\\\\36530-ADCreg-00166\\\\000011.dcm', 'himanshu'), ('data\\\\PGBM-008\\\\03-31-1992-MR RCBV SEQUENCE FH-67056\\\\36530-ADCreg-00166\\\\000012.dcm', 'himanshu'), ('data\\\\PGBM-008\\\\03-31-1992-MR RCBV SEQUENCE FH-67056\\\\36530-ADCreg-00166\\\\000013.dcm', 'himanshu'), ('data\\\\PGBM-008\\\\03-31-1992-MR RCBV SEQUENCE FH-67056\\\\36530-ADCreg-00166\\\\000014.dcm', 'himanshu'), ('data\\\\PGBM-008\\\\03-31-1992-MR RCBV SEQUENCE FH-67056\\\\36530-ADCreg-00166\\\\000015.dcm', 'himanshu'), ('data\\\\PGBM-008\\\\03-31-1992-MR RCBV SEQUENCE FH-67056\\\\36530-ADCreg-00166\\\\000016.dcm', 'himanshu'), ('data\\\\PGBM-008\\\\03-31-1992-MR RCBV SEQUENCE FH-67056\\\\36530-ADCreg-00166\\\\000017.dcm', 'himanshu'), ('data\\\\PGBM-008\\\\03-31-1992-MR RCBV SEQUENCE FH-67056\\\\36530-ADCreg-00166\\\\000018.dcm', 'himanshu'), ('data\\\\PGBM-008\\\\03-31-1992-MR RCBV SEQUENCE FH-67056\\\\36530-ADCreg-00166\\\\000019.dcm', 'himanshu'), ('data\\\\PGBM-008\\\\03-31-1992-MR RCBV SEQUENCE FH-67056\\\\36530-ADCreg-00166\\\\000020.dcm', 'himanshu'), ('data\\\\PGBM-008\\\\03-31-1992-MR RCBV SEQUENCE FH-67056\\\\36530-ADCreg-00166\\\\000021.dcm', 'himanshu'), ('data\\\\PGBM-008\\\\03-31-1992-MR RCBV SEQUENCE FH-67056\\\\36530-ADCreg-00166\\\\000022.dcm', 'himanshu'), ('data\\\\PGBM-008\\\\03-31-1992-MR RCBV SEQUENCE FH-67056\\\\36530-ADCreg-00166\\\\000023.dcm', 'himanshu')]),\n",
       "       list([('data\\\\PGBM-008\\\\03-31-1992-MR RCBV SEQUENCE FH-67056\\\\36533-nCBFreg-11566\\\\000000.dcm', 'himanshu'), ('data\\\\PGBM-008\\\\03-31-1992-MR RCBV SEQUENCE FH-67056\\\\36533-nCBFreg-11566\\\\000001.dcm', 'himanshu'), ('data\\\\PGBM-008\\\\03-31-1992-MR RCBV SEQUENCE FH-67056\\\\36533-nCBFreg-11566\\\\000002.dcm', 'himanshu'), ('data\\\\PGBM-008\\\\03-31-1992-MR RCBV SEQUENCE FH-67056\\\\36533-nCBFreg-11566\\\\000003.dcm', 'himanshu'), ('data\\\\PGBM-008\\\\03-31-1992-MR RCBV SEQUENCE FH-67056\\\\36533-nCBFreg-11566\\\\000004.dcm', 'himanshu'), ('data\\\\PGBM-008\\\\03-31-1992-MR RCBV SEQUENCE FH-67056\\\\36533-nCBFreg-11566\\\\000005.dcm', 'himanshu'), ('data\\\\PGBM-008\\\\03-31-1992-MR RCBV SEQUENCE FH-67056\\\\36533-nCBFreg-11566\\\\000006.dcm', 'himanshu'), ('data\\\\PGBM-008\\\\03-31-1992-MR RCBV SEQUENCE FH-67056\\\\36533-nCBFreg-11566\\\\000007.dcm', 'himanshu'), ('data\\\\PGBM-008\\\\03-31-1992-MR RCBV SEQUENCE FH-67056\\\\36533-nCBFreg-11566\\\\000008.dcm', 'himanshu'), ('data\\\\PGBM-008\\\\03-31-1992-MR RCBV SEQUENCE FH-67056\\\\36533-nCBFreg-11566\\\\000009.dcm', 'himanshu'), ('data\\\\PGBM-008\\\\03-31-1992-MR RCBV SEQUENCE FH-67056\\\\36533-nCBFreg-11566\\\\000010.dcm', 'himanshu'), ('data\\\\PGBM-008\\\\03-31-1992-MR RCBV SEQUENCE FH-67056\\\\36533-nCBFreg-11566\\\\000011.dcm', 'himanshu'), ('data\\\\PGBM-008\\\\03-31-1992-MR RCBV SEQUENCE FH-67056\\\\36533-nCBFreg-11566\\\\000012.dcm', 'himanshu'), ('data\\\\PGBM-008\\\\03-31-1992-MR RCBV SEQUENCE FH-67056\\\\36533-nCBFreg-11566\\\\000013.dcm', 'himanshu'), ('data\\\\PGBM-008\\\\03-31-1992-MR RCBV SEQUENCE FH-67056\\\\36533-nCBFreg-11566\\\\000014.dcm', 'himanshu'), ('data\\\\PGBM-008\\\\03-31-1992-MR RCBV SEQUENCE FH-67056\\\\36533-nCBFreg-11566\\\\000015.dcm', 'himanshu'), ('data\\\\PGBM-008\\\\03-31-1992-MR RCBV SEQUENCE FH-67056\\\\36533-nCBFreg-11566\\\\000016.dcm', 'himanshu'), ('data\\\\PGBM-008\\\\03-31-1992-MR RCBV SEQUENCE FH-67056\\\\36533-nCBFreg-11566\\\\000017.dcm', 'himanshu'), ('data\\\\PGBM-008\\\\03-31-1992-MR RCBV SEQUENCE FH-67056\\\\36533-nCBFreg-11566\\\\000018.dcm', 'himanshu'), ('data\\\\PGBM-008\\\\03-31-1992-MR RCBV SEQUENCE FH-67056\\\\36533-nCBFreg-11566\\\\000019.dcm', 'himanshu'), ('data\\\\PGBM-008\\\\03-31-1992-MR RCBV SEQUENCE FH-67056\\\\36533-nCBFreg-11566\\\\000020.dcm', 'himanshu'), ('data\\\\PGBM-008\\\\03-31-1992-MR RCBV SEQUENCE FH-67056\\\\36533-nCBFreg-11566\\\\000021.dcm', 'himanshu'), ('data\\\\PGBM-008\\\\03-31-1992-MR RCBV SEQUENCE FH-67056\\\\36533-nCBFreg-11566\\\\000022.dcm', 'himanshu'), ('data\\\\PGBM-008\\\\03-31-1992-MR RCBV SEQUENCE FH-67056\\\\36533-nCBFreg-11566\\\\000023.dcm', 'himanshu')]),\n",
       "       list([('data\\\\PGBM-008\\\\03-31-1992-MR RCBV SEQUENCE FH-67056\\\\36534-sRCBVreg-83052\\\\000000.dcm', 'himanshu'), ('data\\\\PGBM-008\\\\03-31-1992-MR RCBV SEQUENCE FH-67056\\\\36534-sRCBVreg-83052\\\\000001.dcm', 'himanshu'), ('data\\\\PGBM-008\\\\03-31-1992-MR RCBV SEQUENCE FH-67056\\\\36534-sRCBVreg-83052\\\\000002.dcm', 'himanshu'), ('data\\\\PGBM-008\\\\03-31-1992-MR RCBV SEQUENCE FH-67056\\\\36534-sRCBVreg-83052\\\\000003.dcm', 'himanshu'), ('data\\\\PGBM-008\\\\03-31-1992-MR RCBV SEQUENCE FH-67056\\\\36534-sRCBVreg-83052\\\\000004.dcm', 'himanshu'), ('data\\\\PGBM-008\\\\03-31-1992-MR RCBV SEQUENCE FH-67056\\\\36534-sRCBVreg-83052\\\\000005.dcm', 'himanshu'), ('data\\\\PGBM-008\\\\03-31-1992-MR RCBV SEQUENCE FH-67056\\\\36534-sRCBVreg-83052\\\\000006.dcm', 'himanshu'), ('data\\\\PGBM-008\\\\03-31-1992-MR RCBV SEQUENCE FH-67056\\\\36534-sRCBVreg-83052\\\\000007.dcm', 'himanshu'), ('data\\\\PGBM-008\\\\03-31-1992-MR RCBV SEQUENCE FH-67056\\\\36534-sRCBVreg-83052\\\\000008.dcm', 'himanshu'), ('data\\\\PGBM-008\\\\03-31-1992-MR RCBV SEQUENCE FH-67056\\\\36534-sRCBVreg-83052\\\\000009.dcm', 'himanshu'), ('data\\\\PGBM-008\\\\03-31-1992-MR RCBV SEQUENCE FH-67056\\\\36534-sRCBVreg-83052\\\\000010.dcm', 'himanshu'), ('data\\\\PGBM-008\\\\03-31-1992-MR RCBV SEQUENCE FH-67056\\\\36534-sRCBVreg-83052\\\\000011.dcm', 'himanshu'), ('data\\\\PGBM-008\\\\03-31-1992-MR RCBV SEQUENCE FH-67056\\\\36534-sRCBVreg-83052\\\\000012.dcm', 'himanshu'), ('data\\\\PGBM-008\\\\03-31-1992-MR RCBV SEQUENCE FH-67056\\\\36534-sRCBVreg-83052\\\\000013.dcm', 'himanshu'), ('data\\\\PGBM-008\\\\03-31-1992-MR RCBV SEQUENCE FH-67056\\\\36534-sRCBVreg-83052\\\\000014.dcm', 'himanshu'), ('data\\\\PGBM-008\\\\03-31-1992-MR RCBV SEQUENCE FH-67056\\\\36534-sRCBVreg-83052\\\\000015.dcm', 'himanshu'), ('data\\\\PGBM-008\\\\03-31-1992-MR RCBV SEQUENCE FH-67056\\\\36534-sRCBVreg-83052\\\\000016.dcm', 'himanshu'), ('data\\\\PGBM-008\\\\03-31-1992-MR RCBV SEQUENCE FH-67056\\\\36534-sRCBVreg-83052\\\\000017.dcm', 'himanshu'), ('data\\\\PGBM-008\\\\03-31-1992-MR RCBV SEQUENCE FH-67056\\\\36534-sRCBVreg-83052\\\\000018.dcm', 'himanshu'), ('data\\\\PGBM-008\\\\03-31-1992-MR RCBV SEQUENCE FH-67056\\\\36534-sRCBVreg-83052\\\\000019.dcm', 'himanshu'), ('data\\\\PGBM-008\\\\03-31-1992-MR RCBV SEQUENCE FH-67056\\\\36534-sRCBVreg-83052\\\\000020.dcm', 'himanshu'), ('data\\\\PGBM-008\\\\03-31-1992-MR RCBV SEQUENCE FH-67056\\\\36534-sRCBVreg-83052\\\\000021.dcm', 'himanshu'), ('data\\\\PGBM-008\\\\03-31-1992-MR RCBV SEQUENCE FH-67056\\\\36534-sRCBVreg-83052\\\\000022.dcm', 'himanshu'), ('data\\\\PGBM-008\\\\03-31-1992-MR RCBV SEQUENCE FH-67056\\\\36534-sRCBVreg-83052\\\\000023.dcm', 'himanshu')]),\n",
       "       list([('data\\\\PGBM-008\\\\03-31-1992-MR RCBV SEQUENCE FH-67056\\\\36535-nRCBVreg-59794\\\\000000.dcm', 'himanshu'), ('data\\\\PGBM-008\\\\03-31-1992-MR RCBV SEQUENCE FH-67056\\\\36535-nRCBVreg-59794\\\\000001.dcm', 'himanshu'), ('data\\\\PGBM-008\\\\03-31-1992-MR RCBV SEQUENCE FH-67056\\\\36535-nRCBVreg-59794\\\\000002.dcm', 'himanshu'), ('data\\\\PGBM-008\\\\03-31-1992-MR RCBV SEQUENCE FH-67056\\\\36535-nRCBVreg-59794\\\\000003.dcm', 'himanshu'), ('data\\\\PGBM-008\\\\03-31-1992-MR RCBV SEQUENCE FH-67056\\\\36535-nRCBVreg-59794\\\\000004.dcm', 'himanshu'), ('data\\\\PGBM-008\\\\03-31-1992-MR RCBV SEQUENCE FH-67056\\\\36535-nRCBVreg-59794\\\\000005.dcm', 'himanshu'), ('data\\\\PGBM-008\\\\03-31-1992-MR RCBV SEQUENCE FH-67056\\\\36535-nRCBVreg-59794\\\\000006.dcm', 'himanshu'), ('data\\\\PGBM-008\\\\03-31-1992-MR RCBV SEQUENCE FH-67056\\\\36535-nRCBVreg-59794\\\\000007.dcm', 'himanshu'), ('data\\\\PGBM-008\\\\03-31-1992-MR RCBV SEQUENCE FH-67056\\\\36535-nRCBVreg-59794\\\\000008.dcm', 'himanshu'), ('data\\\\PGBM-008\\\\03-31-1992-MR RCBV SEQUENCE FH-67056\\\\36535-nRCBVreg-59794\\\\000009.dcm', 'himanshu'), ('data\\\\PGBM-008\\\\03-31-1992-MR RCBV SEQUENCE FH-67056\\\\36535-nRCBVreg-59794\\\\000010.dcm', 'himanshu'), ('data\\\\PGBM-008\\\\03-31-1992-MR RCBV SEQUENCE FH-67056\\\\36535-nRCBVreg-59794\\\\000011.dcm', 'himanshu'), ('data\\\\PGBM-008\\\\03-31-1992-MR RCBV SEQUENCE FH-67056\\\\36535-nRCBVreg-59794\\\\000012.dcm', 'himanshu'), ('data\\\\PGBM-008\\\\03-31-1992-MR RCBV SEQUENCE FH-67056\\\\36535-nRCBVreg-59794\\\\000013.dcm', 'himanshu'), ('data\\\\PGBM-008\\\\03-31-1992-MR RCBV SEQUENCE FH-67056\\\\36535-nRCBVreg-59794\\\\000014.dcm', 'himanshu'), ('data\\\\PGBM-008\\\\03-31-1992-MR RCBV SEQUENCE FH-67056\\\\36535-nRCBVreg-59794\\\\000015.dcm', 'himanshu'), ('data\\\\PGBM-008\\\\03-31-1992-MR RCBV SEQUENCE FH-67056\\\\36535-nRCBVreg-59794\\\\000016.dcm', 'himanshu'), ('data\\\\PGBM-008\\\\03-31-1992-MR RCBV SEQUENCE FH-67056\\\\36535-nRCBVreg-59794\\\\000017.dcm', 'himanshu'), ('data\\\\PGBM-008\\\\03-31-1992-MR RCBV SEQUENCE FH-67056\\\\36535-nRCBVreg-59794\\\\000018.dcm', 'himanshu'), ('data\\\\PGBM-008\\\\03-31-1992-MR RCBV SEQUENCE FH-67056\\\\36535-nRCBVreg-59794\\\\000019.dcm', 'himanshu'), ('data\\\\PGBM-008\\\\03-31-1992-MR RCBV SEQUENCE FH-67056\\\\36535-nRCBVreg-59794\\\\000020.dcm', 'himanshu'), ('data\\\\PGBM-008\\\\03-31-1992-MR RCBV SEQUENCE FH-67056\\\\36535-nRCBVreg-59794\\\\000021.dcm', 'himanshu'), ('data\\\\PGBM-008\\\\03-31-1992-MR RCBV SEQUENCE FH-67056\\\\36535-nRCBVreg-59794\\\\000022.dcm', 'himanshu'), ('data\\\\PGBM-008\\\\03-31-1992-MR RCBV SEQUENCE FH-67056\\\\36535-nRCBVreg-59794\\\\000023.dcm', 'himanshu')]),\n",
       "       list([('data\\\\PGBM-008\\\\03-31-1992-MR RCBV SEQUENCE FH-67056\\\\37758-T2reg-76823\\\\000000.dcm', 'himanshu'), ('data\\\\PGBM-008\\\\03-31-1992-MR RCBV SEQUENCE FH-67056\\\\37758-T2reg-76823\\\\000001.dcm', 'himanshu'), ('data\\\\PGBM-008\\\\03-31-1992-MR RCBV SEQUENCE FH-67056\\\\37758-T2reg-76823\\\\000002.dcm', 'himanshu'), ('data\\\\PGBM-008\\\\03-31-1992-MR RCBV SEQUENCE FH-67056\\\\37758-T2reg-76823\\\\000003.dcm', 'himanshu'), ('data\\\\PGBM-008\\\\03-31-1992-MR RCBV SEQUENCE FH-67056\\\\37758-T2reg-76823\\\\000004.dcm', 'himanshu'), ('data\\\\PGBM-008\\\\03-31-1992-MR RCBV SEQUENCE FH-67056\\\\37758-T2reg-76823\\\\000005.dcm', 'himanshu'), ('data\\\\PGBM-008\\\\03-31-1992-MR RCBV SEQUENCE FH-67056\\\\37758-T2reg-76823\\\\000006.dcm', 'himanshu'), ('data\\\\PGBM-008\\\\03-31-1992-MR RCBV SEQUENCE FH-67056\\\\37758-T2reg-76823\\\\000007.dcm', 'himanshu'), ('data\\\\PGBM-008\\\\03-31-1992-MR RCBV SEQUENCE FH-67056\\\\37758-T2reg-76823\\\\000008.dcm', 'himanshu'), ('data\\\\PGBM-008\\\\03-31-1992-MR RCBV SEQUENCE FH-67056\\\\37758-T2reg-76823\\\\000009.dcm', 'himanshu'), ('data\\\\PGBM-008\\\\03-31-1992-MR RCBV SEQUENCE FH-67056\\\\37758-T2reg-76823\\\\000010.dcm', 'himanshu'), ('data\\\\PGBM-008\\\\03-31-1992-MR RCBV SEQUENCE FH-67056\\\\37758-T2reg-76823\\\\000011.dcm', 'himanshu'), ('data\\\\PGBM-008\\\\03-31-1992-MR RCBV SEQUENCE FH-67056\\\\37758-T2reg-76823\\\\000012.dcm', 'himanshu'), ('data\\\\PGBM-008\\\\03-31-1992-MR RCBV SEQUENCE FH-67056\\\\37758-T2reg-76823\\\\000013.dcm', 'himanshu'), ('data\\\\PGBM-008\\\\03-31-1992-MR RCBV SEQUENCE FH-67056\\\\37758-T2reg-76823\\\\000014.dcm', 'himanshu'), ('data\\\\PGBM-008\\\\03-31-1992-MR RCBV SEQUENCE FH-67056\\\\37758-T2reg-76823\\\\000015.dcm', 'himanshu'), ('data\\\\PGBM-008\\\\03-31-1992-MR RCBV SEQUENCE FH-67056\\\\37758-T2reg-76823\\\\000016.dcm', 'himanshu'), ('data\\\\PGBM-008\\\\03-31-1992-MR RCBV SEQUENCE FH-67056\\\\37758-T2reg-76823\\\\000017.dcm', 'himanshu'), ('data\\\\PGBM-008\\\\03-31-1992-MR RCBV SEQUENCE FH-67056\\\\37758-T2reg-76823\\\\000018.dcm', 'himanshu'), ('data\\\\PGBM-008\\\\03-31-1992-MR RCBV SEQUENCE FH-67056\\\\37758-T2reg-76823\\\\000019.dcm', 'himanshu'), ('data\\\\PGBM-008\\\\03-31-1992-MR RCBV SEQUENCE FH-67056\\\\37758-T2reg-76823\\\\000020.dcm', 'himanshu'), ('data\\\\PGBM-008\\\\03-31-1992-MR RCBV SEQUENCE FH-67056\\\\37758-T2reg-76823\\\\000021.dcm', 'himanshu'), ('data\\\\PGBM-008\\\\03-31-1992-MR RCBV SEQUENCE FH-67056\\\\37758-T2reg-76823\\\\000022.dcm', 'himanshu'), ('data\\\\PGBM-008\\\\03-31-1992-MR RCBV SEQUENCE FH-67056\\\\37758-T2reg-76823\\\\000023.dcm', 'himanshu')]),\n",
       "       list([('data\\\\PGBM-008\\\\03-31-1992-MR RCBV SEQUENCE FH-67056\\\\40845-T1prereg-53096\\\\000000.dcm', 'himanshu'), ('data\\\\PGBM-008\\\\03-31-1992-MR RCBV SEQUENCE FH-67056\\\\40845-T1prereg-53096\\\\000001.dcm', 'himanshu'), ('data\\\\PGBM-008\\\\03-31-1992-MR RCBV SEQUENCE FH-67056\\\\40845-T1prereg-53096\\\\000002.dcm', 'himanshu'), ('data\\\\PGBM-008\\\\03-31-1992-MR RCBV SEQUENCE FH-67056\\\\40845-T1prereg-53096\\\\000003.dcm', 'himanshu'), ('data\\\\PGBM-008\\\\03-31-1992-MR RCBV SEQUENCE FH-67056\\\\40845-T1prereg-53096\\\\000004.dcm', 'himanshu'), ('data\\\\PGBM-008\\\\03-31-1992-MR RCBV SEQUENCE FH-67056\\\\40845-T1prereg-53096\\\\000005.dcm', 'himanshu'), ('data\\\\PGBM-008\\\\03-31-1992-MR RCBV SEQUENCE FH-67056\\\\40845-T1prereg-53096\\\\000006.dcm', 'himanshu'), ('data\\\\PGBM-008\\\\03-31-1992-MR RCBV SEQUENCE FH-67056\\\\40845-T1prereg-53096\\\\000007.dcm', 'himanshu'), ('data\\\\PGBM-008\\\\03-31-1992-MR RCBV SEQUENCE FH-67056\\\\40845-T1prereg-53096\\\\000008.dcm', 'himanshu'), ('data\\\\PGBM-008\\\\03-31-1992-MR RCBV SEQUENCE FH-67056\\\\40845-T1prereg-53096\\\\000009.dcm', 'himanshu'), ('data\\\\PGBM-008\\\\03-31-1992-MR RCBV SEQUENCE FH-67056\\\\40845-T1prereg-53096\\\\000010.dcm', 'himanshu'), ('data\\\\PGBM-008\\\\03-31-1992-MR RCBV SEQUENCE FH-67056\\\\40845-T1prereg-53096\\\\000011.dcm', 'himanshu'), ('data\\\\PGBM-008\\\\03-31-1992-MR RCBV SEQUENCE FH-67056\\\\40845-T1prereg-53096\\\\000012.dcm', 'himanshu'), ('data\\\\PGBM-008\\\\03-31-1992-MR RCBV SEQUENCE FH-67056\\\\40845-T1prereg-53096\\\\000013.dcm', 'himanshu'), ('data\\\\PGBM-008\\\\03-31-1992-MR RCBV SEQUENCE FH-67056\\\\40845-T1prereg-53096\\\\000014.dcm', 'himanshu'), ('data\\\\PGBM-008\\\\03-31-1992-MR RCBV SEQUENCE FH-67056\\\\40845-T1prereg-53096\\\\000015.dcm', 'himanshu'), ('data\\\\PGBM-008\\\\03-31-1992-MR RCBV SEQUENCE FH-67056\\\\40845-T1prereg-53096\\\\000016.dcm', 'himanshu'), ('data\\\\PGBM-008\\\\03-31-1992-MR RCBV SEQUENCE FH-67056\\\\40845-T1prereg-53096\\\\000017.dcm', 'himanshu'), ('data\\\\PGBM-008\\\\03-31-1992-MR RCBV SEQUENCE FH-67056\\\\40845-T1prereg-53096\\\\000018.dcm', 'himanshu'), ('data\\\\PGBM-008\\\\03-31-1992-MR RCBV SEQUENCE FH-67056\\\\40845-T1prereg-53096\\\\000019.dcm', 'himanshu'), ('data\\\\PGBM-008\\\\03-31-1992-MR RCBV SEQUENCE FH-67056\\\\40845-T1prereg-53096\\\\000020.dcm', 'himanshu'), ('data\\\\PGBM-008\\\\03-31-1992-MR RCBV SEQUENCE FH-67056\\\\40845-T1prereg-53096\\\\000021.dcm', 'himanshu'), ('data\\\\PGBM-008\\\\03-31-1992-MR RCBV SEQUENCE FH-67056\\\\40845-T1prereg-53096\\\\000022.dcm', 'himanshu'), ('data\\\\PGBM-008\\\\03-31-1992-MR RCBV SEQUENCE FH-67056\\\\40845-T1prereg-53096\\\\000023.dcm', 'himanshu')]),\n",
       "       list([('data\\\\PGBM-008\\\\03-31-1992-MR RCBV SEQUENCE FH-67056\\\\5395-MaskTumor-37344\\\\000000.dcm', 'himanshu'), ('data\\\\PGBM-008\\\\03-31-1992-MR RCBV SEQUENCE FH-67056\\\\5395-MaskTumor-37344\\\\000001.dcm', 'himanshu'), ('data\\\\PGBM-008\\\\03-31-1992-MR RCBV SEQUENCE FH-67056\\\\5395-MaskTumor-37344\\\\000002.dcm', 'himanshu'), ('data\\\\PGBM-008\\\\03-31-1992-MR RCBV SEQUENCE FH-67056\\\\5395-MaskTumor-37344\\\\000003.dcm', 'himanshu'), ('data\\\\PGBM-008\\\\03-31-1992-MR RCBV SEQUENCE FH-67056\\\\5395-MaskTumor-37344\\\\000004.dcm', 'himanshu'), ('data\\\\PGBM-008\\\\03-31-1992-MR RCBV SEQUENCE FH-67056\\\\5395-MaskTumor-37344\\\\000005.dcm', 'himanshu'), ('data\\\\PGBM-008\\\\03-31-1992-MR RCBV SEQUENCE FH-67056\\\\5395-MaskTumor-37344\\\\000006.dcm', 'himanshu'), ('data\\\\PGBM-008\\\\03-31-1992-MR RCBV SEQUENCE FH-67056\\\\5395-MaskTumor-37344\\\\000007.dcm', 'himanshu'), ('data\\\\PGBM-008\\\\03-31-1992-MR RCBV SEQUENCE FH-67056\\\\5395-MaskTumor-37344\\\\000008.dcm', 'himanshu'), ('data\\\\PGBM-008\\\\03-31-1992-MR RCBV SEQUENCE FH-67056\\\\5395-MaskTumor-37344\\\\000009.dcm', 'himanshu'), ('data\\\\PGBM-008\\\\03-31-1992-MR RCBV SEQUENCE FH-67056\\\\5395-MaskTumor-37344\\\\000010.dcm', 'himanshu'), ('data\\\\PGBM-008\\\\03-31-1992-MR RCBV SEQUENCE FH-67056\\\\5395-MaskTumor-37344\\\\000011.dcm', 'himanshu'), ('data\\\\PGBM-008\\\\03-31-1992-MR RCBV SEQUENCE FH-67056\\\\5395-MaskTumor-37344\\\\000012.dcm', 'himanshu'), ('data\\\\PGBM-008\\\\03-31-1992-MR RCBV SEQUENCE FH-67056\\\\5395-MaskTumor-37344\\\\000013.dcm', 'himanshu'), ('data\\\\PGBM-008\\\\03-31-1992-MR RCBV SEQUENCE FH-67056\\\\5395-MaskTumor-37344\\\\000014.dcm', 'himanshu'), ('data\\\\PGBM-008\\\\03-31-1992-MR RCBV SEQUENCE FH-67056\\\\5395-MaskTumor-37344\\\\000015.dcm', 'himanshu'), ('data\\\\PGBM-008\\\\03-31-1992-MR RCBV SEQUENCE FH-67056\\\\5395-MaskTumor-37344\\\\000016.dcm', 'himanshu'), ('data\\\\PGBM-008\\\\03-31-1992-MR RCBV SEQUENCE FH-67056\\\\5395-MaskTumor-37344\\\\000017.dcm', 'himanshu'), ('data\\\\PGBM-008\\\\03-31-1992-MR RCBV SEQUENCE FH-67056\\\\5395-MaskTumor-37344\\\\000018.dcm', 'himanshu'), ('data\\\\PGBM-008\\\\03-31-1992-MR RCBV SEQUENCE FH-67056\\\\5395-MaskTumor-37344\\\\000019.dcm', 'himanshu'), ('data\\\\PGBM-008\\\\03-31-1992-MR RCBV SEQUENCE FH-67056\\\\5395-MaskTumor-37344\\\\000020.dcm', 'himanshu'), ('data\\\\PGBM-008\\\\03-31-1992-MR RCBV SEQUENCE FH-67056\\\\5395-MaskTumor-37344\\\\000021.dcm', 'himanshu'), ('data\\\\PGBM-008\\\\03-31-1992-MR RCBV SEQUENCE FH-67056\\\\5395-MaskTumor-37344\\\\000022.dcm', 'himanshu'), ('data\\\\PGBM-008\\\\03-31-1992-MR RCBV SEQUENCE FH-67056\\\\5395-MaskTumor-37344\\\\000023.dcm', 'himanshu')]),\n",
       "       list([('data\\\\PGBM-008\\\\06-10-1993-FH-HEADBrain Protocols-26857\\\\13-T1post-21069\\\\000000.dcm', 'himanshu'), ('data\\\\PGBM-008\\\\06-10-1993-FH-HEADBrain Protocols-26857\\\\13-T1post-21069\\\\000001.dcm', 'himanshu'), ('data\\\\PGBM-008\\\\06-10-1993-FH-HEADBrain Protocols-26857\\\\13-T1post-21069\\\\000002.dcm', 'himanshu'), ('data\\\\PGBM-008\\\\06-10-1993-FH-HEADBrain Protocols-26857\\\\13-T1post-21069\\\\000003.dcm', 'himanshu'), ('data\\\\PGBM-008\\\\06-10-1993-FH-HEADBrain Protocols-26857\\\\13-T1post-21069\\\\000004.dcm', 'himanshu'), ('data\\\\PGBM-008\\\\06-10-1993-FH-HEADBrain Protocols-26857\\\\13-T1post-21069\\\\000005.dcm', 'himanshu'), ('data\\\\PGBM-008\\\\06-10-1993-FH-HEADBrain Protocols-26857\\\\13-T1post-21069\\\\000006.dcm', 'himanshu'), ('data\\\\PGBM-008\\\\06-10-1993-FH-HEADBrain Protocols-26857\\\\13-T1post-21069\\\\000007.dcm', 'himanshu'), ('data\\\\PGBM-008\\\\06-10-1993-FH-HEADBrain Protocols-26857\\\\13-T1post-21069\\\\000008.dcm', 'himanshu'), ('data\\\\PGBM-008\\\\06-10-1993-FH-HEADBrain Protocols-26857\\\\13-T1post-21069\\\\000009.dcm', 'himanshu'), ('data\\\\PGBM-008\\\\06-10-1993-FH-HEADBrain Protocols-26857\\\\13-T1post-21069\\\\000010.dcm', 'himanshu'), ('data\\\\PGBM-008\\\\06-10-1993-FH-HEADBrain Protocols-26857\\\\13-T1post-21069\\\\000011.dcm', 'himanshu'), ('data\\\\PGBM-008\\\\06-10-1993-FH-HEADBrain Protocols-26857\\\\13-T1post-21069\\\\000012.dcm', 'himanshu'), ('data\\\\PGBM-008\\\\06-10-1993-FH-HEADBrain Protocols-26857\\\\13-T1post-21069\\\\000013.dcm', 'himanshu'), ('data\\\\PGBM-008\\\\06-10-1993-FH-HEADBrain Protocols-26857\\\\13-T1post-21069\\\\000014.dcm', 'himanshu'), ('data\\\\PGBM-008\\\\06-10-1993-FH-HEADBrain Protocols-26857\\\\13-T1post-21069\\\\000015.dcm', 'himanshu'), ('data\\\\PGBM-008\\\\06-10-1993-FH-HEADBrain Protocols-26857\\\\13-T1post-21069\\\\000016.dcm', 'himanshu'), ('data\\\\PGBM-008\\\\06-10-1993-FH-HEADBrain Protocols-26857\\\\13-T1post-21069\\\\000017.dcm', 'himanshu'), ('data\\\\PGBM-008\\\\06-10-1993-FH-HEADBrain Protocols-26857\\\\13-T1post-21069\\\\000018.dcm', 'himanshu'), ('data\\\\PGBM-008\\\\06-10-1993-FH-HEADBrain Protocols-26857\\\\13-T1post-21069\\\\000019.dcm', 'himanshu'), ('data\\\\PGBM-008\\\\06-10-1993-FH-HEADBrain Protocols-26857\\\\13-T1post-21069\\\\000020.dcm', 'himanshu'), ('data\\\\PGBM-008\\\\06-10-1993-FH-HEADBrain Protocols-26857\\\\13-T1post-21069\\\\000021.dcm', 'himanshu')]),\n",
       "       list([('data\\\\PGBM-008\\\\06-10-1993-FH-HEADBrain Protocols-26857\\\\29911-dT1-06426\\\\000000.dcm', 'himanshu'), ('data\\\\PGBM-008\\\\06-10-1993-FH-HEADBrain Protocols-26857\\\\29911-dT1-06426\\\\000001.dcm', 'himanshu'), ('data\\\\PGBM-008\\\\06-10-1993-FH-HEADBrain Protocols-26857\\\\29911-dT1-06426\\\\000002.dcm', 'himanshu'), ('data\\\\PGBM-008\\\\06-10-1993-FH-HEADBrain Protocols-26857\\\\29911-dT1-06426\\\\000003.dcm', 'himanshu'), ('data\\\\PGBM-008\\\\06-10-1993-FH-HEADBrain Protocols-26857\\\\29911-dT1-06426\\\\000004.dcm', 'himanshu'), ('data\\\\PGBM-008\\\\06-10-1993-FH-HEADBrain Protocols-26857\\\\29911-dT1-06426\\\\000005.dcm', 'himanshu'), ('data\\\\PGBM-008\\\\06-10-1993-FH-HEADBrain Protocols-26857\\\\29911-dT1-06426\\\\000006.dcm', 'himanshu'), ('data\\\\PGBM-008\\\\06-10-1993-FH-HEADBrain Protocols-26857\\\\29911-dT1-06426\\\\000007.dcm', 'himanshu'), ('data\\\\PGBM-008\\\\06-10-1993-FH-HEADBrain Protocols-26857\\\\29911-dT1-06426\\\\000008.dcm', 'himanshu'), ('data\\\\PGBM-008\\\\06-10-1993-FH-HEADBrain Protocols-26857\\\\29911-dT1-06426\\\\000009.dcm', 'himanshu'), ('data\\\\PGBM-008\\\\06-10-1993-FH-HEADBrain Protocols-26857\\\\29911-dT1-06426\\\\000010.dcm', 'himanshu'), ('data\\\\PGBM-008\\\\06-10-1993-FH-HEADBrain Protocols-26857\\\\29911-dT1-06426\\\\000011.dcm', 'himanshu'), ('data\\\\PGBM-008\\\\06-10-1993-FH-HEADBrain Protocols-26857\\\\29911-dT1-06426\\\\000012.dcm', 'himanshu'), ('data\\\\PGBM-008\\\\06-10-1993-FH-HEADBrain Protocols-26857\\\\29911-dT1-06426\\\\000013.dcm', 'himanshu'), ('data\\\\PGBM-008\\\\06-10-1993-FH-HEADBrain Protocols-26857\\\\29911-dT1-06426\\\\000014.dcm', 'himanshu'), ('data\\\\PGBM-008\\\\06-10-1993-FH-HEADBrain Protocols-26857\\\\29911-dT1-06426\\\\000015.dcm', 'himanshu'), ('data\\\\PGBM-008\\\\06-10-1993-FH-HEADBrain Protocols-26857\\\\29911-dT1-06426\\\\000016.dcm', 'himanshu'), ('data\\\\PGBM-008\\\\06-10-1993-FH-HEADBrain Protocols-26857\\\\29911-dT1-06426\\\\000017.dcm', 'himanshu'), ('data\\\\PGBM-008\\\\06-10-1993-FH-HEADBrain Protocols-26857\\\\29911-dT1-06426\\\\000018.dcm', 'himanshu'), ('data\\\\PGBM-008\\\\06-10-1993-FH-HEADBrain Protocols-26857\\\\29911-dT1-06426\\\\000019.dcm', 'himanshu'), ('data\\\\PGBM-008\\\\06-10-1993-FH-HEADBrain Protocols-26857\\\\29911-dT1-06426\\\\000020.dcm', 'himanshu'), ('data\\\\PGBM-008\\\\06-10-1993-FH-HEADBrain Protocols-26857\\\\29911-dT1-06426\\\\000021.dcm', 'himanshu')]),\n",
       "       list([('data\\\\PGBM-008\\\\06-10-1993-FH-HEADBrain Protocols-26857\\\\34919-T1prereg-57719\\\\000000.dcm', 'himanshu'), ('data\\\\PGBM-008\\\\06-10-1993-FH-HEADBrain Protocols-26857\\\\34919-T1prereg-57719\\\\000001.dcm', 'himanshu'), ('data\\\\PGBM-008\\\\06-10-1993-FH-HEADBrain Protocols-26857\\\\34919-T1prereg-57719\\\\000002.dcm', 'himanshu'), ('data\\\\PGBM-008\\\\06-10-1993-FH-HEADBrain Protocols-26857\\\\34919-T1prereg-57719\\\\000003.dcm', 'himanshu'), ('data\\\\PGBM-008\\\\06-10-1993-FH-HEADBrain Protocols-26857\\\\34919-T1prereg-57719\\\\000004.dcm', 'himanshu'), ('data\\\\PGBM-008\\\\06-10-1993-FH-HEADBrain Protocols-26857\\\\34919-T1prereg-57719\\\\000005.dcm', 'himanshu'), ('data\\\\PGBM-008\\\\06-10-1993-FH-HEADBrain Protocols-26857\\\\34919-T1prereg-57719\\\\000006.dcm', 'himanshu'), ('data\\\\PGBM-008\\\\06-10-1993-FH-HEADBrain Protocols-26857\\\\34919-T1prereg-57719\\\\000007.dcm', 'himanshu'), ('data\\\\PGBM-008\\\\06-10-1993-FH-HEADBrain Protocols-26857\\\\34919-T1prereg-57719\\\\000008.dcm', 'himanshu'), ('data\\\\PGBM-008\\\\06-10-1993-FH-HEADBrain Protocols-26857\\\\34919-T1prereg-57719\\\\000009.dcm', 'himanshu'), ('data\\\\PGBM-008\\\\06-10-1993-FH-HEADBrain Protocols-26857\\\\34919-T1prereg-57719\\\\000010.dcm', 'himanshu'), ('data\\\\PGBM-008\\\\06-10-1993-FH-HEADBrain Protocols-26857\\\\34919-T1prereg-57719\\\\000011.dcm', 'himanshu'), ('data\\\\PGBM-008\\\\06-10-1993-FH-HEADBrain Protocols-26857\\\\34919-T1prereg-57719\\\\000012.dcm', 'himanshu'), ('data\\\\PGBM-008\\\\06-10-1993-FH-HEADBrain Protocols-26857\\\\34919-T1prereg-57719\\\\000013.dcm', 'himanshu'), ('data\\\\PGBM-008\\\\06-10-1993-FH-HEADBrain Protocols-26857\\\\34919-T1prereg-57719\\\\000014.dcm', 'himanshu'), ('data\\\\PGBM-008\\\\06-10-1993-FH-HEADBrain Protocols-26857\\\\34919-T1prereg-57719\\\\000015.dcm', 'himanshu'), ('data\\\\PGBM-008\\\\06-10-1993-FH-HEADBrain Protocols-26857\\\\34919-T1prereg-57719\\\\000016.dcm', 'himanshu'), ('data\\\\PGBM-008\\\\06-10-1993-FH-HEADBrain Protocols-26857\\\\34919-T1prereg-57719\\\\000017.dcm', 'himanshu'), ('data\\\\PGBM-008\\\\06-10-1993-FH-HEADBrain Protocols-26857\\\\34919-T1prereg-57719\\\\000018.dcm', 'himanshu'), ('data\\\\PGBM-008\\\\06-10-1993-FH-HEADBrain Protocols-26857\\\\34919-T1prereg-57719\\\\000019.dcm', 'himanshu'), ('data\\\\PGBM-008\\\\06-10-1993-FH-HEADBrain Protocols-26857\\\\34919-T1prereg-57719\\\\000020.dcm', 'himanshu'), ('data\\\\PGBM-008\\\\06-10-1993-FH-HEADBrain Protocols-26857\\\\34919-T1prereg-57719\\\\000021.dcm', 'himanshu')]),\n",
       "       list([('data\\\\PGBM-008\\\\06-10-1993-FH-HEADBrain Protocols-26857\\\\36537-FLAIRreg-18447\\\\000000.dcm', 'himanshu'), ('data\\\\PGBM-008\\\\06-10-1993-FH-HEADBrain Protocols-26857\\\\36537-FLAIRreg-18447\\\\000001.dcm', 'himanshu'), ('data\\\\PGBM-008\\\\06-10-1993-FH-HEADBrain Protocols-26857\\\\36537-FLAIRreg-18447\\\\000002.dcm', 'himanshu'), ('data\\\\PGBM-008\\\\06-10-1993-FH-HEADBrain Protocols-26857\\\\36537-FLAIRreg-18447\\\\000003.dcm', 'himanshu'), ('data\\\\PGBM-008\\\\06-10-1993-FH-HEADBrain Protocols-26857\\\\36537-FLAIRreg-18447\\\\000004.dcm', 'himanshu'), ('data\\\\PGBM-008\\\\06-10-1993-FH-HEADBrain Protocols-26857\\\\36537-FLAIRreg-18447\\\\000005.dcm', 'himanshu'), ('data\\\\PGBM-008\\\\06-10-1993-FH-HEADBrain Protocols-26857\\\\36537-FLAIRreg-18447\\\\000006.dcm', 'himanshu'), ('data\\\\PGBM-008\\\\06-10-1993-FH-HEADBrain Protocols-26857\\\\36537-FLAIRreg-18447\\\\000007.dcm', 'himanshu'), ('data\\\\PGBM-008\\\\06-10-1993-FH-HEADBrain Protocols-26857\\\\36537-FLAIRreg-18447\\\\000008.dcm', 'himanshu'), ('data\\\\PGBM-008\\\\06-10-1993-FH-HEADBrain Protocols-26857\\\\36537-FLAIRreg-18447\\\\000009.dcm', 'himanshu'), ('data\\\\PGBM-008\\\\06-10-1993-FH-HEADBrain Protocols-26857\\\\36537-FLAIRreg-18447\\\\000010.dcm', 'himanshu'), ('data\\\\PGBM-008\\\\06-10-1993-FH-HEADBrain Protocols-26857\\\\36537-FLAIRreg-18447\\\\000011.dcm', 'himanshu'), ('data\\\\PGBM-008\\\\06-10-1993-FH-HEADBrain Protocols-26857\\\\36537-FLAIRreg-18447\\\\000012.dcm', 'himanshu'), ('data\\\\PGBM-008\\\\06-10-1993-FH-HEADBrain Protocols-26857\\\\36537-FLAIRreg-18447\\\\000013.dcm', 'himanshu'), ('data\\\\PGBM-008\\\\06-10-1993-FH-HEADBrain Protocols-26857\\\\36537-FLAIRreg-18447\\\\000014.dcm', 'himanshu'), ('data\\\\PGBM-008\\\\06-10-1993-FH-HEADBrain Protocols-26857\\\\36537-FLAIRreg-18447\\\\000015.dcm', 'himanshu'), ('data\\\\PGBM-008\\\\06-10-1993-FH-HEADBrain Protocols-26857\\\\36537-FLAIRreg-18447\\\\000016.dcm', 'himanshu'), ('data\\\\PGBM-008\\\\06-10-1993-FH-HEADBrain Protocols-26857\\\\36537-FLAIRreg-18447\\\\000017.dcm', 'himanshu'), ('data\\\\PGBM-008\\\\06-10-1993-FH-HEADBrain Protocols-26857\\\\36537-FLAIRreg-18447\\\\000018.dcm', 'himanshu'), ('data\\\\PGBM-008\\\\06-10-1993-FH-HEADBrain Protocols-26857\\\\36537-FLAIRreg-18447\\\\000019.dcm', 'himanshu'), ('data\\\\PGBM-008\\\\06-10-1993-FH-HEADBrain Protocols-26857\\\\36537-FLAIRreg-18447\\\\000020.dcm', 'himanshu'), ('data\\\\PGBM-008\\\\06-10-1993-FH-HEADBrain Protocols-26857\\\\36537-FLAIRreg-18447\\\\000021.dcm', 'himanshu')]),\n",
       "       list([('data\\\\PGBM-008\\\\06-10-1993-FH-HEADBrain Protocols-26857\\\\36538-ADCreg-86244\\\\000000.dcm', 'himanshu'), ('data\\\\PGBM-008\\\\06-10-1993-FH-HEADBrain Protocols-26857\\\\36538-ADCreg-86244\\\\000001.dcm', 'himanshu'), ('data\\\\PGBM-008\\\\06-10-1993-FH-HEADBrain Protocols-26857\\\\36538-ADCreg-86244\\\\000002.dcm', 'himanshu'), ('data\\\\PGBM-008\\\\06-10-1993-FH-HEADBrain Protocols-26857\\\\36538-ADCreg-86244\\\\000003.dcm', 'himanshu'), ('data\\\\PGBM-008\\\\06-10-1993-FH-HEADBrain Protocols-26857\\\\36538-ADCreg-86244\\\\000004.dcm', 'himanshu'), ('data\\\\PGBM-008\\\\06-10-1993-FH-HEADBrain Protocols-26857\\\\36538-ADCreg-86244\\\\000005.dcm', 'himanshu'), ('data\\\\PGBM-008\\\\06-10-1993-FH-HEADBrain Protocols-26857\\\\36538-ADCreg-86244\\\\000006.dcm', 'himanshu'), ('data\\\\PGBM-008\\\\06-10-1993-FH-HEADBrain Protocols-26857\\\\36538-ADCreg-86244\\\\000007.dcm', 'himanshu'), ('data\\\\PGBM-008\\\\06-10-1993-FH-HEADBrain Protocols-26857\\\\36538-ADCreg-86244\\\\000008.dcm', 'himanshu'), ('data\\\\PGBM-008\\\\06-10-1993-FH-HEADBrain Protocols-26857\\\\36538-ADCreg-86244\\\\000009.dcm', 'himanshu'), ('data\\\\PGBM-008\\\\06-10-1993-FH-HEADBrain Protocols-26857\\\\36538-ADCreg-86244\\\\000010.dcm', 'himanshu'), ('data\\\\PGBM-008\\\\06-10-1993-FH-HEADBrain Protocols-26857\\\\36538-ADCreg-86244\\\\000011.dcm', 'himanshu'), ('data\\\\PGBM-008\\\\06-10-1993-FH-HEADBrain Protocols-26857\\\\36538-ADCreg-86244\\\\000012.dcm', 'himanshu'), ('data\\\\PGBM-008\\\\06-10-1993-FH-HEADBrain Protocols-26857\\\\36538-ADCreg-86244\\\\000013.dcm', 'himanshu'), ('data\\\\PGBM-008\\\\06-10-1993-FH-HEADBrain Protocols-26857\\\\36538-ADCreg-86244\\\\000014.dcm', 'himanshu'), ('data\\\\PGBM-008\\\\06-10-1993-FH-HEADBrain Protocols-26857\\\\36538-ADCreg-86244\\\\000015.dcm', 'himanshu'), ('data\\\\PGBM-008\\\\06-10-1993-FH-HEADBrain Protocols-26857\\\\36538-ADCreg-86244\\\\000016.dcm', 'himanshu'), ('data\\\\PGBM-008\\\\06-10-1993-FH-HEADBrain Protocols-26857\\\\36538-ADCreg-86244\\\\000017.dcm', 'himanshu'), ('data\\\\PGBM-008\\\\06-10-1993-FH-HEADBrain Protocols-26857\\\\36538-ADCreg-86244\\\\000018.dcm', 'himanshu'), ('data\\\\PGBM-008\\\\06-10-1993-FH-HEADBrain Protocols-26857\\\\36538-ADCreg-86244\\\\000019.dcm', 'himanshu'), ('data\\\\PGBM-008\\\\06-10-1993-FH-HEADBrain Protocols-26857\\\\36538-ADCreg-86244\\\\000020.dcm', 'himanshu'), ('data\\\\PGBM-008\\\\06-10-1993-FH-HEADBrain Protocols-26857\\\\36538-ADCreg-86244\\\\000021.dcm', 'himanshu')]),\n",
       "       list([('data\\\\PGBM-008\\\\06-10-1993-FH-HEADBrain Protocols-26857\\\\36541-sRCBVreg-18649\\\\000000.dcm', 'himanshu'), ('data\\\\PGBM-008\\\\06-10-1993-FH-HEADBrain Protocols-26857\\\\36541-sRCBVreg-18649\\\\000001.dcm', 'himanshu'), ('data\\\\PGBM-008\\\\06-10-1993-FH-HEADBrain Protocols-26857\\\\36541-sRCBVreg-18649\\\\000002.dcm', 'himanshu'), ('data\\\\PGBM-008\\\\06-10-1993-FH-HEADBrain Protocols-26857\\\\36541-sRCBVreg-18649\\\\000003.dcm', 'himanshu'), ('data\\\\PGBM-008\\\\06-10-1993-FH-HEADBrain Protocols-26857\\\\36541-sRCBVreg-18649\\\\000004.dcm', 'himanshu'), ('data\\\\PGBM-008\\\\06-10-1993-FH-HEADBrain Protocols-26857\\\\36541-sRCBVreg-18649\\\\000005.dcm', 'himanshu'), ('data\\\\PGBM-008\\\\06-10-1993-FH-HEADBrain Protocols-26857\\\\36541-sRCBVreg-18649\\\\000006.dcm', 'himanshu'), ('data\\\\PGBM-008\\\\06-10-1993-FH-HEADBrain Protocols-26857\\\\36541-sRCBVreg-18649\\\\000007.dcm', 'himanshu'), ('data\\\\PGBM-008\\\\06-10-1993-FH-HEADBrain Protocols-26857\\\\36541-sRCBVreg-18649\\\\000008.dcm', 'himanshu'), ('data\\\\PGBM-008\\\\06-10-1993-FH-HEADBrain Protocols-26857\\\\36541-sRCBVreg-18649\\\\000009.dcm', 'himanshu'), ('data\\\\PGBM-008\\\\06-10-1993-FH-HEADBrain Protocols-26857\\\\36541-sRCBVreg-18649\\\\000010.dcm', 'himanshu'), ('data\\\\PGBM-008\\\\06-10-1993-FH-HEADBrain Protocols-26857\\\\36541-sRCBVreg-18649\\\\000011.dcm', 'himanshu'), ('data\\\\PGBM-008\\\\06-10-1993-FH-HEADBrain Protocols-26857\\\\36541-sRCBVreg-18649\\\\000012.dcm', 'himanshu'), ('data\\\\PGBM-008\\\\06-10-1993-FH-HEADBrain Protocols-26857\\\\36541-sRCBVreg-18649\\\\000013.dcm', 'himanshu'), ('data\\\\PGBM-008\\\\06-10-1993-FH-HEADBrain Protocols-26857\\\\36541-sRCBVreg-18649\\\\000014.dcm', 'himanshu'), ('data\\\\PGBM-008\\\\06-10-1993-FH-HEADBrain Protocols-26857\\\\36541-sRCBVreg-18649\\\\000015.dcm', 'himanshu'), ('data\\\\PGBM-008\\\\06-10-1993-FH-HEADBrain Protocols-26857\\\\36541-sRCBVreg-18649\\\\000016.dcm', 'himanshu'), ('data\\\\PGBM-008\\\\06-10-1993-FH-HEADBrain Protocols-26857\\\\36541-sRCBVreg-18649\\\\000017.dcm', 'himanshu'), ('data\\\\PGBM-008\\\\06-10-1993-FH-HEADBrain Protocols-26857\\\\36541-sRCBVreg-18649\\\\000018.dcm', 'himanshu'), ('data\\\\PGBM-008\\\\06-10-1993-FH-HEADBrain Protocols-26857\\\\36541-sRCBVreg-18649\\\\000019.dcm', 'himanshu'), ('data\\\\PGBM-008\\\\06-10-1993-FH-HEADBrain Protocols-26857\\\\36541-sRCBVreg-18649\\\\000020.dcm', 'himanshu'), ('data\\\\PGBM-008\\\\06-10-1993-FH-HEADBrain Protocols-26857\\\\36541-sRCBVreg-18649\\\\000021.dcm', 'himanshu')]),\n",
       "       list([('data\\\\PGBM-008\\\\06-10-1993-FH-HEADBrain Protocols-26857\\\\36542-nRCBVreg-64402\\\\000000.dcm', 'himanshu'), ('data\\\\PGBM-008\\\\06-10-1993-FH-HEADBrain Protocols-26857\\\\36542-nRCBVreg-64402\\\\000001.dcm', 'himanshu'), ('data\\\\PGBM-008\\\\06-10-1993-FH-HEADBrain Protocols-26857\\\\36542-nRCBVreg-64402\\\\000002.dcm', 'himanshu'), ('data\\\\PGBM-008\\\\06-10-1993-FH-HEADBrain Protocols-26857\\\\36542-nRCBVreg-64402\\\\000003.dcm', 'himanshu'), ('data\\\\PGBM-008\\\\06-10-1993-FH-HEADBrain Protocols-26857\\\\36542-nRCBVreg-64402\\\\000004.dcm', 'himanshu'), ('data\\\\PGBM-008\\\\06-10-1993-FH-HEADBrain Protocols-26857\\\\36542-nRCBVreg-64402\\\\000005.dcm', 'himanshu'), ('data\\\\PGBM-008\\\\06-10-1993-FH-HEADBrain Protocols-26857\\\\36542-nRCBVreg-64402\\\\000006.dcm', 'himanshu'), ('data\\\\PGBM-008\\\\06-10-1993-FH-HEADBrain Protocols-26857\\\\36542-nRCBVreg-64402\\\\000007.dcm', 'himanshu'), ('data\\\\PGBM-008\\\\06-10-1993-FH-HEADBrain Protocols-26857\\\\36542-nRCBVreg-64402\\\\000008.dcm', 'himanshu'), ('data\\\\PGBM-008\\\\06-10-1993-FH-HEADBrain Protocols-26857\\\\36542-nRCBVreg-64402\\\\000009.dcm', 'himanshu'), ('data\\\\PGBM-008\\\\06-10-1993-FH-HEADBrain Protocols-26857\\\\36542-nRCBVreg-64402\\\\000010.dcm', 'himanshu'), ('data\\\\PGBM-008\\\\06-10-1993-FH-HEADBrain Protocols-26857\\\\36542-nRCBVreg-64402\\\\000011.dcm', 'himanshu'), ('data\\\\PGBM-008\\\\06-10-1993-FH-HEADBrain Protocols-26857\\\\36542-nRCBVreg-64402\\\\000012.dcm', 'himanshu'), ('data\\\\PGBM-008\\\\06-10-1993-FH-HEADBrain Protocols-26857\\\\36542-nRCBVreg-64402\\\\000013.dcm', 'himanshu'), ('data\\\\PGBM-008\\\\06-10-1993-FH-HEADBrain Protocols-26857\\\\36542-nRCBVreg-64402\\\\000014.dcm', 'himanshu'), ('data\\\\PGBM-008\\\\06-10-1993-FH-HEADBrain Protocols-26857\\\\36542-nRCBVreg-64402\\\\000015.dcm', 'himanshu'), ('data\\\\PGBM-008\\\\06-10-1993-FH-HEADBrain Protocols-26857\\\\36542-nRCBVreg-64402\\\\000016.dcm', 'himanshu'), ('data\\\\PGBM-008\\\\06-10-1993-FH-HEADBrain Protocols-26857\\\\36542-nRCBVreg-64402\\\\000017.dcm', 'himanshu'), ('data\\\\PGBM-008\\\\06-10-1993-FH-HEADBrain Protocols-26857\\\\36542-nRCBVreg-64402\\\\000018.dcm', 'himanshu'), ('data\\\\PGBM-008\\\\06-10-1993-FH-HEADBrain Protocols-26857\\\\36542-nRCBVreg-64402\\\\000019.dcm', 'himanshu'), ('data\\\\PGBM-008\\\\06-10-1993-FH-HEADBrain Protocols-26857\\\\36542-nRCBVreg-64402\\\\000020.dcm', 'himanshu'), ('data\\\\PGBM-008\\\\06-10-1993-FH-HEADBrain Protocols-26857\\\\36542-nRCBVreg-64402\\\\000021.dcm', 'himanshu')]),\n",
       "       list([('data\\\\PGBM-008\\\\06-10-1993-FH-HEADBrain Protocols-26857\\\\36543-nCBFreg-41613\\\\000000.dcm', 'himanshu'), ('data\\\\PGBM-008\\\\06-10-1993-FH-HEADBrain Protocols-26857\\\\36543-nCBFreg-41613\\\\000001.dcm', 'himanshu'), ('data\\\\PGBM-008\\\\06-10-1993-FH-HEADBrain Protocols-26857\\\\36543-nCBFreg-41613\\\\000002.dcm', 'himanshu'), ('data\\\\PGBM-008\\\\06-10-1993-FH-HEADBrain Protocols-26857\\\\36543-nCBFreg-41613\\\\000003.dcm', 'himanshu'), ('data\\\\PGBM-008\\\\06-10-1993-FH-HEADBrain Protocols-26857\\\\36543-nCBFreg-41613\\\\000004.dcm', 'himanshu'), ('data\\\\PGBM-008\\\\06-10-1993-FH-HEADBrain Protocols-26857\\\\36543-nCBFreg-41613\\\\000005.dcm', 'himanshu'), ('data\\\\PGBM-008\\\\06-10-1993-FH-HEADBrain Protocols-26857\\\\36543-nCBFreg-41613\\\\000006.dcm', 'himanshu'), ('data\\\\PGBM-008\\\\06-10-1993-FH-HEADBrain Protocols-26857\\\\36543-nCBFreg-41613\\\\000007.dcm', 'himanshu'), ('data\\\\PGBM-008\\\\06-10-1993-FH-HEADBrain Protocols-26857\\\\36543-nCBFreg-41613\\\\000008.dcm', 'himanshu'), ('data\\\\PGBM-008\\\\06-10-1993-FH-HEADBrain Protocols-26857\\\\36543-nCBFreg-41613\\\\000009.dcm', 'himanshu'), ('data\\\\PGBM-008\\\\06-10-1993-FH-HEADBrain Protocols-26857\\\\36543-nCBFreg-41613\\\\000010.dcm', 'himanshu'), ('data\\\\PGBM-008\\\\06-10-1993-FH-HEADBrain Protocols-26857\\\\36543-nCBFreg-41613\\\\000011.dcm', 'himanshu'), ('data\\\\PGBM-008\\\\06-10-1993-FH-HEADBrain Protocols-26857\\\\36543-nCBFreg-41613\\\\000012.dcm', 'himanshu'), ('data\\\\PGBM-008\\\\06-10-1993-FH-HEADBrain Protocols-26857\\\\36543-nCBFreg-41613\\\\000013.dcm', 'himanshu'), ('data\\\\PGBM-008\\\\06-10-1993-FH-HEADBrain Protocols-26857\\\\36543-nCBFreg-41613\\\\000014.dcm', 'himanshu'), ('data\\\\PGBM-008\\\\06-10-1993-FH-HEADBrain Protocols-26857\\\\36543-nCBFreg-41613\\\\000015.dcm', 'himanshu'), ('data\\\\PGBM-008\\\\06-10-1993-FH-HEADBrain Protocols-26857\\\\36543-nCBFreg-41613\\\\000016.dcm', 'himanshu'), ('data\\\\PGBM-008\\\\06-10-1993-FH-HEADBrain Protocols-26857\\\\36543-nCBFreg-41613\\\\000017.dcm', 'himanshu'), ('data\\\\PGBM-008\\\\06-10-1993-FH-HEADBrain Protocols-26857\\\\36543-nCBFreg-41613\\\\000018.dcm', 'himanshu'), ('data\\\\PGBM-008\\\\06-10-1993-FH-HEADBrain Protocols-26857\\\\36543-nCBFreg-41613\\\\000019.dcm', 'himanshu'), ('data\\\\PGBM-008\\\\06-10-1993-FH-HEADBrain Protocols-26857\\\\36543-nCBFreg-41613\\\\000020.dcm', 'himanshu'), ('data\\\\PGBM-008\\\\06-10-1993-FH-HEADBrain Protocols-26857\\\\36543-nCBFreg-41613\\\\000021.dcm', 'himanshu')]),\n",
       "       list([('data\\\\PGBM-008\\\\06-10-1993-FH-HEADBrain Protocols-26857\\\\37756-T2reg-33794\\\\000000.dcm', 'himanshu'), ('data\\\\PGBM-008\\\\06-10-1993-FH-HEADBrain Protocols-26857\\\\37756-T2reg-33794\\\\000001.dcm', 'himanshu'), ('data\\\\PGBM-008\\\\06-10-1993-FH-HEADBrain Protocols-26857\\\\37756-T2reg-33794\\\\000002.dcm', 'himanshu'), ('data\\\\PGBM-008\\\\06-10-1993-FH-HEADBrain Protocols-26857\\\\37756-T2reg-33794\\\\000003.dcm', 'himanshu'), ('data\\\\PGBM-008\\\\06-10-1993-FH-HEADBrain Protocols-26857\\\\37756-T2reg-33794\\\\000004.dcm', 'himanshu'), ('data\\\\PGBM-008\\\\06-10-1993-FH-HEADBrain Protocols-26857\\\\37756-T2reg-33794\\\\000005.dcm', 'himanshu'), ('data\\\\PGBM-008\\\\06-10-1993-FH-HEADBrain Protocols-26857\\\\37756-T2reg-33794\\\\000006.dcm', 'himanshu'), ('data\\\\PGBM-008\\\\06-10-1993-FH-HEADBrain Protocols-26857\\\\37756-T2reg-33794\\\\000007.dcm', 'himanshu'), ('data\\\\PGBM-008\\\\06-10-1993-FH-HEADBrain Protocols-26857\\\\37756-T2reg-33794\\\\000008.dcm', 'himanshu'), ('data\\\\PGBM-008\\\\06-10-1993-FH-HEADBrain Protocols-26857\\\\37756-T2reg-33794\\\\000009.dcm', 'himanshu'), ('data\\\\PGBM-008\\\\06-10-1993-FH-HEADBrain Protocols-26857\\\\37756-T2reg-33794\\\\000010.dcm', 'himanshu'), ('data\\\\PGBM-008\\\\06-10-1993-FH-HEADBrain Protocols-26857\\\\37756-T2reg-33794\\\\000011.dcm', 'himanshu'), ('data\\\\PGBM-008\\\\06-10-1993-FH-HEADBrain Protocols-26857\\\\37756-T2reg-33794\\\\000012.dcm', 'himanshu'), ('data\\\\PGBM-008\\\\06-10-1993-FH-HEADBrain Protocols-26857\\\\37756-T2reg-33794\\\\000013.dcm', 'himanshu'), ('data\\\\PGBM-008\\\\06-10-1993-FH-HEADBrain Protocols-26857\\\\37756-T2reg-33794\\\\000014.dcm', 'himanshu'), ('data\\\\PGBM-008\\\\06-10-1993-FH-HEADBrain Protocols-26857\\\\37756-T2reg-33794\\\\000015.dcm', 'himanshu'), ('data\\\\PGBM-008\\\\06-10-1993-FH-HEADBrain Protocols-26857\\\\37756-T2reg-33794\\\\000016.dcm', 'himanshu'), ('data\\\\PGBM-008\\\\06-10-1993-FH-HEADBrain Protocols-26857\\\\37756-T2reg-33794\\\\000017.dcm', 'himanshu'), ('data\\\\PGBM-008\\\\06-10-1993-FH-HEADBrain Protocols-26857\\\\37756-T2reg-33794\\\\000018.dcm', 'himanshu'), ('data\\\\PGBM-008\\\\06-10-1993-FH-HEADBrain Protocols-26857\\\\37756-T2reg-33794\\\\000019.dcm', 'himanshu'), ('data\\\\PGBM-008\\\\06-10-1993-FH-HEADBrain Protocols-26857\\\\37756-T2reg-33794\\\\000020.dcm', 'himanshu'), ('data\\\\PGBM-008\\\\06-10-1993-FH-HEADBrain Protocols-26857\\\\37756-T2reg-33794\\\\000021.dcm', 'himanshu')]),\n",
       "       list([('data\\\\PGBM-008\\\\06-10-1993-FH-HEADBrain Protocols-26857\\\\5355-MaskTumor-76568\\\\000000.dcm', 'himanshu'), ('data\\\\PGBM-008\\\\06-10-1993-FH-HEADBrain Protocols-26857\\\\5355-MaskTumor-76568\\\\000001.dcm', 'himanshu'), ('data\\\\PGBM-008\\\\06-10-1993-FH-HEADBrain Protocols-26857\\\\5355-MaskTumor-76568\\\\000002.dcm', 'himanshu'), ('data\\\\PGBM-008\\\\06-10-1993-FH-HEADBrain Protocols-26857\\\\5355-MaskTumor-76568\\\\000003.dcm', 'himanshu'), ('data\\\\PGBM-008\\\\06-10-1993-FH-HEADBrain Protocols-26857\\\\5355-MaskTumor-76568\\\\000004.dcm', 'himanshu'), ('data\\\\PGBM-008\\\\06-10-1993-FH-HEADBrain Protocols-26857\\\\5355-MaskTumor-76568\\\\000005.dcm', 'himanshu'), ('data\\\\PGBM-008\\\\06-10-1993-FH-HEADBrain Protocols-26857\\\\5355-MaskTumor-76568\\\\000006.dcm', 'himanshu'), ('data\\\\PGBM-008\\\\06-10-1993-FH-HEADBrain Protocols-26857\\\\5355-MaskTumor-76568\\\\000007.dcm', 'himanshu'), ('data\\\\PGBM-008\\\\06-10-1993-FH-HEADBrain Protocols-26857\\\\5355-MaskTumor-76568\\\\000008.dcm', 'himanshu'), ('data\\\\PGBM-008\\\\06-10-1993-FH-HEADBrain Protocols-26857\\\\5355-MaskTumor-76568\\\\000009.dcm', 'himanshu'), ('data\\\\PGBM-008\\\\06-10-1993-FH-HEADBrain Protocols-26857\\\\5355-MaskTumor-76568\\\\000010.dcm', 'himanshu'), ('data\\\\PGBM-008\\\\06-10-1993-FH-HEADBrain Protocols-26857\\\\5355-MaskTumor-76568\\\\000011.dcm', 'himanshu'), ('data\\\\PGBM-008\\\\06-10-1993-FH-HEADBrain Protocols-26857\\\\5355-MaskTumor-76568\\\\000012.dcm', 'himanshu'), ('data\\\\PGBM-008\\\\06-10-1993-FH-HEADBrain Protocols-26857\\\\5355-MaskTumor-76568\\\\000013.dcm', 'himanshu'), ('data\\\\PGBM-008\\\\06-10-1993-FH-HEADBrain Protocols-26857\\\\5355-MaskTumor-76568\\\\000014.dcm', 'himanshu'), ('data\\\\PGBM-008\\\\06-10-1993-FH-HEADBrain Protocols-26857\\\\5355-MaskTumor-76568\\\\000015.dcm', 'himanshu'), ('data\\\\PGBM-008\\\\06-10-1993-FH-HEADBrain Protocols-26857\\\\5355-MaskTumor-76568\\\\000016.dcm', 'himanshu'), ('data\\\\PGBM-008\\\\06-10-1993-FH-HEADBrain Protocols-26857\\\\5355-MaskTumor-76568\\\\000017.dcm', 'himanshu'), ('data\\\\PGBM-008\\\\06-10-1993-FH-HEADBrain Protocols-26857\\\\5355-MaskTumor-76568\\\\000018.dcm', 'himanshu'), ('data\\\\PGBM-008\\\\06-10-1993-FH-HEADBrain Protocols-26857\\\\5355-MaskTumor-76568\\\\000019.dcm', 'himanshu'), ('data\\\\PGBM-008\\\\06-10-1993-FH-HEADBrain Protocols-26857\\\\5355-MaskTumor-76568\\\\000020.dcm', 'himanshu'), ('data\\\\PGBM-008\\\\06-10-1993-FH-HEADBrain Protocols-26857\\\\5355-MaskTumor-76568\\\\000021.dcm', 'himanshu')])],\n",
       "      dtype=object)"
      ]
     },
     "execution_count": 78,
     "metadata": {},
     "output_type": "execute_result"
    }
   ],
   "source": [
    "hc"
   ]
  },
  {
   "cell_type": "code",
   "execution_count": 63,
   "metadata": {},
   "outputs": [
    {
     "data": {
      "text/plain": [
       "[('data\\\\PGBM-001\\\\04-02-1992-FH-HEADBrain Protocols-79896\\\\29904-dT1-04743\\\\000000.dcm',\n",
       "  'himanshu'),\n",
       " ('data\\\\PGBM-001\\\\04-02-1992-FH-HEADBrain Protocols-79896\\\\29904-dT1-04743\\\\000001.dcm',\n",
       "  'himanshu'),\n",
       " ('data\\\\PGBM-001\\\\04-02-1992-FH-HEADBrain Protocols-79896\\\\29904-dT1-04743\\\\000002.dcm',\n",
       "  'himanshu'),\n",
       " ('data\\\\PGBM-001\\\\04-02-1992-FH-HEADBrain Protocols-79896\\\\29904-dT1-04743\\\\000003.dcm',\n",
       "  'himanshu'),\n",
       " ('data\\\\PGBM-001\\\\04-02-1992-FH-HEADBrain Protocols-79896\\\\29904-dT1-04743\\\\000004.dcm',\n",
       "  'himanshu'),\n",
       " ('data\\\\PGBM-001\\\\04-02-1992-FH-HEADBrain Protocols-79896\\\\29904-dT1-04743\\\\000005.dcm',\n",
       "  'himanshu'),\n",
       " ('data\\\\PGBM-001\\\\04-02-1992-FH-HEADBrain Protocols-79896\\\\29904-dT1-04743\\\\000006.dcm',\n",
       "  'himanshu'),\n",
       " ('data\\\\PGBM-001\\\\04-02-1992-FH-HEADBrain Protocols-79896\\\\29904-dT1-04743\\\\000007.dcm',\n",
       "  'himanshu'),\n",
       " ('data\\\\PGBM-001\\\\04-02-1992-FH-HEADBrain Protocols-79896\\\\29904-dT1-04743\\\\000008.dcm',\n",
       "  'himanshu'),\n",
       " ('data\\\\PGBM-001\\\\04-02-1992-FH-HEADBrain Protocols-79896\\\\29904-dT1-04743\\\\000009.dcm',\n",
       "  'himanshu'),\n",
       " ('data\\\\PGBM-001\\\\04-02-1992-FH-HEADBrain Protocols-79896\\\\29904-dT1-04743\\\\000010.dcm',\n",
       "  'himanshu'),\n",
       " ('data\\\\PGBM-001\\\\04-02-1992-FH-HEADBrain Protocols-79896\\\\29904-dT1-04743\\\\000011.dcm',\n",
       "  'himanshu'),\n",
       " ('data\\\\PGBM-001\\\\04-02-1992-FH-HEADBrain Protocols-79896\\\\29904-dT1-04743\\\\000012.dcm',\n",
       "  'himanshu'),\n",
       " ('data\\\\PGBM-001\\\\04-02-1992-FH-HEADBrain Protocols-79896\\\\29904-dT1-04743\\\\000013.dcm',\n",
       "  'himanshu'),\n",
       " ('data\\\\PGBM-001\\\\04-02-1992-FH-HEADBrain Protocols-79896\\\\29904-dT1-04743\\\\000014.dcm',\n",
       "  'himanshu'),\n",
       " ('data\\\\PGBM-001\\\\04-02-1992-FH-HEADBrain Protocols-79896\\\\29904-dT1-04743\\\\000015.dcm',\n",
       "  'himanshu'),\n",
       " ('data\\\\PGBM-001\\\\04-02-1992-FH-HEADBrain Protocols-79896\\\\29904-dT1-04743\\\\000016.dcm',\n",
       "  'himanshu'),\n",
       " ('data\\\\PGBM-001\\\\04-02-1992-FH-HEADBrain Protocols-79896\\\\29904-dT1-04743\\\\000017.dcm',\n",
       "  'himanshu'),\n",
       " ('data\\\\PGBM-001\\\\04-02-1992-FH-HEADBrain Protocols-79896\\\\29904-dT1-04743\\\\000018.dcm',\n",
       "  'himanshu'),\n",
       " ('data\\\\PGBM-001\\\\04-02-1992-FH-HEADBrain Protocols-79896\\\\29904-dT1-04743\\\\000019.dcm',\n",
       "  'himanshu'),\n",
       " ('data\\\\PGBM-001\\\\04-02-1992-FH-HEADBrain Protocols-79896\\\\29904-dT1-04743\\\\000020.dcm',\n",
       "  'himanshu'),\n",
       " ('data\\\\PGBM-001\\\\04-02-1992-FH-HEADBrain Protocols-79896\\\\29904-dT1-04743\\\\000021.dcm',\n",
       "  'himanshu'),\n",
       " ('data\\\\PGBM-001\\\\04-02-1992-FH-HEADBrain Protocols-79896\\\\29904-dT1-04743\\\\000022.dcm',\n",
       "  'himanshu'),\n",
       " ('data\\\\PGBM-001\\\\04-02-1992-FH-HEADBrain Protocols-79896\\\\29904-dT1-04743\\\\000023.dcm',\n",
       "  'himanshu')]"
      ]
     },
     "execution_count": 63,
     "metadata": {},
     "output_type": "execute_result"
    }
   ],
   "source": [
    "hc[1]"
   ]
  },
  {
   "cell_type": "code",
   "execution_count": 64,
   "metadata": {},
   "outputs": [
    {
     "data": {
      "text/plain": [
       "[('data\\\\PGBM-008\\\\03-31-1992-MR RCBV SEQUENCE FH-67056\\\\000000.dcm',\n",
       "  'himanshu'),\n",
       " ('data\\\\PGBM-008\\\\03-31-1992-MR RCBV SEQUENCE FH-67056\\\\000001.dcm',\n",
       "  'himanshu'),\n",
       " ('data\\\\PGBM-008\\\\03-31-1992-MR RCBV SEQUENCE FH-67056\\\\000002.dcm',\n",
       "  'himanshu'),\n",
       " ('data\\\\PGBM-008\\\\03-31-1992-MR RCBV SEQUENCE FH-67056\\\\000003.dcm',\n",
       "  'himanshu'),\n",
       " ('data\\\\PGBM-008\\\\03-31-1992-MR RCBV SEQUENCE FH-67056\\\\000004.dcm',\n",
       "  'himanshu'),\n",
       " ('data\\\\PGBM-008\\\\03-31-1992-MR RCBV SEQUENCE FH-67056\\\\000005.dcm',\n",
       "  'himanshu'),\n",
       " ('data\\\\PGBM-008\\\\03-31-1992-MR RCBV SEQUENCE FH-67056\\\\000006.dcm',\n",
       "  'himanshu'),\n",
       " ('data\\\\PGBM-008\\\\03-31-1992-MR RCBV SEQUENCE FH-67056\\\\000007.dcm',\n",
       "  'himanshu'),\n",
       " ('data\\\\PGBM-008\\\\03-31-1992-MR RCBV SEQUENCE FH-67056\\\\000008.dcm',\n",
       "  'himanshu'),\n",
       " ('data\\\\PGBM-008\\\\03-31-1992-MR RCBV SEQUENCE FH-67056\\\\000009.dcm',\n",
       "  'himanshu'),\n",
       " ('data\\\\PGBM-008\\\\03-31-1992-MR RCBV SEQUENCE FH-67056\\\\000010.dcm',\n",
       "  'himanshu'),\n",
       " ('data\\\\PGBM-008\\\\03-31-1992-MR RCBV SEQUENCE FH-67056\\\\000011.dcm',\n",
       "  'himanshu'),\n",
       " ('data\\\\PGBM-008\\\\03-31-1992-MR RCBV SEQUENCE FH-67056\\\\000012.dcm',\n",
       "  'himanshu'),\n",
       " ('data\\\\PGBM-008\\\\03-31-1992-MR RCBV SEQUENCE FH-67056\\\\000013.dcm',\n",
       "  'himanshu'),\n",
       " ('data\\\\PGBM-008\\\\03-31-1992-MR RCBV SEQUENCE FH-67056\\\\000014.dcm',\n",
       "  'himanshu'),\n",
       " ('data\\\\PGBM-008\\\\03-31-1992-MR RCBV SEQUENCE FH-67056\\\\000015.dcm',\n",
       "  'himanshu'),\n",
       " ('data\\\\PGBM-008\\\\03-31-1992-MR RCBV SEQUENCE FH-67056\\\\000016.dcm',\n",
       "  'himanshu'),\n",
       " ('data\\\\PGBM-008\\\\03-31-1992-MR RCBV SEQUENCE FH-67056\\\\000017.dcm',\n",
       "  'himanshu'),\n",
       " ('data\\\\PGBM-008\\\\03-31-1992-MR RCBV SEQUENCE FH-67056\\\\000018.dcm',\n",
       "  'himanshu'),\n",
       " ('data\\\\PGBM-008\\\\03-31-1992-MR RCBV SEQUENCE FH-67056\\\\000019.dcm',\n",
       "  'himanshu'),\n",
       " ('data\\\\PGBM-008\\\\03-31-1992-MR RCBV SEQUENCE FH-67056\\\\000020.dcm',\n",
       "  'himanshu'),\n",
       " ('data\\\\PGBM-008\\\\03-31-1992-MR RCBV SEQUENCE FH-67056\\\\000021.dcm',\n",
       "  'himanshu'),\n",
       " ('data\\\\PGBM-008\\\\03-31-1992-MR RCBV SEQUENCE FH-67056\\\\000022.dcm',\n",
       "  'himanshu'),\n",
       " ('data\\\\PGBM-008\\\\03-31-1992-MR RCBV SEQUENCE FH-67056\\\\000023.dcm',\n",
       "  'himanshu')]"
      ]
     },
     "execution_count": 64,
     "metadata": {},
     "output_type": "execute_result"
    }
   ],
   "source": [
    "hc[56]"
   ]
  },
  {
   "cell_type": "code",
   "execution_count": 56,
   "metadata": {},
   "outputs": [
    {
     "data": {
      "text/plain": [
       "('data\\\\PGBM-001\\\\04-02-1992-FH-HEADBrain Protocols-79896\\\\11-T1post-80644\\\\000000.dcm',\n",
       " 'himanshu')"
      ]
     },
     "execution_count": 56,
     "metadata": {},
     "output_type": "execute_result"
    }
   ],
   "source": [
    "hc[0][0]"
   ]
  },
  {
   "cell_type": "code",
   "execution_count": 65,
   "metadata": {},
   "outputs": [
    {
     "data": {
      "text/plain": [
       "'data\\\\PGBM-001\\\\04-02-1992-FH-HEADBrain Protocols-79896\\\\11-T1post-80644\\\\000000.dcm'"
      ]
     },
     "execution_count": 65,
     "metadata": {},
     "output_type": "execute_result"
    }
   ],
   "source": [
    "hc[0][0][0]"
   ]
  },
  {
   "cell_type": "code",
   "execution_count": 37,
   "metadata": {},
   "outputs": [
    {
     "data": {
      "text/plain": [
       "(76,)"
      ]
     },
     "execution_count": 37,
     "metadata": {},
     "output_type": "execute_result"
    }
   ],
   "source": [
    "series.shape"
   ]
  },
  {
   "cell_type": "markdown",
   "metadata": {},
   "source": [
    "Let's print a few, see what we've got:"
   ]
  },
  {
   "cell_type": "code",
   "execution_count": 69,
   "metadata": {},
   "outputs": [
    {
     "data": {
      "text/plain": [
       "'data\\\\PGBM-001\\\\04-02-1992-FH-HEADBrain Protocols-79896\\\\11-T1post-80644\\\\000000.dcm'"
      ]
     },
     "execution_count": 69,
     "metadata": {},
     "output_type": "execute_result"
    }
   ],
   "source": [
    "series[0][0][0]"
   ]
  },
  {
   "cell_type": "code",
   "execution_count": 38,
   "metadata": {},
   "outputs": [
    {
     "data": {
      "text/plain": [
       "Dataset.file_meta -------------------------------\n",
       "(0002, 0000) File Meta Information Group Length  UL: 196\n",
       "(0002, 0001) File Meta Information Version       OB: b'\\x00\\x01'\n",
       "(0002, 0002) Media Storage SOP Class UID         UI: MR Image Storage\n",
       "(0002, 0003) Media Storage SOP Instance UID      UI: 1.3.6.1.4.1.14519.5.2.1.4429.7055.212678899297267240422481182702\n",
       "(0002, 0010) Transfer Syntax UID                 UI: Explicit VR Little Endian\n",
       "(0002, 0012) Implementation Class UID            UI: 1.2.40.0.13.1.1.1\n",
       "(0002, 0013) Implementation Version Name         SH: 'dcm4che-1.4.35'\n",
       "-------------------------------------------------\n",
       "(0008, 0005) Specific Character Set              CS: 'ISO_IR 100'\n",
       "(0008, 0008) Image Type                          CS: ['ORIGINAL', 'PRIMARY', 'M', 'NORM', 'DIS2D']\n",
       "(0008, 0012) Instance Creation Date              DA: '19920402'\n",
       "(0008, 0013) Instance Creation Time              TM: '091823.390000'\n",
       "(0008, 0016) SOP Class UID                       UI: MR Image Storage\n",
       "(0008, 0018) SOP Instance UID                    UI: 1.3.6.1.4.1.14519.5.2.1.4429.7055.212678899297267240422481182702\n",
       "(0008, 0020) Study Date                          DA: '19920402'\n",
       "(0008, 0021) Series Date                         DA: '19920402'\n",
       "(0008, 0022) Acquisition Date                    DA: '19920402'\n",
       "(0008, 0023) Content Date                        DA: '19920402'\n",
       "(0008, 0030) Study Time                          TM: '085321.125000'\n",
       "(0008, 0031) Series Time                         TM: '091823.359000'\n",
       "(0008, 0032) Acquisition Time                    TM: '091547.005000'\n",
       "(0008, 0033) Content Time                        TM: '091823.390000'\n",
       "(0008, 0050) Accession Number                    SH: '5686274134839343'\n",
       "(0008, 0060) Modality                            CS: 'MR'\n",
       "(0008, 0070) Manufacturer                        LO: 'SIEMENS'\n",
       "(0008, 0090) Referring Physician's Name          PN: ''\n",
       "(0008, 1030) Study Description                   LO: 'FH-HEAD^Brain Protocols'\n",
       "(0008, 103e) Series Description                  LO: 'T1post'\n",
       "(0008, 1090) Manufacturer's Model Name           LO: 'Verio'\n",
       "(0008, 1140)  Referenced Image Sequence   3 item(s) ---- \n",
       "   (0008, 1150) Referenced SOP Class UID            UI: MR Image Storage\n",
       "   (0008, 1155) Referenced SOP Instance UID         UI: 1.3.6.1.4.1.14519.5.2.1.4429.7055.331846621914089755277982759291\n",
       "   ---------\n",
       "   (0008, 1150) Referenced SOP Class UID            UI: MR Image Storage\n",
       "   (0008, 1155) Referenced SOP Instance UID         UI: 1.3.6.1.4.1.14519.5.2.1.4429.7055.119748453602968618792965389423\n",
       "   ---------\n",
       "   (0008, 1150) Referenced SOP Class UID            UI: MR Image Storage\n",
       "   (0008, 1155) Referenced SOP Instance UID         UI: 1.3.6.1.4.1.14519.5.2.1.4429.7055.320230819474970716419167382910\n",
       "   ---------\n",
       "(0010, 0010) Patient's Name                      PN: 'PGBM-001'\n",
       "(0010, 0020) Patient ID                          LO: 'PGBM-001'\n",
       "(0010, 0030) Patient's Birth Date                DA: ''\n",
       "(0010, 0040) Patient's Sex                       CS: 'M'\n",
       "(0010, 1010) Patient's Age                       AS: '052Y'\n",
       "(0010, 1030) Patient's Weight                    DS: \"170.5507528152\"\n",
       "(0012, 0062) Patient Identity Removed            CS: 'YES'\n",
       "(0012, 0063) De-identification Method            LO: 'Per DICOM PS 3.15 AnnexE. Details in 0012,0064'\n",
       "(0012, 0064)  De-identification Method Code Sequence   8 item(s) ---- \n",
       "   (0008, 0100) Code Value                          SH: '113100'\n",
       "   (0008, 0102) Coding Scheme Designator            SH: 'DCM'\n",
       "   (0008, 0104) Code Meaning                        LO: 'Basic Application Confidentiality Profile'\n",
       "   ---------\n",
       "   (0008, 0100) Code Value                          SH: '113101'\n",
       "   (0008, 0102) Coding Scheme Designator            SH: 'DCM'\n",
       "   (0008, 0104) Code Meaning                        LO: 'Clean Pixel Data Option'\n",
       "   ---------\n",
       "   (0008, 0100) Code Value                          SH: '113104'\n",
       "   (0008, 0102) Coding Scheme Designator            SH: 'DCM'\n",
       "   (0008, 0104) Code Meaning                        LO: 'Clean Structured Content Option'\n",
       "   ---------\n",
       "   (0008, 0100) Code Value                          SH: '113105'\n",
       "   (0008, 0102) Coding Scheme Designator            SH: 'DCM'\n",
       "   (0008, 0104) Code Meaning                        LO: 'Clean Descriptors Option'\n",
       "   ---------\n",
       "   (0008, 0100) Code Value                          SH: '113107'\n",
       "   (0008, 0102) Coding Scheme Designator            SH: 'DCM'\n",
       "   (0008, 0104) Code Meaning                        LO: 'Retain Longitudinal Temporal Information Modified Dates Option'\n",
       "   ---------\n",
       "   (0008, 0100) Code Value                          SH: '113108'\n",
       "   (0008, 0102) Coding Scheme Designator            SH: 'DCM'\n",
       "   (0008, 0104) Code Meaning                        LO: 'Retain Patient Characteristics Option'\n",
       "   ---------\n",
       "   (0008, 0100) Code Value                          SH: '113109'\n",
       "   (0008, 0102) Coding Scheme Designator            SH: 'DCM'\n",
       "   (0008, 0104) Code Meaning                        LO: 'Retain Device Identity Option'\n",
       "   ---------\n",
       "   (0008, 0100) Code Value                          SH: '113111'\n",
       "   (0008, 0102) Coding Scheme Designator            SH: 'DCM'\n",
       "   (0008, 0104) Code Meaning                        LO: 'Retain Safe Private Option'\n",
       "   ---------\n",
       "(0013, 0010) Private Creator                     LO: 'CTP'\n",
       "(0013, 1010) Private tag data                    LO: 'Brain-Tumor-Progression'\n",
       "(0013, 1013) Private tag data                    LO: '44297055'\n",
       "(0018, 0010) Contrast/Bolus Agent                LO: '10cc Multihance'\n",
       "(0018, 0015) Body Part Examined                  CS: 'BRAIN'\n",
       "(0018, 0020) Scanning Sequence                   CS: 'SE'\n",
       "(0018, 0021) Sequence Variant                    CS: 'SP'\n",
       "(0018, 0022) Scan Options                        CS: ''\n",
       "(0018, 0023) MR Acquisition Type                 CS: '2D'\n",
       "(0018, 0024) Sequence Name                       SH: '*se2d1'\n",
       "(0018, 0025) Angio Flag                          CS: 'N'\n",
       "(0018, 0050) Slice Thickness                     DS: \"5.0\"\n",
       "(0018, 0080) Repetition Time                     DS: \"600.0\"\n",
       "(0018, 0081) Echo Time                           DS: \"8.9\"\n",
       "(0018, 0083) Number of Averages                  DS: \"1.0\"\n",
       "(0018, 0084) Imaging Frequency                   DS: \"123.191547\"\n",
       "(0018, 0085) Imaged Nucleus                      SH: '1H'\n",
       "(0018, 0086) Echo Number(s)                      IS: \"1\"\n",
       "(0018, 0087) Magnetic Field Strength             DS: \"3.0\"\n",
       "(0018, 0088) Spacing Between Slices              DS: \"6.5\"\n",
       "(0018, 0089) Number of Phase Encoding Steps      IS: \"260\"\n",
       "(0018, 0091) Echo Train Length                   IS: \"1\"\n",
       "(0018, 0093) Percent Sampling                    DS: \"100.0\"\n",
       "(0018, 0094) Percent Phase Field of View         DS: \"81.25\"\n",
       "(0018, 0095) Pixel Bandwidth                     DS: \"300.0\"\n",
       "(0018, 1020) Software Versions                   LO: 'syngo MR B17'\n",
       "(0018, 1030) Protocol Name                       LO: 'B T1 AXIAL SE +'\n",
       "(0018, 1041) Contrast/Bolus Volume               DS: \"0.0\"\n",
       "(0018, 1044) Contrast/Bolus Total Dose           DS: \"0.0\"\n",
       "(0018, 1048) Contrast/Bolus Ingredient           CS: ''\n",
       "(0018, 1049) Contrast/Bolus Ingredient Concentra DS: \"0.0\"\n",
       "(0018, 1251) Transmit Coil Name                  SH: 'Body'\n",
       "(0018, 1310) Acquisition Matrix                  US: [0, 320, 260, 0]\n",
       "(0018, 1312) In-plane Phase Encoding Direction   CS: 'ROW'\n",
       "(0018, 1314) Flip Angle                          DS: \"75.0\"\n",
       "(0018, 1315) Variable Flip Angle Flag            CS: 'N'\n",
       "(0018, 1316) SAR                                 DS: \"0.16400433528246\"\n",
       "(0018, 1318) dB/dt                               DS: \"0.0\"\n",
       "(0018, 5100) Patient Position                    CS: 'HFS'\n",
       "(0019, 0010) Private Creator                     LO: 'SIEMENS MR HEADER'\n",
       "(0019, 100b) [SliceMeasurementDuration]          DS: \"156025.0\"\n",
       "(0019, 100f) [GradientMode]                      SH: 'Fast'\n",
       "(0019, 1011) [FlowCompensation]                  SH: 'No'\n",
       "(0019, 1012) [TablePositionOrigin]               SL: [0, 0, -1055]\n",
       "(0019, 1013) [ImaAbsTablePosition]               SL: [0, 0, -1056]\n",
       "(0019, 1014) [ImaRelTablePosition]               IS: [0, 0, -1]\n",
       "(0019, 1015) [SlicePosition_PCS]                 FD: [-90.14351527, -97.56863657, 48.31662081]\n",
       "(0019, 1016) [TimeAfterStart]                    DS: \"0.2025\"\n",
       "(0019, 1017) [SliceResolution]                   DS: \"1.0\"\n",
       "(0019, 1018) [RealDwellTime]                     IS: \"5200\"\n",
       "(0020, 000d) Study Instance UID                  UI: 1.3.6.1.4.1.14519.5.2.1.4429.7055.304625516276205756661744279896\n",
       "(0020, 000e) Series Instance UID                 UI: 1.3.6.1.4.1.14519.5.2.1.4429.7055.197322826283777183783875680644\n",
       "(0020, 0010) Study ID                            SH: ''\n",
       "(0020, 0011) Series Number                       IS: \"11\"\n",
       "(0020, 0012) Acquisition Number                  IS: \"1\"\n",
       "(0020, 0013) Instance Number                     IS: \"18\"\n",
       "(0020, 0032) Image Position (Patient)            DS: [-90.143515272892, -97.568636566892, 47.316620808119]\n",
       "(0020, 0037) Image Orientation (Patient)         DS: [0.99808053354361, 0.01024095353456, 0.06107676671215, -1.68246e-011, 0.98623243279598, -0.1653650159536]\n",
       "(0020, 0052) Frame of Reference UID              UI: 1.3.6.1.4.1.14519.5.2.1.4429.7055.234636093837714637328935526796\n",
       "(0020, 1040) Position Reference Indicator        LO: ''\n",
       "(0020, 1041) Slice Location                      DS: \"36.054676506731\"\n",
       "(0028, 0002) Samples per Pixel                   US: 1\n",
       "(0028, 0004) Photometric Interpretation          CS: 'MONOCHROME2'\n",
       "(0028, 0010) Rows                                US: 320\n",
       "(0028, 0011) Columns                             US: 260\n",
       "(0028, 0030) Pixel Spacing                       DS: [0.6875, 0.6875]\n",
       "(0028, 0100) Bits Allocated                      US: 16\n",
       "(0028, 0101) Bits Stored                         US: 12\n",
       "(0028, 0102) High Bit                            US: 11\n",
       "(0028, 0103) Pixel Representation                US: 0\n",
       "(0028, 0106) Smallest Image Pixel Value          US: 0\n",
       "(0028, 0107) Largest Image Pixel Value           US: 1432\n",
       "(0028, 0303) Longitudinal Temporal Information M CS: 'MODIFIED'\n",
       "(0028, 1050) Window Center                       DS: \"567.0\"\n",
       "(0028, 1051) Window Width                        DS: \"1195.0\"\n",
       "(0028, 1055) Window Center & Width Explanation   LO: 'Algo1'\n",
       "(0029, 0010) Private Creator                     LO: 'SIEMENS CSA HEADER'\n",
       "(0029, 0011) Private Creator                     LO: 'SIEMENS MEDCOM HEADER2'\n",
       "(0029, 1160) [Series Workflow Status]            LO: 'com'\n",
       "(0032, 1060) Requested Procedure Description     LO: 'MR RCBV SEQUENCE FH'\n",
       "(0040, 0244) Performed Procedure Step Start Date DA: '19920402'\n",
       "(0040, 0245) Performed Procedure Step Start Time TM: '085321.203000'\n",
       "(0040, 0254) Performed Procedure Step Descriptio LO: 'MR RCBV SEQUENCE FH'\n",
       "(0051, 0010) Private Creator                     LO: 'SIEMENS MR HEADER'"
      ]
     },
     "execution_count": 38,
     "metadata": {},
     "output_type": "execute_result"
    }
   ],
   "source": [
    "series[0][0][1]"
   ]
  },
  {
   "cell_type": "markdown",
   "metadata": {},
   "source": [
    "*Looks like we have MR data*  \n",
    "*Looks like we can rely on patient IDs*"
   ]
  },
  {
   "cell_type": "markdown",
   "metadata": {},
   "source": [
    "How many total files"
   ]
  },
  {
   "cell_type": "code",
   "execution_count": 70,
   "metadata": {},
   "outputs": [
    {
     "data": {
      "text/plain": [
       "1794"
      ]
     },
     "execution_count": 70,
     "metadata": {},
     "output_type": "execute_result"
    }
   ],
   "source": [
    "instances = [f for l in series for f in l]\n",
    "len(instances)  # note: each instance in instances is a tuple"
   ]
  },
  {
   "cell_type": "code",
   "execution_count": 77,
   "metadata": {},
   "outputs": [
    {
     "name": "stdout",
     "output_type": "stream",
     "text": [
      "[(1, 11), (2, 22), (10, 110), (20, 220)]\n",
      "4\n"
     ]
    }
   ],
   "source": [
    "# attempt to understand above code\n",
    "hcseries = [[(1,11), (2,22)], [(10,110), (20,220)]]\n",
    "qqq = [f for l in hcseries for f in l]\n",
    "print(qqq)\n",
    "print(len(qqq))"
   ]
  },
  {
   "cell_type": "markdown",
   "metadata": {},
   "source": [
    "How many patients?"
   ]
  },
  {
   "cell_type": "code",
   "execution_count": 88,
   "metadata": {},
   "outputs": [
    {
     "data": {
      "text/plain": [
       "4"
      ]
     },
     "execution_count": 88,
     "metadata": {},
     "output_type": "execute_result"
    }
   ],
   "source": [
    "patient_ids = np.unique([inst[1].PatientID for inst in instances])\n",
    "len(patient_ids)"
   ]
  },
  {
   "cell_type": "markdown",
   "metadata": {},
   "source": [
    "*Great - no errors hence all instances have the PatientID tag, and looks like we can rely on it*"
   ]
  },
  {
   "cell_type": "markdown",
   "metadata": {},
   "source": [
    "How many total series (i.e. 3D volumes)?"
   ]
  },
  {
   "cell_type": "code",
   "execution_count": 91,
   "metadata": {},
   "outputs": [
    {
     "data": {
      "text/plain": [
       "76"
      ]
     },
     "execution_count": 91,
     "metadata": {},
     "output_type": "execute_result"
    }
   ],
   "source": [
    "len(series)"
   ]
  },
  {
   "cell_type": "markdown",
   "metadata": {},
   "source": [
    "What is the relationship between patients, studies and series?"
   ]
  },
  {
   "cell_type": "code",
   "execution_count": 92,
   "metadata": {},
   "outputs": [],
   "source": [
    "# How many studies?\n",
    "\n",
    "studies = {}\n",
    "\n",
    "# the following code appends new val to list of values corresponding to pre-existing key, else creates key-value\n",
    "for s in series:\n",
    "    studies.setdefault(s[0][1].StudyInstanceUID, []).append(s)"
   ]
  },
  {
   "cell_type": "code",
   "execution_count": 93,
   "metadata": {},
   "outputs": [
    {
     "data": {
      "text/plain": [
       "8"
      ]
     },
     "execution_count": 93,
     "metadata": {},
     "output_type": "execute_result"
    }
   ],
   "source": [
    "len(studies)"
   ]
  },
  {
   "cell_type": "markdown",
   "metadata": {},
   "source": [
    "Let's see how many studies per patient"
   ]
  },
  {
   "cell_type": "code",
   "execution_count": 94,
   "metadata": {},
   "outputs": [
    {
     "data": {
      "text/plain": [
       "[2, 2, 2, 2]"
      ]
     },
     "execution_count": 94,
     "metadata": {},
     "output_type": "execute_result"
    }
   ],
   "source": [
    "[len([st for st in studies.values() if st[0][0][1].PatientID == p]) for p in patient_ids]"
   ]
  },
  {
   "cell_type": "markdown",
   "metadata": {},
   "source": [
    "*Nice, all even. Let's look at directory on the file system.*  \n",
    "*Looks like 2 points in time per patient*"
   ]
  },
  {
   "cell_type": "code",
   "execution_count": 95,
   "metadata": {},
   "outputs": [
    {
     "data": {
      "text/plain": [
       "[(10, 'PGBM-001'),\n",
       " (10, 'PGBM-001'),\n",
       " (10, 'PGBM-003'),\n",
       " (10, 'PGBM-003'),\n",
       " (6, 'PGBM-006'),\n",
       " (10, 'PGBM-006'),\n",
       " (10, 'PGBM-008'),\n",
       " (10, 'PGBM-008')]"
      ]
     },
     "execution_count": 95,
     "metadata": {},
     "output_type": "execute_result"
    }
   ],
   "source": [
    "# Let's see how many series per study\n",
    "\n",
    "series_per_study = [(len(sr), sr[0][0][1].PatientID) for sr in studies.values()]\n",
    "series_per_study"
   ]
  },
  {
   "cell_type": "markdown",
   "metadata": {},
   "source": [
    "Let's take a quick glimpse at that outlier on the file system. \n",
    "\n",
    "- seems like it's missing some sequences"
   ]
  },
  {
   "cell_type": "markdown",
   "metadata": {},
   "source": [
    "Finally, how many images per series:"
   ]
  },
  {
   "cell_type": "code",
   "execution_count": 96,
   "metadata": {},
   "outputs": [
    {
     "name": "stdout",
     "output_type": "stream",
     "text": [
      "[24, 24, 24, 24, 24, 24, 24, 24, 24, 24, 25, 25, 25, 25, 25, 25, 25, 25, 25, 25, 22, 22, 22, 22, 22, 22, 22, 22, 22, 22, 24, 24, 24, 24, 24, 24, 24, 24, 24, 24, 24, 24, 24, 24, 24, 24, 24, 24, 24, 24, 24, 24, 24, 24, 24, 24, 24, 24, 24, 24, 24, 24, 24, 24, 24, 24, 22, 22, 22, 22, 22, 22, 22, 22, 22, 22]\n"
     ]
    }
   ],
   "source": [
    "img_per_series = [len(s) for s in series]\n",
    "print(img_per_series)"
   ]
  },
  {
   "cell_type": "markdown",
   "metadata": {},
   "source": [
    "*Nice, no outliers*"
   ]
  },
  {
   "cell_type": "markdown",
   "metadata": {},
   "source": [
    "Let's look at spacing and in-plane resolution:"
   ]
  },
  {
   "cell_type": "code",
   "execution_count": 97,
   "metadata": {},
   "outputs": [],
   "source": [
    "res = {}\n",
    "spc = {}\n",
    "thck = {}\n",
    "\n",
    "for sr in series:\n",
    "    dcm = sr[0][1]\n",
    "    key = str(dcm.PixelSpacing)\n",
    "    spc.setdefault(key, [])\n",
    "    spc[key].append((dcm.PatientID, dcm.StudyDescription, dcm.StudyDate, dcm.SeriesDescription))\n",
    "    \n",
    "    key = str((dcm.Rows, dcm.Columns))\n",
    "    res.setdefault(key, [])\n",
    "    res[key].append((dcm.PatientID, dcm.StudyDescription, dcm.StudyDate, dcm.SeriesDescription))\n",
    "    \n",
    "    key = str(dcm.SliceThickness)\n",
    "    thck.setdefault(key, [])\n",
    "    thck[key].append((dcm.PatientID, dcm.StudyDescription, dcm.StudyDate, dcm.SeriesDescription))\n",
    "    \n"
   ]
  },
  {
   "cell_type": "markdown",
   "metadata": {},
   "source": [
    "Let's look at slice thickness"
   ]
  },
  {
   "cell_type": "code",
   "execution_count": 98,
   "metadata": {},
   "outputs": [
    {
     "data": {
      "text/plain": [
       "dict_keys(['5', '5.000000'])"
      ]
     },
     "execution_count": 98,
     "metadata": {},
     "output_type": "execute_result"
    }
   ],
   "source": [
    "thck.keys()"
   ]
  },
  {
   "cell_type": "markdown",
   "metadata": {},
   "source": [
    "*Great, all consistent*\n",
    "\n",
    "Let's look at pixel spacing"
   ]
  },
  {
   "cell_type": "code",
   "execution_count": 99,
   "metadata": {},
   "outputs": [
    {
     "data": {
      "text/plain": [
       "dict_keys(['[0.6875, 0.6875]', '[0.68750000000000, 0.68750000000000]', '[0.687500, 0.687500]', '[0.4297, 0.4297]', '[0.42970000000000, 0.42970000000000]', '[0.429700, 0.429700]'])"
      ]
     },
     "execution_count": 99,
     "metadata": {},
     "output_type": "execute_result"
    }
   ],
   "source": [
    "spc.keys()"
   ]
  },
  {
   "cell_type": "markdown",
   "metadata": {},
   "source": [
    "*Not very consistent, let's try to see what is going on*"
   ]
  },
  {
   "cell_type": "code",
   "execution_count": 100,
   "metadata": {
    "scrolled": true
   },
   "outputs": [
    {
     "data": {
      "text/plain": [
       "{'[0.6875, 0.6875]': [('PGBM-001',\n",
       "   'FH-HEAD^Brain Protocols',\n",
       "   '19920402',\n",
       "   'T1post'),\n",
       "  ('PGBM-001', 'FH-HEAD^Brain Protocols', '19920402', 'T1pre_reg'),\n",
       "  ('PGBM-001', 'FH-HEAD^Brain Protocols', '19920402', 'FLAIR_reg'),\n",
       "  ('PGBM-001', 'FH-HEAD^Brain Protocols', '19920402', 'T2_reg'),\n",
       "  ('PGBM-001', 'FH-HEAD^Brain Protocols', '19911119', 'T1post'),\n",
       "  ('PGBM-001', 'FH-HEAD^Brain Protocols', '19911119', 'FLAIR_reg'),\n",
       "  ('PGBM-001', 'FH-HEAD^Brain Protocols', '19911119', 'T2_reg'),\n",
       "  ('PGBM-003', 'Mr Rcbv Sequence-Fh', '19950329', 'T1post'),\n",
       "  ('PGBM-003', 'Mr Rcbv Sequence-Fh', '19950329', 'T1pre_reg'),\n",
       "  ('PGBM-003', 'Mr Rcbv Sequence-Fh', '19950329', 'FLAIR_reg'),\n",
       "  ('PGBM-003', 'Mr Rcbv Sequence-Fh', '19950329', 'T2_reg'),\n",
       "  ('PGBM-008', 'FH-HEAD^Brain Protocols', '19930610', 'T1post'),\n",
       "  ('PGBM-008', 'FH-HEAD^Brain Protocols', '19930610', 'T1pre_reg'),\n",
       "  ('PGBM-008', 'FH-HEAD^Brain Protocols', '19930610', 'FLAIR_reg'),\n",
       "  ('PGBM-008', 'FH-HEAD^Brain Protocols', '19930610', 'T2_reg')],\n",
       " '[0.68750000000000, 0.68750000000000]': [('PGBM-001',\n",
       "   'FH-HEAD^Brain Protocols',\n",
       "   '19920402',\n",
       "   'dT1'),\n",
       "  ('PGBM-001', 'FH-HEAD^Brain Protocols', '19920402', 'ADC_reg'),\n",
       "  ('PGBM-001', 'FH-HEAD^Brain Protocols', '19920402', 'sRCBV_reg'),\n",
       "  ('PGBM-001', 'FH-HEAD^Brain Protocols', '19920402', 'nRCBV_reg'),\n",
       "  ('PGBM-001', 'FH-HEAD^Brain Protocols', '19920402', 'nCBF_reg'),\n",
       "  ('PGBM-001', 'FH-HEAD^Brain Protocols', '19911119', 'nCBF_reg'),\n",
       "  ('PGBM-001', 'FH-HEAD^Brain Protocols', '19911119', 'nRCBV_reg'),\n",
       "  ('PGBM-001', 'FH-HEAD^Brain Protocols', '19911119', 'sRCBV_reg'),\n",
       "  ('PGBM-001', 'FH-HEAD^Brain Protocols', '19911119', 'ADC_reg'),\n",
       "  ('PGBM-003', 'Mr Rcbv Sequence-Fh', '19950329', 'dT1'),\n",
       "  ('PGBM-003', 'Mr Rcbv Sequence-Fh', '19950329', 'nCBF_reg'),\n",
       "  ('PGBM-003', 'Mr Rcbv Sequence-Fh', '19950329', 'sRCBV_reg'),\n",
       "  ('PGBM-003', 'Mr Rcbv Sequence-Fh', '19950329', 'nRCBV_reg'),\n",
       "  ('PGBM-003', 'Mr Rcbv Sequence-Fh', '19950329', 'ADC_reg'),\n",
       "  ('PGBM-008', 'FH-HEAD^Brain Protocols', '19930610', 'dT1'),\n",
       "  ('PGBM-008', 'FH-HEAD^Brain Protocols', '19930610', 'ADC_reg'),\n",
       "  ('PGBM-008', 'FH-HEAD^Brain Protocols', '19930610', 'sRCBV_reg'),\n",
       "  ('PGBM-008', 'FH-HEAD^Brain Protocols', '19930610', 'nRCBV_reg'),\n",
       "  ('PGBM-008', 'FH-HEAD^Brain Protocols', '19930610', 'nCBF_reg')],\n",
       " '[0.687500, 0.687500]': [('PGBM-001',\n",
       "   'FH-HEAD^Brain Protocols',\n",
       "   '19920402',\n",
       "   'Mask_Tumor'),\n",
       "  ('PGBM-001', 'FH-HEAD^Brain Protocols', '19911119', 'T1pre_reg'),\n",
       "  ('PGBM-001', 'FH-HEAD^Brain Protocols', '19911119', 'dT1'),\n",
       "  ('PGBM-001', 'FH-HEAD^Brain Protocols', '19911119', 'Mask_Tumor'),\n",
       "  ('PGBM-003', 'Mr Rcbv Sequence-Fh', '19950329', 'Mask_Tumor'),\n",
       "  ('PGBM-008', 'FH-HEAD^Brain Protocols', '19930610', 'Mask_Tumor')],\n",
       " '[0.4297, 0.4297]': [('PGBM-003', 'MR RCBV SEQUENCE', '19951017', 'T1post'),\n",
       "  ('PGBM-003', 'MR RCBV SEQUENCE', '19951017', 'T1pre_reg'),\n",
       "  ('PGBM-003', 'MR RCBV SEQUENCE', '19951017', 'FLAIR_reg'),\n",
       "  ('PGBM-003', 'MR RCBV SEQUENCE', '19951017', 'T2_reg'),\n",
       "  ('PGBM-006', 'MR RCBV SEQUENCE', '19970211', 'T1pre_reg'),\n",
       "  ('PGBM-006', 'MR RCBV SEQUENCE', '19961210', 'T1post'),\n",
       "  ('PGBM-006', 'MR RCBV SEQUENCE', '19961210', 'T1pre_reg'),\n",
       "  ('PGBM-006', 'MR RCBV SEQUENCE', '19961210', 'FLAIR_reg'),\n",
       "  ('PGBM-006', 'MR RCBV SEQUENCE', '19961210', 'T2_reg'),\n",
       "  ('PGBM-008', 'MR RCBV SEQUENCE FH', '19920331', 'T1post'),\n",
       "  ('PGBM-008', 'MR RCBV SEQUENCE FH', '19920331', 'FLAIR_reg'),\n",
       "  ('PGBM-008', 'MR RCBV SEQUENCE FH', '19920331', 'T2_reg')],\n",
       " '[0.42970000000000, 0.42970000000000]': [('PGBM-003',\n",
       "   'MR RCBV SEQUENCE',\n",
       "   '19951017',\n",
       "   'dT1'),\n",
       "  ('PGBM-003', 'MR RCBV SEQUENCE', '19951017', 'ADC_reg'),\n",
       "  ('PGBM-003', 'MR RCBV SEQUENCE', '19951017', 'nCBF_reg'),\n",
       "  ('PGBM-003', 'MR RCBV SEQUENCE', '19951017', 'sRCBV_reg'),\n",
       "  ('PGBM-003', 'MR RCBV SEQUENCE', '19951017', 'nRCBV_reg'),\n",
       "  ('PGBM-006', 'MR RCBV SEQUENCE', '19970211', 'ADC_reg'),\n",
       "  ('PGBM-006', 'MR RCBV SEQUENCE', '19970211', 'nRCBV_reg'),\n",
       "  ('PGBM-006', 'MR RCBV SEQUENCE', '19970211', 'nCBF_reg'),\n",
       "  ('PGBM-006', 'MR RCBV SEQUENCE', '19970211', 'sRCBV_reg'),\n",
       "  ('PGBM-006', 'MR RCBV SEQUENCE', '19961210', 'dT1'),\n",
       "  ('PGBM-006', 'MR RCBV SEQUENCE', '19961210', 'ADC_reg'),\n",
       "  ('PGBM-006', 'MR RCBV SEQUENCE', '19961210', 'sRCBV_reg'),\n",
       "  ('PGBM-006', 'MR RCBV SEQUENCE', '19961210', 'nRCBV_reg'),\n",
       "  ('PGBM-006', 'MR RCBV SEQUENCE', '19961210', 'nCBF_reg'),\n",
       "  ('PGBM-008', 'MR RCBV SEQUENCE FH', '19920331', 'ADC_reg'),\n",
       "  ('PGBM-008', 'MR RCBV SEQUENCE FH', '19920331', 'nCBF_reg'),\n",
       "  ('PGBM-008', 'MR RCBV SEQUENCE FH', '19920331', 'sRCBV_reg'),\n",
       "  ('PGBM-008', 'MR RCBV SEQUENCE FH', '19920331', 'nRCBV_reg')],\n",
       " '[0.429700, 0.429700]': [('PGBM-003',\n",
       "   'MR RCBV SEQUENCE',\n",
       "   '19951017',\n",
       "   'Mask_Tumor'),\n",
       "  ('PGBM-006', 'MR RCBV SEQUENCE', '19970211', 'Mask_Tumor'),\n",
       "  ('PGBM-006', 'MR RCBV SEQUENCE', '19961210', 'Mask_Tumor'),\n",
       "  ('PGBM-008', 'MR RCBV SEQUENCE FH', '19920331', 'dT1'),\n",
       "  ('PGBM-008', 'MR RCBV SEQUENCE FH', '19920331', 'T1pre_reg'),\n",
       "  ('PGBM-008', 'MR RCBV SEQUENCE FH', '19920331', 'Mask_Tumor')]}"
      ]
     },
     "execution_count": 100,
     "metadata": {},
     "output_type": "execute_result"
    }
   ],
   "source": [
    "spc"
   ]
  },
  {
   "cell_type": "markdown",
   "metadata": {},
   "source": [
    "*So looks like there is a slight discrepancy among T1/T2 series. Note to self - make sure to resample if I'm using them.  \n",
    "Also, seems that some sequences have tighter pixels than others. If I'm using those, need to make sure resampling is meaningful*"
   ]
  },
  {
   "cell_type": "markdown",
   "metadata": {},
   "source": [
    "Let's look at in-plane resolution"
   ]
  },
  {
   "cell_type": "code",
   "execution_count": null,
   "metadata": {
    "scrolled": true
   },
   "outputs": [],
   "source": [
    "res.keys()"
   ]
  },
  {
   "cell_type": "markdown",
   "metadata": {},
   "source": [
    "*Not a lot of variety, but clearly some seq types are high-res, need to see what's up*"
   ]
  },
  {
   "cell_type": "code",
   "execution_count": null,
   "metadata": {
    "scrolled": true
   },
   "outputs": [],
   "source": [
    "res"
   ]
  },
  {
   "cell_type": "markdown",
   "metadata": {},
   "source": [
    "Now let's visualize some of those images and see if the series align with each other"
   ]
  },
  {
   "cell_type": "code",
   "execution_count": null,
   "metadata": {},
   "outputs": [],
   "source": [
    "# Let's try to see how images from same series stack w each other. We might want to use multiple\n",
    "# input channels for our problem\n",
    "\n",
    "# Remember, though, that we don't have the pixel data? Let's load it properly:\n",
    "\n",
    "seq1 = r\"PGBM-003\\10-17-1995-MR RCBV SEQUENCE-57198\\34911-T1prereg-46949\"\n",
    "t1_slices = [pydicom.dcmread(os.path.join(path, seq1, f)) for f in os.listdir(os.path.join(path, seq1))]\n",
    "t1_slices.sort(key = lambda inst: int(inst.ImagePositionPatient[2]))\n",
    "\n",
    "seq2 = r\"PGBM-003\\10-17-1995-MR RCBV SEQUENCE-57198\\36471-FLAIRreg-02052\"\n",
    "flair_slices = [pydicom.dcmread(os.path.join(path, seq2, f)) for f in os.listdir(os.path.join(path, seq2))]\n",
    "flair_slices.sort(key = lambda inst: int(inst.ImagePositionPatient[2]))"
   ]
  },
  {
   "cell_type": "code",
   "execution_count": null,
   "metadata": {},
   "outputs": [],
   "source": [
    "# t2_slices[0]"
   ]
  },
  {
   "cell_type": "code",
   "execution_count": null,
   "metadata": {},
   "outputs": [],
   "source": [
    "# flair_slices[0]"
   ]
  },
  {
   "cell_type": "code",
   "execution_count": null,
   "metadata": {},
   "outputs": [],
   "source": [
    "t1 = np.stack([s.pixel_array for s in t1_slices])\n",
    "flair = np.stack([s.pixel_array for s in flair_slices])"
   ]
  },
  {
   "cell_type": "code",
   "execution_count": null,
   "metadata": {},
   "outputs": [],
   "source": [
    "[ipp.ImagePositionPatient for ipp in t1_slices]"
   ]
  },
  {
   "cell_type": "code",
   "execution_count": null,
   "metadata": {
    "scrolled": true
   },
   "outputs": [],
   "source": [
    "[ipp.ImagePositionPatient for ipp in flair_slices]"
   ]
  },
  {
   "cell_type": "code",
   "execution_count": null,
   "metadata": {},
   "outputs": [],
   "source": [
    "np.array([ipp.ImageOrientationPatient for ipp in t1_slices]) - np.array([ipp.ImageOrientationPatient for ipp in flair_slices])"
   ]
  },
  {
   "cell_type": "code",
   "execution_count": null,
   "metadata": {
    "scrolled": true
   },
   "outputs": [],
   "source": [
    "t1.shape"
   ]
  },
  {
   "cell_type": "code",
   "execution_count": null,
   "metadata": {},
   "outputs": [],
   "source": [
    "flair.shape"
   ]
  },
  {
   "cell_type": "code",
   "execution_count": null,
   "metadata": {
    "scrolled": true
   },
   "outputs": [],
   "source": [
    "plt.imshow((flair+1.0*t2)[9,:,:], cmap=\"gray\")"
   ]
  },
  {
   "cell_type": "code",
   "execution_count": null,
   "metadata": {},
   "outputs": [],
   "source": [
    "plt.imshow((0.0*flair+t2)[9,:,:], cmap=\"gray\")"
   ]
  },
  {
   "cell_type": "markdown",
   "metadata": {},
   "source": [
    "At this point we could visualize a few more series, and probably run some code to ensure IPP and IOP alignment across all of the dataset. We could maybe load this data in Slicer to get a feel of what we are dealing with, and then start looking at the ground truth and photometrics. \n",
    "\n",
    "However, by going through these simple steps, we already learned the following about our dataset:\n",
    "\n",
    "* We are dealing with MR images\n",
    "* We have data from 4 patients\n",
    "* Each patient has 2 studies representing 2 time points\n",
    "* Each study has between 8 and 10 series, 76 series altogether\n",
    "* In total we have 1794 slices\n",
    "* We have varying pixel spacing, even within same sequence types\n",
    "* We have consistent slice thickness (5mm)\n",
    "* We have low-res slices (older ones) and higher-res slices (newer ones)\n",
    "* Our volumes seem to all be registered together and thus it is safe to just align them. I.e. they could be passed as multi-channel data into our ML algorithms\n",
    "\n",
    "That is a lot! "
   ]
  }
 ],
 "metadata": {
  "kernelspec": {
   "display_name": "Python 3",
   "language": "python",
   "name": "python3"
  },
  "language_info": {
   "codemirror_mode": {
    "name": "ipython",
    "version": 3
   },
   "file_extension": ".py",
   "mimetype": "text/x-python",
   "name": "python",
   "nbconvert_exporter": "python",
   "pygments_lexer": "ipython3",
   "version": "3.7.6"
  }
 },
 "nbformat": 4,
 "nbformat_minor": 4
}
